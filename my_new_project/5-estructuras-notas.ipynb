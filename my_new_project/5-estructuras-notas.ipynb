{
 "cells": [
  {
   "cell_type": "code",
   "execution_count": 2,
   "id": "6f229aee",
   "metadata": {},
   "outputs": [
    {
     "data": {
      "text/plain": [
       "1:3"
      ]
     },
     "execution_count": 2,
     "metadata": {},
     "output_type": "execute_result"
    }
   ],
   "source": [
    "a,b,c = 1:3"
   ]
  },
  {
   "cell_type": "code",
   "execution_count": 3,
   "id": "c12bb9cb",
   "metadata": {},
   "outputs": [
    {
     "data": {
      "text/plain": [
       "(1, var\"#1#2\"(), \"hola\")"
      ]
     },
     "execution_count": 3,
     "metadata": {},
     "output_type": "execute_result"
    }
   ],
   "source": [
    "t=1,x->x*x,\"hola\""
   ]
  },
  {
   "cell_type": "code",
   "execution_count": 7,
   "id": "3d2cd23d",
   "metadata": {},
   "outputs": [
    {
     "ename": "LoadError",
     "evalue": "UndefVarError: printil not defined",
     "output_type": "error",
     "traceback": [
      "UndefVarError: printil not defined",
      "",
      "Stacktrace:",
      " [1] top-level scope",
      "   @ In[7]:1",
      " [2] eval",
      "   @ ./boot.jl:373 [inlined]",
      " [3] include_string(mapexpr::typeof(REPL.softscope), mod::Module, code::String, filename::String)",
      "   @ Base ./loading.jl:1196"
     ]
    }
   ],
   "source": [
    "t[1]\n",
    "t[2]\n",
    "t[3]"
   ]
  },
  {
   "cell_type": "code",
   "execution_count": 8,
   "id": "c67a2136",
   "metadata": {},
   "outputs": [
    {
     "data": {
      "text/plain": [
       "(1, var\"#1#2\"())"
      ]
     },
     "execution_count": 8,
     "metadata": {},
     "output_type": "execute_result"
    }
   ],
   "source": [
    "t[1:2]"
   ]
  },
  {
   "cell_type": "code",
   "execution_count": 9,
   "id": "1ed35f11",
   "metadata": {},
   "outputs": [],
   "source": [
    "# las listas son mutables pero las tuplas no"
   ]
  },
  {
   "cell_type": "code",
   "execution_count": 10,
   "id": "846f9f6e",
   "metadata": {},
   "outputs": [
    {
     "data": {
      "text/plain": [
       "(\"a\", \"c\", \"b\", 6, 7, 3, 2)"
      ]
     },
     "execution_count": 10,
     "metadata": {},
     "output_type": "execute_result"
    }
   ],
   "source": [
    "t=\"a\",\"c\",\"b\",6,7,3,2\n",
    "# acá no estámos re-definiendo la tupla anterior sino que ahora la variable t apunta a esta nueva tupla en memoria\n",
    "# la tupla anterior sigue existiendo pero quedó \"huerfana\", eventualmente se borrará.\n",
    "\n",
    "#ojo! tupla no es lo mismo que un \"puntero\" en C, sino que es algo más complejo"
   ]
  },
  {
   "cell_type": "code",
   "execution_count": 13,
   "id": "5cfe906e",
   "metadata": {},
   "outputs": [
    {
     "data": {
      "text/plain": [
       "(Any[1, \"c\", 3], 4)"
      ]
     },
     "execution_count": 13,
     "metadata": {},
     "output_type": "execute_result"
    }
   ],
   "source": [
    "z=([1,\"c\",3],4)"
   ]
  },
  {
   "cell_type": "code",
   "execution_count": 14,
   "id": "3a8fa89e",
   "metadata": {},
   "outputs": [
    {
     "data": {
      "text/plain": [
       "\"a\""
      ]
     },
     "execution_count": 14,
     "metadata": {},
     "output_type": "execute_result"
    }
   ],
   "source": [
    "z[1][2]=\"a\""
   ]
  },
  {
   "cell_type": "code",
   "execution_count": 15,
   "id": "4f7e2d04",
   "metadata": {},
   "outputs": [
    {
     "data": {
      "text/plain": [
       "(Any[1, \"a\", 3], 4)"
      ]
     },
     "execution_count": 15,
     "metadata": {},
     "output_type": "execute_result"
    }
   ],
   "source": [
    "z"
   ]
  },
  {
   "cell_type": "code",
   "execution_count": 16,
   "id": "b1c00311",
   "metadata": {},
   "outputs": [],
   "source": [
    "#notemos que la tupla no es mutable pero si dentro tiene algo mutable se puede mutar"
   ]
  },
  {
   "cell_type": "code",
   "execution_count": 17,
   "id": "af89e878",
   "metadata": {},
   "outputs": [
    {
     "name": "stdout",
     "output_type": "stream",
     "text": [
      "i = 1\n",
      "i = 2\n",
      "i = 3\n",
      "i = 4\n",
      "i = 5\n",
      "i = 6\n"
     ]
    }
   ],
   "source": [
    "for i in (1,2,3,4,5,6)\n",
    "    @show i\n",
    "end"
   ]
  },
  {
   "cell_type": "code",
   "execution_count": 18,
   "id": "192c97ce",
   "metadata": {},
   "outputs": [
    {
     "data": {
      "text/plain": [
       "quote\n",
       "end"
      ]
     },
     "execution_count": 18,
     "metadata": {},
     "output_type": "execute_result"
    }
   ],
   "source": [
    "i=1\n",
    "@macroexpand @show"
   ]
  },
  {
   "cell_type": "code",
   "execution_count": 19,
   "id": "1c5bcfb5",
   "metadata": {},
   "outputs": [],
   "source": [
    "#Tuplas nombradas (numed tuples), es muy muy similar a \"struct\" de C"
   ]
  },
  {
   "cell_type": "code",
   "execution_count": 20,
   "id": "05f1d125",
   "metadata": {},
   "outputs": [
    {
     "data": {
      "text/plain": [
       ":x"
      ]
     },
     "execution_count": 20,
     "metadata": {},
     "output_type": "execute_result"
    }
   ],
   "source": [
    "# fabriquemos un símbolo\n",
    ":x"
   ]
  },
  {
   "cell_type": "code",
   "execution_count": 24,
   "id": "2839a5f3",
   "metadata": {},
   "outputs": [
    {
     "data": {
      "text/plain": [
       "1-element Vector{Any}:\n",
       " #undef"
      ]
     },
     "execution_count": 24,
     "metadata": {},
     "output_type": "execute_result"
    }
   ],
   "source": [
    "#formalmente un arreglo se constuye así\n",
    "x=Array{Any,1}(undef,a)"
   ]
  },
  {
   "cell_type": "code",
   "execution_count": 27,
   "id": "5b998453",
   "metadata": {},
   "outputs": [
    {
     "data": {
      "text/plain": [
       "2×3 Matrix{Int64}:\n",
       " 5  5  5\n",
       " 5  5  5"
      ]
     },
     "execution_count": 27,
     "metadata": {},
     "output_type": "execute_result"
    }
   ],
   "source": [
    "N=2\n",
    "M=3\n",
    "k=5\n",
    "\n",
    "zeros(N,M)\n",
    "rand(N,M)\n",
    "ones(N,M)\n",
    "#crean matrices con ceros, numeros aleatorios y unos respectivamente\n",
    "\n",
    "fill(k, N, M) #crea una matriz que tiene todos numeros k"
   ]
  },
  {
   "cell_type": "code",
   "execution_count": 28,
   "id": "d7e92053",
   "metadata": {},
   "outputs": [],
   "source": [
    "# Julia es row-major como FORTRAN pero recordar que C es colum-major"
   ]
  },
  {
   "cell_type": "code",
   "execution_count": 29,
   "id": "b1b137c9",
   "metadata": {},
   "outputs": [
    {
     "ename": "LoadError",
     "evalue": "LoadError: MethodError: no method matching var\"@time\"(::LineNumberNode, ::Module)\n\u001b[0mClosest candidates are:\n\u001b[0m  var\"@time\"(::LineNumberNode, ::Module, \u001b[91m::Any\u001b[39m) at ~/julia-1.7.2/share/julia/base/timing.jl:214\nin expression starting at In[29]:4",
     "output_type": "error",
     "traceback": [
      "LoadError: MethodError: no method matching var\"@time\"(::LineNumberNode, ::Module)\n\u001b[0mClosest candidates are:\n\u001b[0m  var\"@time\"(::LineNumberNode, ::Module, \u001b[91m::Any\u001b[39m) at ~/julia-1.7.2/share/julia/base/timing.jl:214\nin expression starting at In[29]:4",
      "",
      "Stacktrace:",
      " [1] eval",
      "   @ ./boot.jl:373 [inlined]",
      " [2] include_string(mapexpr::typeof(REPL.softscope), mod::Module, code::String, filename::String)",
      "   @ Base ./loading.jl:1196"
     ]
    }
   ],
   "source": [
    "#al medir tiempos siempre hay que correr dos veces, porque la primera vez puede medir el tiempo de compilación\n",
    "\n",
    "#medir tiempo con\n",
    "@time\n",
    "\n",
    "#o usen la alternativa\n",
    "@btime"
   ]
  },
  {
   "cell_type": "code",
   "execution_count": 30,
   "id": "b1988e0e",
   "metadata": {},
   "outputs": [],
   "source": [
    "# no hay algo parecido a Switch case en Julia"
   ]
  },
  {
   "cell_type": "code",
   "execution_count": 31,
   "id": "88215dde",
   "metadata": {},
   "outputs": [
    {
     "name": "stdout",
     "output_type": "stream",
     "text": [
      "search: \u001b[0m\u001b[1mc\u001b[22m\u001b[0m\u001b[1ma\u001b[22m\u001b[0m\u001b[1mt\u001b[22m \u001b[0m\u001b[1mc\u001b[22m\u001b[0m\u001b[1ma\u001b[22m\u001b[0m\u001b[1mt\u001b[22mch \u001b[0m\u001b[1mc\u001b[22m\u001b[0m\u001b[1ma\u001b[22m\u001b[0m\u001b[1mt\u001b[22mch_backtrace v\u001b[0m\u001b[1mc\u001b[22m\u001b[0m\u001b[1ma\u001b[22m\u001b[0m\u001b[1mt\u001b[22m h\u001b[0m\u001b[1mc\u001b[22m\u001b[0m\u001b[1ma\u001b[22m\u001b[0m\u001b[1mt\u001b[22m hv\u001b[0m\u001b[1mc\u001b[22m\u001b[0m\u001b[1ma\u001b[22m\u001b[0m\u001b[1mt\u001b[22m hvn\u001b[0m\u001b[1mc\u001b[22m\u001b[0m\u001b[1ma\u001b[22m\u001b[0m\u001b[1mt\u001b[22m \u001b[0m\u001b[1mC\u001b[22m\u001b[0m\u001b[1ma\u001b[22mr\u001b[0m\u001b[1mt\u001b[22mesianIndex\n",
      "\n"
     ]
    },
    {
     "data": {
      "text/latex": [
       "\\begin{verbatim}\n",
       "cat(A...; dims)\n",
       "\\end{verbatim}\n",
       "Concatenate the input arrays along the specified dimensions in the iterable \\texttt{dims}. For dimensions not in \\texttt{dims}, all input arrays should have the same size, which will also be the size of the output array along that dimension. For dimensions in \\texttt{dims}, the size of the output array is the sum of the sizes of the input arrays along that dimension. If \\texttt{dims} is a single number, the different arrays are tightly stacked along that dimension. If \\texttt{dims} is an iterable containing several dimensions, this allows one to construct block diagonal matrices and their higher-dimensional analogues by simultaneously increasing several dimensions for every new input array and putting zero blocks elsewhere. For example, \\texttt{cat(matrices...; dims=(1,2))} builds a block diagonal matrix, i.e. a block matrix with \\texttt{matrices[1]}, \\texttt{matrices[2]}, ... as diagonal blocks and matching zero blocks away from the diagonal.\n",
       "\n",
       "See also \\href{@ref}{\\texttt{hcat}}, \\href{@ref}{\\texttt{vcat}}, \\href{@ref}{\\texttt{hvcat}}, \\href{@ref}{\\texttt{repeat}}.\n",
       "\n",
       "\\section{Examples}\n",
       "\\begin{verbatim}\n",
       "julia> cat([1 2; 3 4], [pi, pi], fill(10, 2,3,1); dims=2)\n",
       "2×6×1 Array{Float64, 3}:\n",
       "[:, :, 1] =\n",
       " 1.0  2.0  3.14159  10.0  10.0  10.0\n",
       " 3.0  4.0  3.14159  10.0  10.0  10.0\n",
       "\n",
       "julia> cat(true, trues(2,2), trues(4)', dims=(1,2))\n",
       "4×7 Matrix{Bool}:\n",
       " 1  0  0  0  0  0  0\n",
       " 0  1  1  0  0  0  0\n",
       " 0  1  1  0  0  0  0\n",
       " 0  0  0  1  1  1  1\n",
       "\\end{verbatim}\n"
      ],
      "text/markdown": [
       "```\n",
       "cat(A...; dims)\n",
       "```\n",
       "\n",
       "Concatenate the input arrays along the specified dimensions in the iterable `dims`. For dimensions not in `dims`, all input arrays should have the same size, which will also be the size of the output array along that dimension. For dimensions in `dims`, the size of the output array is the sum of the sizes of the input arrays along that dimension. If `dims` is a single number, the different arrays are tightly stacked along that dimension. If `dims` is an iterable containing several dimensions, this allows one to construct block diagonal matrices and their higher-dimensional analogues by simultaneously increasing several dimensions for every new input array and putting zero blocks elsewhere. For example, `cat(matrices...; dims=(1,2))` builds a block diagonal matrix, i.e. a block matrix with `matrices[1]`, `matrices[2]`, ... as diagonal blocks and matching zero blocks away from the diagonal.\n",
       "\n",
       "See also [`hcat`](@ref), [`vcat`](@ref), [`hvcat`](@ref), [`repeat`](@ref).\n",
       "\n",
       "# Examples\n",
       "\n",
       "```jldoctest\n",
       "julia> cat([1 2; 3 4], [pi, pi], fill(10, 2,3,1); dims=2)\n",
       "2×6×1 Array{Float64, 3}:\n",
       "[:, :, 1] =\n",
       " 1.0  2.0  3.14159  10.0  10.0  10.0\n",
       " 3.0  4.0  3.14159  10.0  10.0  10.0\n",
       "\n",
       "julia> cat(true, trues(2,2), trues(4)', dims=(1,2))\n",
       "4×7 Matrix{Bool}:\n",
       " 1  0  0  0  0  0  0\n",
       " 0  1  1  0  0  0  0\n",
       " 0  1  1  0  0  0  0\n",
       " 0  0  0  1  1  1  1\n",
       "```\n"
      ],
      "text/plain": [
       "\u001b[36m  cat(A...; dims)\u001b[39m\n",
       "\n",
       "  Concatenate the input arrays along the specified dimensions in the iterable\n",
       "  \u001b[36mdims\u001b[39m. For dimensions not in \u001b[36mdims\u001b[39m, all input arrays should have the same\n",
       "  size, which will also be the size of the output array along that dimension.\n",
       "  For dimensions in \u001b[36mdims\u001b[39m, the size of the output array is the sum of the sizes\n",
       "  of the input arrays along that dimension. If \u001b[36mdims\u001b[39m is a single number, the\n",
       "  different arrays are tightly stacked along that dimension. If \u001b[36mdims\u001b[39m is an\n",
       "  iterable containing several dimensions, this allows one to construct block\n",
       "  diagonal matrices and their higher-dimensional analogues by simultaneously\n",
       "  increasing several dimensions for every new input array and putting zero\n",
       "  blocks elsewhere. For example, \u001b[36mcat(matrices...; dims=(1,2))\u001b[39m builds a block\n",
       "  diagonal matrix, i.e. a block matrix with \u001b[36mmatrices[1]\u001b[39m, \u001b[36mmatrices[2]\u001b[39m, ... as\n",
       "  diagonal blocks and matching zero blocks away from the diagonal.\n",
       "\n",
       "  See also \u001b[36mhcat\u001b[39m, \u001b[36mvcat\u001b[39m, \u001b[36mhvcat\u001b[39m, \u001b[36mrepeat\u001b[39m.\n",
       "\n",
       "\u001b[1m  Examples\u001b[22m\n",
       "\u001b[1m  ≡≡≡≡≡≡≡≡≡≡\u001b[22m\n",
       "\n",
       "\u001b[36m  julia> cat([1 2; 3 4], [pi, pi], fill(10, 2,3,1); dims=2)\u001b[39m\n",
       "\u001b[36m  2×6×1 Array{Float64, 3}:\u001b[39m\n",
       "\u001b[36m  [:, :, 1] =\u001b[39m\n",
       "\u001b[36m   1.0  2.0  3.14159  10.0  10.0  10.0\u001b[39m\n",
       "\u001b[36m   3.0  4.0  3.14159  10.0  10.0  10.0\u001b[39m\n",
       "\u001b[36m  \u001b[39m\n",
       "\u001b[36m  julia> cat(true, trues(2,2), trues(4)', dims=(1,2))\u001b[39m\n",
       "\u001b[36m  4×7 Matrix{Bool}:\u001b[39m\n",
       "\u001b[36m   1  0  0  0  0  0  0\u001b[39m\n",
       "\u001b[36m   0  1  1  0  0  0  0\u001b[39m\n",
       "\u001b[36m   0  1  1  0  0  0  0\u001b[39m\n",
       "\u001b[36m   0  0  0  1  1  1  1\u001b[39m"
      ]
     },
     "execution_count": 31,
     "metadata": {},
     "output_type": "execute_result"
    }
   ],
   "source": [
    "?cat"
   ]
  },
  {
   "cell_type": "code",
   "execution_count": 32,
   "id": "00e74bd8",
   "metadata": {},
   "outputs": [
    {
     "name": "stdout",
     "output_type": "stream",
     "text": [
      "search: \u001b[0m\u001b[1mv\u001b[22m\u001b[0m\u001b[1mi\u001b[22m\u001b[0m\u001b[1me\u001b[22m\u001b[0m\u001b[1mw\u001b[22m @\u001b[0m\u001b[1mv\u001b[22m\u001b[0m\u001b[1mi\u001b[22m\u001b[0m\u001b[1me\u001b[22m\u001b[0m\u001b[1mw\u001b[22m @\u001b[0m\u001b[1mv\u001b[22m\u001b[0m\u001b[1mi\u001b[22m\u001b[0m\u001b[1me\u001b[22m\u001b[0m\u001b[1mw\u001b[22ms Di\u001b[0m\u001b[1mv\u001b[22m\u001b[0m\u001b[1mi\u001b[22md\u001b[0m\u001b[1me\u001b[22mError e\u001b[0m\u001b[1mv\u001b[22malf\u001b[0m\u001b[1mi\u001b[22ml\u001b[0m\u001b[1me\u001b[22m reada\u001b[0m\u001b[1mv\u001b[22ma\u001b[0m\u001b[1mi\u001b[22mlabl\u001b[0m\u001b[1me\u001b[22m bytesa\u001b[0m\u001b[1mv\u001b[22ma\u001b[0m\u001b[1mi\u001b[22mlabl\u001b[0m\u001b[1me\u001b[22m\n",
      "\n"
     ]
    },
    {
     "data": {
      "text/latex": [
       "\\begin{verbatim}\n",
       "view(A, inds...)\n",
       "\\end{verbatim}\n",
       "Like \\href{@ref}{\\texttt{getindex}}, but returns a lightweight array that lazily references (or is effectively a \\emph{view} into) the parent array \\texttt{A} at the given index or indices \\texttt{inds} instead of eagerly extracting elements or constructing a copied subset. Calling \\href{@ref}{\\texttt{getindex}} or \\href{@ref}{\\texttt{setindex!}} on the returned value (often a \\href{@ref}{\\texttt{SubArray}}) computes the indices to access or modify the parent array on the fly.  The behavior is undefined if the shape of the parent array is changed after \\texttt{view} is called because there is no bound check for the parent array; e.g., it may cause a segmentation fault.\n",
       "\n",
       "Some immutable parent arrays (like ranges) may choose to simply recompute a new array in some circumstances instead of returning a \\texttt{SubArray} if doing so is efficient and provides compatible semantics.\n",
       "\n",
       "\\begin{quote}\n",
       "\\textbf{compat}\n",
       "\n",
       "Julia 1.6\n",
       "\n",
       "In Julia 1.6 or later, \\texttt{view} can be called on an \\texttt{AbstractString}, returning a \\texttt{SubString}.\n",
       "\n",
       "\\end{quote}\n",
       "\\section{Examples}\n",
       "\\begin{verbatim}\n",
       "julia> A = [1 2; 3 4]\n",
       "2×2 Matrix{Int64}:\n",
       " 1  2\n",
       " 3  4\n",
       "\n",
       "julia> b = view(A, :, 1)\n",
       "2-element view(::Matrix{Int64}, :, 1) with eltype Int64:\n",
       " 1\n",
       " 3\n",
       "\n",
       "julia> fill!(b, 0)\n",
       "2-element view(::Matrix{Int64}, :, 1) with eltype Int64:\n",
       " 0\n",
       " 0\n",
       "\n",
       "julia> A # Note A has changed even though we modified b\n",
       "2×2 Matrix{Int64}:\n",
       " 0  2\n",
       " 0  4\n",
       "\n",
       "julia> view(2:5, 2:3) # returns a range as type is immutable\n",
       "3:4\n",
       "\\end{verbatim}\n"
      ],
      "text/markdown": [
       "```\n",
       "view(A, inds...)\n",
       "```\n",
       "\n",
       "Like [`getindex`](@ref), but returns a lightweight array that lazily references (or is effectively a *view* into) the parent array `A` at the given index or indices `inds` instead of eagerly extracting elements or constructing a copied subset. Calling [`getindex`](@ref) or [`setindex!`](@ref) on the returned value (often a [`SubArray`](@ref)) computes the indices to access or modify the parent array on the fly.  The behavior is undefined if the shape of the parent array is changed after `view` is called because there is no bound check for the parent array; e.g., it may cause a segmentation fault.\n",
       "\n",
       "Some immutable parent arrays (like ranges) may choose to simply recompute a new array in some circumstances instead of returning a `SubArray` if doing so is efficient and provides compatible semantics.\n",
       "\n",
       "!!! compat \"Julia 1.6\"\n",
       "    In Julia 1.6 or later, `view` can be called on an `AbstractString`, returning a `SubString`.\n",
       "\n",
       "\n",
       "# Examples\n",
       "\n",
       "```jldoctest\n",
       "julia> A = [1 2; 3 4]\n",
       "2×2 Matrix{Int64}:\n",
       " 1  2\n",
       " 3  4\n",
       "\n",
       "julia> b = view(A, :, 1)\n",
       "2-element view(::Matrix{Int64}, :, 1) with eltype Int64:\n",
       " 1\n",
       " 3\n",
       "\n",
       "julia> fill!(b, 0)\n",
       "2-element view(::Matrix{Int64}, :, 1) with eltype Int64:\n",
       " 0\n",
       " 0\n",
       "\n",
       "julia> A # Note A has changed even though we modified b\n",
       "2×2 Matrix{Int64}:\n",
       " 0  2\n",
       " 0  4\n",
       "\n",
       "julia> view(2:5, 2:3) # returns a range as type is immutable\n",
       "3:4\n",
       "```\n"
      ],
      "text/plain": [
       "\u001b[36m  view(A, inds...)\u001b[39m\n",
       "\n",
       "  Like \u001b[36mgetindex\u001b[39m, but returns a lightweight array that lazily references (or is\n",
       "  effectively a \u001b[4mview\u001b[24m into) the parent array \u001b[36mA\u001b[39m at the given index or indices\n",
       "  \u001b[36minds\u001b[39m instead of eagerly extracting elements or constructing a copied subset.\n",
       "  Calling \u001b[36mgetindex\u001b[39m or \u001b[36msetindex!\u001b[39m on the returned value (often a \u001b[36mSubArray\u001b[39m)\n",
       "  computes the indices to access or modify the parent array on the fly. The\n",
       "  behavior is undefined if the shape of the parent array is changed after \u001b[36mview\u001b[39m\n",
       "  is called because there is no bound check for the parent array; e.g., it may\n",
       "  cause a segmentation fault.\n",
       "\n",
       "  Some immutable parent arrays (like ranges) may choose to simply recompute a\n",
       "  new array in some circumstances instead of returning a \u001b[36mSubArray\u001b[39m if doing so\n",
       "  is efficient and provides compatible semantics.\n",
       "\n",
       "\u001b[39m\u001b[1m  │ \u001b[22m\u001b[39m\u001b[1mJulia 1.6\u001b[22m\n",
       "\u001b[39m\u001b[1m  │\u001b[22m\n",
       "\u001b[39m\u001b[1m  │\u001b[22m  In Julia 1.6 or later, \u001b[36mview\u001b[39m can be called on an \u001b[36mAbstractString\u001b[39m,\n",
       "\u001b[39m\u001b[1m  │\u001b[22m  returning a \u001b[36mSubString\u001b[39m.\n",
       "\n",
       "\u001b[1m  Examples\u001b[22m\n",
       "\u001b[1m  ≡≡≡≡≡≡≡≡≡≡\u001b[22m\n",
       "\n",
       "\u001b[36m  julia> A = [1 2; 3 4]\u001b[39m\n",
       "\u001b[36m  2×2 Matrix{Int64}:\u001b[39m\n",
       "\u001b[36m   1  2\u001b[39m\n",
       "\u001b[36m   3  4\u001b[39m\n",
       "\u001b[36m  \u001b[39m\n",
       "\u001b[36m  julia> b = view(A, :, 1)\u001b[39m\n",
       "\u001b[36m  2-element view(::Matrix{Int64}, :, 1) with eltype Int64:\u001b[39m\n",
       "\u001b[36m   1\u001b[39m\n",
       "\u001b[36m   3\u001b[39m\n",
       "\u001b[36m  \u001b[39m\n",
       "\u001b[36m  julia> fill!(b, 0)\u001b[39m\n",
       "\u001b[36m  2-element view(::Matrix{Int64}, :, 1) with eltype Int64:\u001b[39m\n",
       "\u001b[36m   0\u001b[39m\n",
       "\u001b[36m   0\u001b[39m\n",
       "\u001b[36m  \u001b[39m\n",
       "\u001b[36m  julia> A # Note A has changed even though we modified b\u001b[39m\n",
       "\u001b[36m  2×2 Matrix{Int64}:\u001b[39m\n",
       "\u001b[36m   0  2\u001b[39m\n",
       "\u001b[36m   0  4\u001b[39m\n",
       "\u001b[36m  \u001b[39m\n",
       "\u001b[36m  julia> view(2:5, 2:3) # returns a range as type is immutable\u001b[39m\n",
       "\u001b[36m  3:4\u001b[39m"
      ]
     },
     "execution_count": 32,
     "metadata": {},
     "output_type": "execute_result"
    }
   ],
   "source": [
    "?view"
   ]
  },
  {
   "cell_type": "code",
   "execution_count": 33,
   "id": "d7ffe446",
   "metadata": {},
   "outputs": [],
   "source": [
    "#=\n",
    "\n",
    "\"r\": Open for reading only, failing if no file exists\n",
    "\"r+\": Open for reading and writing, failing if no file exists\n",
    "\"w\"/\"w+\": Open for reading and writing, overwriting the file if it already exists\n",
    "\"a\"/\"a+\": Open for reading and writing, creating a new file if none exists, but preserving the existing file if one is present\n",
    "\n",
    "=#"
   ]
  },
  {
   "cell_type": "code",
   "execution_count": null,
   "id": "b8eebebb",
   "metadata": {},
   "outputs": [],
   "source": []
  }
 ],
 "metadata": {
  "kernelspec": {
   "display_name": "Julia 1.7.2",
   "language": "julia",
   "name": "julia-1.7"
  },
  "language_info": {
   "file_extension": ".jl",
   "mimetype": "application/julia",
   "name": "julia",
   "version": "1.7.2"
  }
 },
 "nbformat": 4,
 "nbformat_minor": 5
}
