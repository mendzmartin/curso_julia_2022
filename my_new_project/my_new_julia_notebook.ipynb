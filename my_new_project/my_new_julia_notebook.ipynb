{
 "cells": [
  {
   "cell_type": "code",
   "execution_count": 5,
   "id": "25ee1794",
   "metadata": {},
   "outputs": [
    {
     "data": {
      "text/plain": [
       "2"
      ]
     },
     "execution_count": 5,
     "metadata": {},
     "output_type": "execute_result"
    }
   ],
   "source": [
    "1+1 # hola"
   ]
  },
  {
   "cell_type": "code",
   "execution_count": 2,
   "id": "184bb068",
   "metadata": {},
   "outputs": [],
   "source": [
    "using Pkg #hola"
   ]
  },
  {
   "cell_type": "code",
   "execution_count": 3,
   "id": "0c26fe47",
   "metadata": {},
   "outputs": [
    {
     "name": "stderr",
     "output_type": "stream",
     "text": [
      "\u001b[32m\u001b[1m    Updating\u001b[22m\u001b[39m registry at `~/.julia/registries/General.toml`\n",
      "\u001b[32m\u001b[1m   Resolving\u001b[22m\u001b[39m package versions...\n",
      "\u001b[32m\u001b[1m  No Changes\u001b[22m\u001b[39m to `~/my_repositories/curso_julia_2022/my_new_project/Project.toml`\n",
      "\u001b[32m\u001b[1m  No Changes\u001b[22m\u001b[39m to `~/my_repositories/curso_julia_2022/my_new_project/Manifest.toml`\n"
     ]
    }
   ],
   "source": [
    "Pkg.add(\"Plots\")"
   ]
  },
  {
   "cell_type": "code",
   "execution_count": 4,
   "id": "e2e783bd",
   "metadata": {},
   "outputs": [],
   "source": [
    "using Plots"
   ]
  },
  {
   "cell_type": "markdown",
   "id": "fbf74c46",
   "metadata": {},
   "source": [
    "Esto es un Markdown"
   ]
  },
  {
   "cell_type": "code",
   "execution_count": null,
   "id": "bc97d1ac",
   "metadata": {},
   "outputs": [],
   "source": []
  }
 ],
 "metadata": {
  "kernelspec": {
   "display_name": "Julia 1.7.2",
   "language": "julia",
   "name": "julia-1.7"
  },
  "language_info": {
   "file_extension": ".jl",
   "mimetype": "application/julia",
   "name": "julia",
   "version": "1.7.2"
  }
 },
 "nbformat": 4,
 "nbformat_minor": 5
}
