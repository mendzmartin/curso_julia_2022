{
 "cells": [
  {
   "cell_type": "code",
   "execution_count": 5,
   "id": "25ee1794",
   "metadata": {},
   "outputs": [
    {
     "data": {
      "text/plain": [
       "2"
      ]
     },
     "execution_count": 5,
     "metadata": {},
     "output_type": "execute_result"
    }
   ],
   "source": [
    "1+1 # hola"
   ]
  },
  {
   "cell_type": "code",
   "execution_count": 2,
   "id": "184bb068",
   "metadata": {},
   "outputs": [],
   "source": [
    "using Pkg #hola"
   ]
  },
  {
   "cell_type": "code",
   "execution_count": 3,
   "id": "0c26fe47",
   "metadata": {},
   "outputs": [
    {
     "name": "stderr",
     "output_type": "stream",
     "text": [
      "\u001b[32m\u001b[1m    Updating\u001b[22m\u001b[39m registry at `~/.julia/registries/General.toml`\n",
      "\u001b[32m\u001b[1m   Resolving\u001b[22m\u001b[39m package versions...\n",
      "\u001b[32m\u001b[1m  No Changes\u001b[22m\u001b[39m to `~/my_repositories/curso_julia_2022/my_new_project/Project.toml`\n",
      "\u001b[32m\u001b[1m  No Changes\u001b[22m\u001b[39m to `~/my_repositories/curso_julia_2022/my_new_project/Manifest.toml`\n"
     ]
    }
   ],
   "source": [
    "Pkg.add(\"Plots\")"
   ]
  },
  {
   "cell_type": "code",
   "execution_count": 4,
   "id": "e2e783bd",
   "metadata": {},
   "outputs": [],
   "source": [
    "using Plots"
   ]
  },
  {
   "cell_type": "markdown",
   "id": "fbf74c46",
   "metadata": {},
   "source": [
    "Esto es un Markdown"
   ]
  },
  {
   "cell_type": "code",
   "execution_count": 29,
   "id": "1ae088f1",
   "metadata": {},
   "outputs": [],
   "source": [
    "#=\n",
    "escribo todo el\n",
    "texto en \n",
    "distintos renglones\n",
    "asi como re loquetoooo\n",
    "=#"
   ]
  },
  {
   "cell_type": "code",
   "execution_count": 36,
   "id": "11f9b280",
   "metadata": {},
   "outputs": [
    {
     "data": {
      "text/plain": [
       "\"aquí escribimos documentación\\n\\nversión 0.001\\nhoy la escribi\\n\""
      ]
     },
     "execution_count": 36,
     "metadata": {},
     "output_type": "execute_result"
    }
   ],
   "source": [
    "#Docstring\n",
    "\"\"\"\n",
    "aquí escribimos documentación\n",
    "\n",
    "versión 0.001\n",
    "hoy la escribi\n",
    "\"\"\""
   ]
  },
  {
   "cell_type": "markdown",
   "id": "51a2cd19",
   "metadata": {},
   "source": [
    "Clase03 - Operaciones Basicas\n",
    "Introducción a la Programacion en Julia"
   ]
  },
  {
   "cell_type": "code",
   "execution_count": 9,
   "id": "811b6cdb",
   "metadata": {},
   "outputs": [
    {
     "name": "stdout",
     "output_type": "stream",
     "text": [
      "Hello world Juliano!\n",
      "Excelente dia para aprender Julia\n"
     ]
    }
   ],
   "source": [
    "println(\"Hello world Juliano!\")\n",
    "println(\"Excelente dia para aprender Julia\")"
   ]
  },
  {
   "cell_type": "code",
   "execution_count": 10,
   "id": "89a895ec",
   "metadata": {},
   "outputs": [
    {
     "name": "stdout",
     "output_type": "stream",
     "text": [
      "Hello world Juliano!Excelente dia para aprender Julia"
     ]
    }
   ],
   "source": [
    "print(\"Hello world Juliano!\")\n",
    "print(\"Excelente dia para aprender Julia\")"
   ]
  },
  {
   "cell_type": "code",
   "execution_count": 11,
   "id": "176b219d",
   "metadata": {},
   "outputs": [
    {
     "data": {
      "text/plain": [
       "42"
      ]
     },
     "execution_count": 11,
     "metadata": {},
     "output_type": "execute_result"
    }
   ],
   "source": [
    "40+2"
   ]
  },
  {
   "cell_type": "code",
   "execution_count": 12,
   "id": "2aea7cf8",
   "metadata": {},
   "outputs": [
    {
     "data": {
      "text/plain": [
       "38"
      ]
     },
     "execution_count": 12,
     "metadata": {},
     "output_type": "execute_result"
    }
   ],
   "source": [
    "43-5"
   ]
  },
  {
   "cell_type": "code",
   "execution_count": 13,
   "id": "8871010e",
   "metadata": {},
   "outputs": [
    {
     "data": {
      "text/plain": [
       "42.0"
      ]
     },
     "execution_count": 13,
     "metadata": {},
     "output_type": "execute_result"
    }
   ],
   "source": [
    "84/2"
   ]
  },
  {
   "cell_type": "code",
   "execution_count": 14,
   "id": "8ac0655e",
   "metadata": {},
   "outputs": [
    {
     "data": {
      "text/plain": [
       "42"
      ]
     },
     "execution_count": 14,
     "metadata": {},
     "output_type": "execute_result"
    }
   ],
   "source": [
    "6^2+6"
   ]
  },
  {
   "cell_type": "code",
   "execution_count": 17,
   "id": "e132334e",
   "metadata": {},
   "outputs": [
    {
     "data": {
      "text/plain": [
       "String"
      ]
     },
     "execution_count": 17,
     "metadata": {},
     "output_type": "execute_result"
    }
   ],
   "source": [
    "typeof(\"Hola,mundo\")"
   ]
  },
  {
   "cell_type": "code",
   "execution_count": 16,
   "id": "b52498b6",
   "metadata": {},
   "outputs": [
    {
     "data": {
      "text/plain": [
       "Int64"
      ]
     },
     "execution_count": 16,
     "metadata": {},
     "output_type": "execute_result"
    }
   ],
   "source": [
    "typeof(2)"
   ]
  },
  {
   "cell_type": "code",
   "execution_count": 18,
   "id": "f912fe47",
   "metadata": {},
   "outputs": [
    {
     "data": {
      "text/plain": [
       "Float64"
      ]
     },
     "execution_count": 18,
     "metadata": {},
     "output_type": "execute_result"
    }
   ],
   "source": [
    "typeof(42.5)"
   ]
  },
  {
   "cell_type": "code",
   "execution_count": 19,
   "id": "48996059",
   "metadata": {},
   "outputs": [
    {
     "data": {
      "text/plain": [
       "\"hola\""
      ]
     },
     "execution_count": 19,
     "metadata": {},
     "output_type": "execute_result"
    }
   ],
   "source": [
    "mensaje=\"hola\""
   ]
  },
  {
   "cell_type": "code",
   "execution_count": 20,
   "id": "dad58b14",
   "metadata": {},
   "outputs": [
    {
     "data": {
      "text/plain": [
       "String"
      ]
     },
     "execution_count": 20,
     "metadata": {},
     "output_type": "execute_result"
    }
   ],
   "source": [
    "typeof(mensaje)"
   ]
  },
  {
   "cell_type": "code",
   "execution_count": 21,
   "id": "0bd1c8df",
   "metadata": {},
   "outputs": [
    {
     "data": {
      "text/plain": [
       "15.6"
      ]
     },
     "execution_count": 21,
     "metadata": {},
     "output_type": "execute_result"
    }
   ],
   "source": [
    "n=15.6"
   ]
  },
  {
   "cell_type": "code",
   "execution_count": 22,
   "id": "d8746cb7",
   "metadata": {},
   "outputs": [
    {
     "data": {
      "text/plain": [
       "Float64"
      ]
     },
     "execution_count": 22,
     "metadata": {},
     "output_type": "execute_result"
    }
   ],
   "source": [
    "typeof(n)"
   ]
  },
  {
   "cell_type": "code",
   "execution_count": 23,
   "id": "d1a4942d",
   "metadata": {},
   "outputs": [
    {
     "data": {
      "text/plain": [
       "π = 3.1415926535897..."
      ]
     },
     "execution_count": 23,
     "metadata": {},
     "output_type": "execute_result"
    }
   ],
   "source": [
    "pi"
   ]
  },
  {
   "cell_type": "code",
   "execution_count": 24,
   "id": "a7652d65",
   "metadata": {},
   "outputs": [
    {
     "data": {
      "text/plain": [
       "Irrational{:π}"
      ]
     },
     "execution_count": 24,
     "metadata": {},
     "output_type": "execute_result"
    }
   ],
   "source": [
    "typeof(pi)"
   ]
  },
  {
   "cell_type": "markdown",
   "id": "01352774",
   "metadata": {},
   "source": [
    "Un irrational es un valor \"abstracto\". Cuando Julia considera que es necesario convertirlo a flotante, lo hace.\n",
    "solo que algunas funciones van a estar más optimizadas para trabajar con ciertos irracionales.\n",
    "por ejemplo, sin(pi) va a ser mas rápido que sin(3.141592)\n",
    "El compilador de julia intenta sacar ventaja de los irracionales"
   ]
  },
  {
   "cell_type": "code",
   "execution_count": 25,
   "id": "b55c3755",
   "metadata": {},
   "outputs": [
    {
     "data": {
      "text/plain": [
       "π = 3.1415926535897..."
      ]
     },
     "execution_count": 25,
     "metadata": {},
     "output_type": "execute_result"
    }
   ],
   "source": [
    "π"
   ]
  },
  {
   "cell_type": "code",
   "execution_count": 27,
   "id": "3ad7a23d",
   "metadata": {},
   "outputs": [
    {
     "data": {
      "text/plain": [
       "1.0f0"
      ]
     },
     "execution_count": 27,
     "metadata": {},
     "output_type": "execute_result"
    }
   ],
   "source": [
    "x=Float32(1.0)"
   ]
  },
  {
   "cell_type": "code",
   "execution_count": 28,
   "id": "8120788c",
   "metadata": {},
   "outputs": [
    {
     "data": {
      "text/plain": [
       "Float32"
      ]
     },
     "execution_count": 28,
     "metadata": {},
     "output_type": "execute_result"
    }
   ],
   "source": [
    "typeof(x)"
   ]
  },
  {
   "cell_type": "code",
   "execution_count": 31,
   "id": "7f1bdebb",
   "metadata": {},
   "outputs": [
    {
     "data": {
      "text/plain": [
       "6"
      ]
     },
     "execution_count": 31,
     "metadata": {},
     "output_type": "execute_result"
    }
   ],
   "source": [
    "x=5\n",
    "x+1"
   ]
  },
  {
   "cell_type": "code",
   "execution_count": 32,
   "id": "c7f029e0",
   "metadata": {},
   "outputs": [],
   "source": [
    "#Jupiter nos muestra la evaluación del último paso"
   ]
  },
  {
   "cell_type": "code",
   "execution_count": 34,
   "id": "03e0620d",
   "metadata": {},
   "outputs": [
    {
     "name": "stdout",
     "output_type": "stream",
     "text": [
      "5\n"
     ]
    }
   ],
   "source": [
    "println(x)"
   ]
  },
  {
   "cell_type": "code",
   "execution_count": 35,
   "id": "97a1088f",
   "metadata": {},
   "outputs": [
    {
     "data": {
      "text/plain": [
       "8"
      ]
     },
     "execution_count": 35,
     "metadata": {},
     "output_type": "execute_result"
    }
   ],
   "source": [
    "+(3,5)\n",
    "\n",
    "#=\n",
    "(los operadores en julia son funciones. Uno podría hacer una suma entre dos números a y b haciendo\n",
    "+(a,b) )\n",
    "=#"
   ]
  },
  {
   "cell_type": "code",
   "execution_count": 40,
   "id": "d7b60d10",
   "metadata": {},
   "outputs": [],
   "source": [
    "cadena=\"hola\";"
   ]
  },
  {
   "cell_type": "code",
   "execution_count": 38,
   "id": "68c3c57e",
   "metadata": {},
   "outputs": [
    {
     "ename": "LoadError",
     "evalue": "MethodError: no method matching +(::String, ::Int64)\n\u001b[0mClosest candidates are:\n\u001b[0m  +(::Any, ::Any, \u001b[91m::Any\u001b[39m, \u001b[91m::Any...\u001b[39m) at ~/julia-1.7.2/share/julia/base/operators.jl:655\n\u001b[0m  +(\u001b[91m::T\u001b[39m, ::T) where T<:Union{Int128, Int16, Int32, Int64, Int8, UInt128, UInt16, UInt32, UInt64, UInt8} at ~/julia-1.7.2/share/julia/base/int.jl:87\n\u001b[0m  +(\u001b[91m::Base.TwicePrecision\u001b[39m, ::Number) at ~/julia-1.7.2/share/julia/base/twiceprecision.jl:279\n\u001b[0m  ...",
     "output_type": "error",
     "traceback": [
      "MethodError: no method matching +(::String, ::Int64)\n\u001b[0mClosest candidates are:\n\u001b[0m  +(::Any, ::Any, \u001b[91m::Any\u001b[39m, \u001b[91m::Any...\u001b[39m) at ~/julia-1.7.2/share/julia/base/operators.jl:655\n\u001b[0m  +(\u001b[91m::T\u001b[39m, ::T) where T<:Union{Int128, Int16, Int32, Int64, Int8, UInt128, UInt16, UInt32, UInt64, UInt8} at ~/julia-1.7.2/share/julia/base/int.jl:87\n\u001b[0m  +(\u001b[91m::Base.TwicePrecision\u001b[39m, ::Number) at ~/julia-1.7.2/share/julia/base/twiceprecision.jl:279\n\u001b[0m  ...",
      "",
      "Stacktrace:",
      " [1] top-level scope",
      "   @ In[38]:1",
      " [2] eval",
      "   @ ./boot.jl:373 [inlined]",
      " [3] include_string(mapexpr::typeof(REPL.softscope), mod::Module, code::String, filename::String)",
      "   @ Base ./loading.jl:1196"
     ]
    }
   ],
   "source": [
    "cadena +4"
   ]
  },
  {
   "cell_type": "code",
   "execution_count": 39,
   "id": "83d05c76",
   "metadata": {},
   "outputs": [
    {
     "ename": "LoadError",
     "evalue": "ArgumentError: invalid base 10 digit 'h' in \"hola\"",
     "output_type": "error",
     "traceback": [
      "ArgumentError: invalid base 10 digit 'h' in \"hola\"",
      "",
      "Stacktrace:",
      " [1] tryparse_internal(#unused#::Type{Int64}, s::String, startpos::Int64, endpos::Int64, base_::Int64, raise::Bool)",
      "   @ Base ./parse.jl:137",
      " [2] parse(::Type{Int64}, s::String; base::Nothing)",
      "   @ Base ./parse.jl:241",
      " [3] parse(::Type{Int64}, s::String)",
      "   @ Base ./parse.jl:241",
      " [4] top-level scope",
      "   @ In[39]:1",
      " [5] eval",
      "   @ ./boot.jl:373 [inlined]",
      " [6] include_string(mapexpr::typeof(REPL.softscope), mod::Module, code::String, filename::String)",
      "   @ Base ./loading.jl:1196"
     ]
    }
   ],
   "source": [
    "cadenaxi=parse(Int64,cadena)"
   ]
  },
  {
   "cell_type": "code",
   "execution_count": 44,
   "id": "98c49d34",
   "metadata": {},
   "outputs": [
    {
     "ename": "LoadError",
     "evalue": "UndefVarError: vectoricito not defined",
     "output_type": "error",
     "traceback": [
      "UndefVarError: vectoricito not defined",
      "",
      "Stacktrace:",
      " [1] top-level scope",
      "   @ :0",
      " [2] eval",
      "   @ ./boot.jl:373 [inlined]",
      " [3] include_string(mapexpr::typeof(REPL.softscope), mod::Module, code::String, filename::String)",
      "   @ Base ./loading.jl:1196"
     ]
    }
   ],
   "source": [
    "vectorcito=[\"v11\",\"v12\",\"v13\"]\n",
    "vectoricito\n",
    "println(\"vectorcito[1]\")"
   ]
  },
  {
   "cell_type": "code",
   "execution_count": 45,
   "id": "08addbd7",
   "metadata": {},
   "outputs": [
    {
     "data": {
      "text/latex": [
       "\\begin{verbatim}\n",
       "print([io::IO], xs...)\n",
       "\\end{verbatim}\n",
       "Write to \\texttt{io} (or to the default output stream \\href{@ref}{\\texttt{stdout}} if \\texttt{io} is not given) a canonical (un-decorated) text representation. The representation used by \\texttt{print} includes minimal formatting and tries to avoid Julia-specific details.\n",
       "\n",
       "\\texttt{print} falls back to calling \\texttt{show}, so most types should just define \\texttt{show}. Define \\texttt{print} if your type has a separate \"plain\" representation. For example, \\texttt{show} displays strings with quotes, and \\texttt{print} displays strings without quotes.\n",
       "\n",
       "See also \\href{@ref}{\\texttt{println}}, \\href{@ref}{\\texttt{string}}, \\href{@ref}{\\texttt{printstyled}}.\n",
       "\n",
       "\\section{Examples}\n",
       "\\begin{verbatim}\n",
       "julia> print(\"Hello World!\")\n",
       "Hello World!\n",
       "julia> io = IOBuffer();\n",
       "\n",
       "julia> print(io, \"Hello\", ' ', :World!)\n",
       "\n",
       "julia> String(take!(io))\n",
       "\"Hello World!\"\n",
       "\\end{verbatim}\n"
      ],
      "text/markdown": [
       "```\n",
       "print([io::IO], xs...)\n",
       "```\n",
       "\n",
       "Write to `io` (or to the default output stream [`stdout`](@ref) if `io` is not given) a canonical (un-decorated) text representation. The representation used by `print` includes minimal formatting and tries to avoid Julia-specific details.\n",
       "\n",
       "`print` falls back to calling `show`, so most types should just define `show`. Define `print` if your type has a separate \"plain\" representation. For example, `show` displays strings with quotes, and `print` displays strings without quotes.\n",
       "\n",
       "See also [`println`](@ref), [`string`](@ref), [`printstyled`](@ref).\n",
       "\n",
       "# Examples\n",
       "\n",
       "```jldoctest\n",
       "julia> print(\"Hello World!\")\n",
       "Hello World!\n",
       "julia> io = IOBuffer();\n",
       "\n",
       "julia> print(io, \"Hello\", ' ', :World!)\n",
       "\n",
       "julia> String(take!(io))\n",
       "\"Hello World!\"\n",
       "```\n"
      ],
      "text/plain": [
       "\u001b[36m  print([io::IO], xs...)\u001b[39m\n",
       "\n",
       "  Write to \u001b[36mio\u001b[39m (or to the default output stream \u001b[36mstdout\u001b[39m if \u001b[36mio\u001b[39m is not given) a\n",
       "  canonical (un-decorated) text representation. The representation used by\n",
       "  \u001b[36mprint\u001b[39m includes minimal formatting and tries to avoid Julia-specific details.\n",
       "\n",
       "  \u001b[36mprint\u001b[39m falls back to calling \u001b[36mshow\u001b[39m, so most types should just define \u001b[36mshow\u001b[39m.\n",
       "  Define \u001b[36mprint\u001b[39m if your type has a separate \"plain\" representation. For\n",
       "  example, \u001b[36mshow\u001b[39m displays strings with quotes, and \u001b[36mprint\u001b[39m displays strings\n",
       "  without quotes.\n",
       "\n",
       "  See also \u001b[36mprintln\u001b[39m, \u001b[36mstring\u001b[39m, \u001b[36mprintstyled\u001b[39m.\n",
       "\n",
       "\u001b[1m  Examples\u001b[22m\n",
       "\u001b[1m  ≡≡≡≡≡≡≡≡≡≡\u001b[22m\n",
       "\n",
       "\u001b[36m  julia> print(\"Hello World!\")\u001b[39m\n",
       "\u001b[36m  Hello World!\u001b[39m\n",
       "\u001b[36m  julia> io = IOBuffer();\u001b[39m\n",
       "\u001b[36m  \u001b[39m\n",
       "\u001b[36m  julia> print(io, \"Hello\", ' ', :World!)\u001b[39m\n",
       "\u001b[36m  \u001b[39m\n",
       "\u001b[36m  julia> String(take!(io))\u001b[39m\n",
       "\u001b[36m  \"Hello World!\"\u001b[39m"
      ]
     },
     "execution_count": 45,
     "metadata": {},
     "output_type": "execute_result"
    }
   ],
   "source": [
    "@doc print"
   ]
  },
  {
   "cell_type": "code",
   "execution_count": 46,
   "id": "014e27fc",
   "metadata": {},
   "outputs": [
    {
     "data": {
      "text/latex": [
       "\\begin{verbatim}\n",
       "sort(v; alg::Algorithm=defalg(v), lt=isless, by=identity, rev::Bool=false, order::Ordering=Forward)\n",
       "\\end{verbatim}\n",
       "Variant of \\href{@ref}{\\texttt{sort!}} that returns a sorted copy of \\texttt{v} leaving \\texttt{v} itself unmodified.\n",
       "\n",
       "\\section{Examples}\n",
       "\\begin{verbatim}\n",
       "julia> v = [3, 1, 2];\n",
       "\n",
       "julia> sort(v)\n",
       "3-element Vector{Int64}:\n",
       " 1\n",
       " 2\n",
       " 3\n",
       "\n",
       "julia> v\n",
       "3-element Vector{Int64}:\n",
       " 3\n",
       " 1\n",
       " 2\n",
       "\\end{verbatim}\n",
       "\\begin{verbatim}\n",
       "sort(A; dims::Integer, alg::Algorithm=DEFAULT_UNSTABLE, lt=isless, by=identity, rev::Bool=false, order::Ordering=Forward)\n",
       "\\end{verbatim}\n",
       "Sort a multidimensional array \\texttt{A} along the given dimension. See \\href{@ref}{\\texttt{sort!}} for a description of possible keyword arguments.\n",
       "\n",
       "To sort slices of an array, refer to \\href{@ref}{\\texttt{sortslices}}.\n",
       "\n",
       "\\section{Examples}\n",
       "\\begin{verbatim}\n",
       "julia> A = [4 3; 1 2]\n",
       "2×2 Matrix{Int64}:\n",
       " 4  3\n",
       " 1  2\n",
       "\n",
       "julia> sort(A, dims = 1)\n",
       "2×2 Matrix{Int64}:\n",
       " 1  2\n",
       " 4  3\n",
       "\n",
       "julia> sort(A, dims = 2)\n",
       "2×2 Matrix{Int64}:\n",
       " 3  4\n",
       " 1  2\n",
       "\\end{verbatim}\n"
      ],
      "text/markdown": [
       "```\n",
       "sort(v; alg::Algorithm=defalg(v), lt=isless, by=identity, rev::Bool=false, order::Ordering=Forward)\n",
       "```\n",
       "\n",
       "Variant of [`sort!`](@ref) that returns a sorted copy of `v` leaving `v` itself unmodified.\n",
       "\n",
       "# Examples\n",
       "\n",
       "```jldoctest\n",
       "julia> v = [3, 1, 2];\n",
       "\n",
       "julia> sort(v)\n",
       "3-element Vector{Int64}:\n",
       " 1\n",
       " 2\n",
       " 3\n",
       "\n",
       "julia> v\n",
       "3-element Vector{Int64}:\n",
       " 3\n",
       " 1\n",
       " 2\n",
       "```\n",
       "\n",
       "```\n",
       "sort(A; dims::Integer, alg::Algorithm=DEFAULT_UNSTABLE, lt=isless, by=identity, rev::Bool=false, order::Ordering=Forward)\n",
       "```\n",
       "\n",
       "Sort a multidimensional array `A` along the given dimension. See [`sort!`](@ref) for a description of possible keyword arguments.\n",
       "\n",
       "To sort slices of an array, refer to [`sortslices`](@ref).\n",
       "\n",
       "# Examples\n",
       "\n",
       "```jldoctest\n",
       "julia> A = [4 3; 1 2]\n",
       "2×2 Matrix{Int64}:\n",
       " 4  3\n",
       " 1  2\n",
       "\n",
       "julia> sort(A, dims = 1)\n",
       "2×2 Matrix{Int64}:\n",
       " 1  2\n",
       " 4  3\n",
       "\n",
       "julia> sort(A, dims = 2)\n",
       "2×2 Matrix{Int64}:\n",
       " 3  4\n",
       " 1  2\n",
       "```\n"
      ],
      "text/plain": [
       "\u001b[36m  sort(v; alg::Algorithm=defalg(v), lt=isless, by=identity, rev::Bool=false, order::Ordering=Forward)\u001b[39m\n",
       "\n",
       "  Variant of \u001b[36msort!\u001b[39m that returns a sorted copy of \u001b[36mv\u001b[39m leaving \u001b[36mv\u001b[39m itself\n",
       "  unmodified.\n",
       "\n",
       "\u001b[1m  Examples\u001b[22m\n",
       "\u001b[1m  ≡≡≡≡≡≡≡≡≡≡\u001b[22m\n",
       "\n",
       "\u001b[36m  julia> v = [3, 1, 2];\u001b[39m\n",
       "\u001b[36m  \u001b[39m\n",
       "\u001b[36m  julia> sort(v)\u001b[39m\n",
       "\u001b[36m  3-element Vector{Int64}:\u001b[39m\n",
       "\u001b[36m   1\u001b[39m\n",
       "\u001b[36m   2\u001b[39m\n",
       "\u001b[36m   3\u001b[39m\n",
       "\u001b[36m  \u001b[39m\n",
       "\u001b[36m  julia> v\u001b[39m\n",
       "\u001b[36m  3-element Vector{Int64}:\u001b[39m\n",
       "\u001b[36m   3\u001b[39m\n",
       "\u001b[36m   1\u001b[39m\n",
       "\u001b[36m   2\u001b[39m\n",
       "\n",
       "\u001b[36m  sort(A; dims::Integer, alg::Algorithm=DEFAULT_UNSTABLE, lt=isless, by=identity, rev::Bool=false, order::Ordering=Forward)\u001b[39m\n",
       "\n",
       "  Sort a multidimensional array \u001b[36mA\u001b[39m along the given dimension. See \u001b[36msort!\u001b[39m for a\n",
       "  description of possible keyword arguments.\n",
       "\n",
       "  To sort slices of an array, refer to \u001b[36msortslices\u001b[39m.\n",
       "\n",
       "\u001b[1m  Examples\u001b[22m\n",
       "\u001b[1m  ≡≡≡≡≡≡≡≡≡≡\u001b[22m\n",
       "\n",
       "\u001b[36m  julia> A = [4 3; 1 2]\u001b[39m\n",
       "\u001b[36m  2×2 Matrix{Int64}:\u001b[39m\n",
       "\u001b[36m   4  3\u001b[39m\n",
       "\u001b[36m   1  2\u001b[39m\n",
       "\u001b[36m  \u001b[39m\n",
       "\u001b[36m  julia> sort(A, dims = 1)\u001b[39m\n",
       "\u001b[36m  2×2 Matrix{Int64}:\u001b[39m\n",
       "\u001b[36m   1  2\u001b[39m\n",
       "\u001b[36m   4  3\u001b[39m\n",
       "\u001b[36m  \u001b[39m\n",
       "\u001b[36m  julia> sort(A, dims = 2)\u001b[39m\n",
       "\u001b[36m  2×2 Matrix{Int64}:\u001b[39m\n",
       "\u001b[36m   3  4\u001b[39m\n",
       "\u001b[36m   1  2\u001b[39m"
      ]
     },
     "execution_count": 46,
     "metadata": {},
     "output_type": "execute_result"
    }
   ],
   "source": [
    "@doc sort"
   ]
  },
  {
   "cell_type": "code",
   "execution_count": null,
   "id": "2f5270be",
   "metadata": {},
   "outputs": [],
   "source": []
  }
 ],
 "metadata": {
  "kernelspec": {
   "display_name": "Julia 1.7.2",
   "language": "julia",
   "name": "julia-1.7"
  },
  "language_info": {
   "file_extension": ".jl",
   "mimetype": "application/julia",
   "name": "julia",
   "version": "1.7.2"
  }
 },
 "nbformat": 4,
 "nbformat_minor": 5
}
