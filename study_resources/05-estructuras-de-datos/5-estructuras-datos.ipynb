{
 "cells": [
  {
   "cell_type": "markdown",
   "metadata": {
    "tags": []
   },
   "source": [
    "# Estructuras de datos\n",
    "\n",
    "Para mas informacion ver\n",
    "\n",
    "https://docs.julialang.org/en/v1/base/collections/\n",
    "\n",
    "https://juliacollections.github.io/DataStructures.jl/latest/"
   ]
  },
  {
   "cell_type": "markdown",
   "metadata": {
    "jp-MarkdownHeadingCollapsed": true,
    "tags": []
   },
   "source": [
    "## Tuplas (tuples)\n",
    "\n",
    "Las tuplas (tuple) son secuencias inmutables de objetos.\n",
    "\n",
    "https://docs.julialang.org/en/v1/manual/functions/#Tuples\n",
    "\n",
    "https://en.wikibooks.org/wiki/Introducing_Julia/Arrays_and_tuples#Tuples"
   ]
  },
  {
   "cell_type": "markdown",
   "metadata": {},
   "source": [
    "Ejemplo, las tuplas pueden contener numeros, strings e inclusion funciones!"
   ]
  },
  {
   "cell_type": "code",
   "execution_count": null,
   "metadata": {},
   "outputs": [],
   "source": [
    "(1,x->x*x,\"hola\") #= secuencia de elementos separados por coma y van entre paréntesis =#"
   ]
  },
  {
   "cell_type": "markdown",
   "metadata": {},
   "source": [
    "Este tipo de estructuras son no primitivas del lenguaje, como si lo son Int64, Float64, etc., que ya vienen incorporadas icluso en la arquitectura de las computadoras. Una de las más comunes son las `tuplas` que a diferencia de los arreglos son inmutables (no se pueden modificar sus valores).\n",
    "Este tipo de estructuras son muy útiles para funciones, por ejemplo, luego veremos que las funciones se definen como\n",
    "\n",
    "```\n",
    "function f(x,y,z)\n",
    "    suma = x + y + z;\n",
    "    return suma\n",
    "end\n",
    "```\n",
    "\n",
    "y notamos que `(x,y,z)` es una tupla. Obviamente se puede usar un arreglo también de la forma\n",
    "\n",
    "```\n",
    "function f(a=[x,y,z])\n",
    "    suma = x + y + z;\n",
    "    return suma\n",
    "end\n",
    "```\n",
    "donde `a` e sun arreglo. Sin embargo, el más fácil para el compilador trabajar con tuplas (cuyos elementos son inmutables) y de esta forma correr código de forma más eficiente."
   ]
  },
  {
   "cell_type": "markdown",
   "metadata": {},
   "source": [
    "Las tuplas pueden usarse del lado izquierdo de una igualdad."
   ]
  },
  {
   "cell_type": "code",
   "execution_count": null,
   "metadata": {},
   "outputs": [],
   "source": [
    "tupla_02 = a,b,c;          # definimos una variable llamada tupla_02\n",
    "a,b,c = 1:3;               # asignamos valores a los elementos de la tupla\n",
    "println(typeof(tupla_02)); # mostramos de qué tipo es la variable tupla_02"
   ]
  },
  {
   "cell_type": "code",
   "execution_count": null,
   "metadata": {},
   "outputs": [],
   "source": [
    "#= esta forma de definir tuplas es conveniente en ejemplos como el siguiente  =#\n",
    "\n",
    "#= definimos una función =#\n",
    "\n",
    "function f(x)\n",
    "    return x,2x,3x;\n",
    "end"
   ]
  },
  {
   "cell_type": "code",
   "execution_count": null,
   "metadata": {},
   "outputs": [],
   "source": [
    "(a,b,c) = f(3);\n",
    "println(\"f(3) = \", f(3));\n",
    "println(typeof(f(3)));"
   ]
  },
  {
   "cell_type": "markdown",
   "metadata": {},
   "source": [
    "Las tuplas pueden nombrarse"
   ]
  },
  {
   "cell_type": "code",
   "execution_count": null,
   "metadata": {},
   "outputs": [],
   "source": [
    "tupla_01 = 1,x->x*x,\"hola\";"
   ]
  },
  {
   "cell_type": "code",
   "execution_count": null,
   "metadata": {},
   "outputs": [],
   "source": [
    "println(\"tupla_01 = \", tupla_01);"
   ]
  },
  {
   "cell_type": "markdown",
   "metadata": {},
   "source": [
    "Podemos acceder cada uno de los elementos de una tupla"
   ]
  },
  {
   "cell_type": "code",
   "execution_count": null,
   "metadata": {},
   "outputs": [],
   "source": [
    "println(\"1er elemento de tupla_01 = \", tupla_01[1]);"
   ]
  },
  {
   "cell_type": "code",
   "execution_count": null,
   "metadata": {},
   "outputs": [],
   "source": [
    "println(\"2do elemento de tupla_01 = \", tupla_01[2]);"
   ]
  },
  {
   "cell_type": "code",
   "execution_count": null,
   "metadata": {},
   "outputs": [],
   "source": [
    "println(\"3er elemento de tupla_01 = \", tupla_01[3]);"
   ]
  },
  {
   "cell_type": "code",
   "execution_count": null,
   "metadata": {},
   "outputs": [],
   "source": [
    "# Este da error porque no existe 4to elemento en la tupla \"tupla_01\".\n",
    "println(\"4to elemento de tupla_01 = \", tupla_01[4]);"
   ]
  },
  {
   "cell_type": "code",
   "execution_count": null,
   "metadata": {},
   "outputs": [],
   "source": [
    "tupla_01[2]"
   ]
  },
  {
   "cell_type": "code",
   "execution_count": null,
   "metadata": {},
   "outputs": [],
   "source": [
    "# El segundo elemento de la tupla \"tupla_01\" es una función sin nombre, a la cual podemos acceder y evaluar.\n",
    "tupla_01[2](9)"
   ]
  },
  {
   "cell_type": "markdown",
   "metadata": {},
   "source": [
    "Fabriquemos otra tupla de nombre \"tupla_03\" que resulte, a primera vista, idéntica a la tupla \"tupla_01\"."
   ]
  },
  {
   "cell_type": "code",
   "execution_count": null,
   "metadata": {},
   "outputs": [],
   "source": [
    "tupla_03 = 1,x->x*x,\"hola\";\n",
    "println(\"tupla_03 = \", tupla_03);"
   ]
  },
  {
   "cell_type": "markdown",
   "metadata": {},
   "source": [
    "_Son realmente idénticas? Pues no, porque la función, i.e. el segundo elemento de `tupla_01::Tuple`, es equivalente, pero no es el mismo, al segundo elemento de `tupla_03::Tuple`._"
   ]
  },
  {
   "cell_type": "code",
   "execution_count": null,
   "metadata": {},
   "outputs": [],
   "source": [
    "tupla_01==tupla_03"
   ]
  },
  {
   "cell_type": "markdown",
   "metadata": {},
   "source": [
    "Si fabricamos otra tupla `tupla_04::Tuple` cuyo 2do elemento sea exactamente el mismo que el segundo elemento de `tupla_01::Tuple`"
   ]
  },
  {
   "cell_type": "code",
   "execution_count": null,
   "metadata": {},
   "outputs": [],
   "source": [
    "tupla_04 = 1,tupla_01[2],\"hola\";\n",
    "println(\"tupla_04 = \", tupla_04);"
   ]
  },
  {
   "cell_type": "markdown",
   "metadata": {},
   "source": [
    "Luego `tupla_01::Tuple` y `tupla_04::Tuple` resultan identicas, ya que los otros elementos son constantes."
   ]
  },
  {
   "cell_type": "code",
   "execution_count": null,
   "metadata": {},
   "outputs": [],
   "source": [
    "tupla_01 == tupla_04"
   ]
  },
  {
   "cell_type": "markdown",
   "metadata": {},
   "source": [
    "Las tuplas se parecen mucho a las listas"
   ]
  },
  {
   "cell_type": "code",
   "execution_count": null,
   "metadata": {},
   "outputs": [],
   "source": [
    "[1,2,3] == [1,2,3]"
   ]
  },
  {
   "cell_type": "code",
   "execution_count": null,
   "metadata": {},
   "outputs": [],
   "source": [
    "lista_01 = [1,2,3];\n",
    "println(\"lista_01 = \", lista_01);"
   ]
  },
  {
   "cell_type": "code",
   "execution_count": null,
   "metadata": {},
   "outputs": [],
   "source": [
    "println(\"el 1er elemento de lista_01 es = \", lista_01[1]);"
   ]
  },
  {
   "cell_type": "code",
   "execution_count": null,
   "metadata": {},
   "outputs": [],
   "source": [
    "lista_02 = [1,tupla_01[2],\"hola\"];\n",
    "println(\"lista_02 = \", lista_02);\n",
    "println(typeof(lista_02));"
   ]
  },
  {
   "cell_type": "code",
   "execution_count": null,
   "metadata": {},
   "outputs": [],
   "source": [
    "lista_02 == tupla_01"
   ]
  },
  {
   "cell_type": "code",
   "execution_count": null,
   "metadata": {},
   "outputs": [],
   "source": [
    "lista_03 = [1,tupla_01[2],\"hola\"]\n",
    "println(\"lista_03 = \", lista_03);\n",
    "println(typeof(lista_03));"
   ]
  },
  {
   "cell_type": "code",
   "execution_count": null,
   "metadata": {},
   "outputs": [],
   "source": [
    "lista_02 == lista_03"
   ]
  },
  {
   "cell_type": "markdown",
   "metadata": {},
   "source": [
    "Pero como veremos más adelante, las listas son mutables y las tuplas no. Por ende, las tuplas pueden usarse como \"índices\" de un diccionario (por ejemplo)."
   ]
  },
  {
   "cell_type": "code",
   "execution_count": null,
   "metadata": {},
   "outputs": [],
   "source": [
    "# Las tuplas son inmutables, por lo que no podemos modificar sus valores.\n",
    "tupla_01[1] = 3"
   ]
  },
  {
   "cell_type": "code",
   "execution_count": null,
   "metadata": {},
   "outputs": [],
   "source": [
    "# Las listas son mutables, por lo que si podemos modificar sus valores.\n",
    "lista_02[1] = 7"
   ]
  },
  {
   "cell_type": "code",
   "execution_count": null,
   "metadata": {},
   "outputs": [],
   "source": [
    "println(\"lista_02 = \", lista_02);"
   ]
  },
  {
   "cell_type": "markdown",
   "metadata": {},
   "source": [
    "Existen tuplas de cero y un sólo elemento"
   ]
  },
  {
   "cell_type": "code",
   "execution_count": null,
   "metadata": {},
   "outputs": [],
   "source": [
    "#= creamos una tupla nula =#\n",
    "zero_tuple = ();               # tupla de longitud cero\n",
    "println(typeof(zero_tuple));"
   ]
  },
  {
   "cell_type": "code",
   "execution_count": null,
   "metadata": {},
   "outputs": [],
   "source": [
    "#= creamos una variable con el valor 1 pero que es de tipo Int64 =#\n",
    "num = 1;\n",
    "println(typeof(num));"
   ]
  },
  {
   "cell_type": "code",
   "execution_count": null,
   "metadata": {},
   "outputs": [],
   "source": [
    "#= creamos una variable con el valor 1 pero que es de tipo Tuple{Int64} =#\n",
    "num_tuple = (1,);             # tupla de longitud uno\n",
    "println(typeof(num_tuple));"
   ]
  },
  {
   "cell_type": "code",
   "execution_count": null,
   "metadata": {},
   "outputs": [],
   "source": [
    "#= veamos si el entero y la tupla con entero son iguales =#\n",
    "num_tuple == num"
   ]
  },
  {
   "cell_type": "code",
   "execution_count": null,
   "metadata": {},
   "outputs": [],
   "source": [
    "#= creamos un array nulo =#\n",
    "zero_array = [];\n",
    "println(typeof(zero_array));"
   ]
  },
  {
   "cell_type": "code",
   "execution_count": null,
   "metadata": {},
   "outputs": [],
   "source": [
    "#= veamos si la tupla nula y el array nulo son iguales =#\n",
    "() == []"
   ]
  },
  {
   "cell_type": "markdown",
   "metadata": {},
   "source": [
    "Podemos acceder rangos de tuplas"
   ]
  },
  {
   "cell_type": "code",
   "execution_count": null,
   "metadata": {},
   "outputs": [],
   "source": [
    "tupla_05 = \"a\",\"b\",\"c\",\"d\",\"e\",6,7,8,9,10;\n",
    "println(\"tupla_05 = \", tupla_05);\n",
    "println(typeof(tupla_05));"
   ]
  },
  {
   "cell_type": "code",
   "execution_count": null,
   "metadata": {},
   "outputs": [],
   "source": [
    "#= mostramos los primeros dos elementos de la tupla =#\n",
    "tupla_05[1:2]"
   ]
  },
  {
   "cell_type": "code",
   "execution_count": null,
   "metadata": {},
   "outputs": [],
   "source": [
    "#= mostramos del elemento 3 hasta el elemento 7 de la tupla =#\n",
    "tupla_05[3:7]"
   ]
  },
  {
   "cell_type": "code",
   "execution_count": null,
   "metadata": {},
   "outputs": [],
   "source": [
    "#= mostramos del elemento 3 hasta el último elemento de la tupla =#\n",
    "tupla_05[3:end]"
   ]
  },
  {
   "cell_type": "markdown",
   "metadata": {},
   "source": [
    "También podemos anidarlas"
   ]
  },
  {
   "cell_type": "code",
   "execution_count": null,
   "metadata": {},
   "outputs": [],
   "source": [
    "#= definimos una tupla compuesta por un array y un entero =#\n",
    "tupla_06 = ([1,2,3],4);\n",
    "println(\"tupla_06 = \", tupla_06);\n",
    "println(typeof(tupla_06));"
   ]
  },
  {
   "cell_type": "code",
   "execution_count": null,
   "metadata": {},
   "outputs": [],
   "source": [
    "#= recordemos que los arrays son mutables =#\n",
    "lista_04 = [1,2];\n",
    "println(\"lista_04 = \", lista_04);\n",
    "println(typeof(lista_04));"
   ]
  },
  {
   "cell_type": "code",
   "execution_count": null,
   "metadata": {},
   "outputs": [],
   "source": [
    "#= si bien las tuplas no son mutables, los arrays si, entonces podemos mutar el array dentro de la tupla =#\n",
    "#= de esta forma la tupla se hace mutable =#\n",
    "tupla_06[1][2] = 10;"
   ]
  },
  {
   "cell_type": "code",
   "execution_count": null,
   "metadata": {},
   "outputs": [],
   "source": [
    "println(\"tupla_06 = \", tupla_06);"
   ]
  },
  {
   "cell_type": "code",
   "execution_count": null,
   "metadata": {},
   "outputs": [],
   "source": [
    "tupla_07 = ((1,2,3),4,5,((6,7,8),9));\n",
    "println(\"tupla_07 = \", tupla_07);\n",
    "println(typeof(tupla_07));"
   ]
  },
  {
   "cell_type": "code",
   "execution_count": null,
   "metadata": {},
   "outputs": [],
   "source": [
    "println(\"el primer elemento de tupla_07 es = \", tupla_07[1]);"
   ]
  },
  {
   "cell_type": "code",
   "execution_count": null,
   "metadata": {},
   "outputs": [],
   "source": [
    "println(\"el segundo elemento de tupla_07 es = \", tupla_07[2]);"
   ]
  },
  {
   "cell_type": "code",
   "execution_count": null,
   "metadata": {},
   "outputs": [],
   "source": [
    "println(\"desde el 2do elemento al 4 elemento de tupla_07 son = \", tupla_07[2:4]);"
   ]
  },
  {
   "cell_type": "code",
   "execution_count": null,
   "metadata": {},
   "outputs": [],
   "source": [
    "println(\"el cuarto elemento de tupla_07 es = \", tupla_07[4]);"
   ]
  },
  {
   "cell_type": "code",
   "execution_count": null,
   "metadata": {},
   "outputs": [],
   "source": [
    "println(\"el 1er elemento del 4to elemento de tupla_07 es = \", tupla_07[4][1]);"
   ]
  },
  {
   "cell_type": "code",
   "execution_count": null,
   "metadata": {},
   "outputs": [],
   "source": [
    "println(\"el 2do elemento del 1er elemento del 4to elemento de tupla_07 es = \", tupla_07[4][1][2]);"
   ]
  },
  {
   "cell_type": "code",
   "execution_count": null,
   "metadata": {},
   "outputs": [],
   "source": [
    "println(\"el 2do elemento del 4to elemento de tupla_07 es = \", tupla_07[4][2]);"
   ]
  },
  {
   "cell_type": "markdown",
   "metadata": {},
   "source": [
    "También podemos concatenarlas"
   ]
  },
  {
   "cell_type": "code",
   "execution_count": null,
   "metadata": {},
   "outputs": [],
   "source": [
    "subtupla_01 = (1,2,3);\n",
    "subtupla_02 = (4,5,6);"
   ]
  },
  {
   "cell_type": "markdown",
   "metadata": {},
   "source": [
    "El símbolo `...` se denomina **_splat_** y funciona sólo dentro de _tuplas_ y _funciones_. Lo que hace es separar todos los elementos que estaban comprimidos formando alguna estructura."
   ]
  },
  {
   "cell_type": "code",
   "execution_count": null,
   "metadata": {},
   "outputs": [],
   "source": [
    "tupla_08 = (subtupla_01...,subtupla_02...);\n",
    "println(\"tupla_08 = \", tupla_08);\n",
    "println(typeof(tupla_08));"
   ]
  },
  {
   "cell_type": "code",
   "execution_count": null,
   "metadata": {},
   "outputs": [],
   "source": [
    "tupla_09 = (subtupla_01...,subtupla_02);\n",
    "println(\"tupla_09 = \", tupla_09);\n",
    "println(typeof(tupla_09));"
   ]
  },
  {
   "cell_type": "markdown",
   "metadata": {},
   "source": [
    "Se puede iterar sobre una tupla."
   ]
  },
  {
   "cell_type": "code",
   "execution_count": null,
   "metadata": {},
   "outputs": [],
   "source": [
    "for i in tupla_08\n",
    "    @show i\n",
    "end"
   ]
  },
  {
   "cell_type": "code",
   "execution_count": null,
   "metadata": {},
   "outputs": [],
   "source": [
    "# lo veremos más adelante pero fijemosnos que hace el macro @show\n",
    "\n",
    "i = 1\n",
    "@macroexpand @show 1\n",
    "\n",
    "#= simplemente lo que hace es imprimir el nombre de la variable y valor de la variable =#"
   ]
  },
  {
   "cell_type": "markdown",
   "metadata": {},
   "source": [
    "Si definimos una tupla `t = (a,b,c)` y luego nuevamente re-definimos la variable `t` haciendo `t = (d,e,f)`, aquí existe una re-asignación de la variable `t`, eventualmente la tupla `(a,b,c)` quedará _huerfana_ y si no se vuelve a reasignar a una variable se borrará de memoria.\n",
    "\n",
    "Si bien existe una analogía entre tuplas y punteros (como en el lenguaje C), lo de reasignación de variables no es tan así, sino que es más complejo. La analogía sirve cuando mostramos que, si bien una tupla es inmutable, si tiene elementos mutables, los elementos de estos últimos sí son mutables. Analogamente en punteros, no se puede modificar el puntero pero si a que apunta el puntero.\n",
    "\n",
    "La difrencia entre punteros y tuplas radica en que, Julia es un lenguaje que combina compilación _estática_ con compilación _dinámica_ la variable `t`, para Julia, es simplemente un nombre que existe antes de compilar, una vez compilado este nombre deja de existir (deja de tener sentido), esto nos dice que no es estrictamente un puntero ya que adquiere un valor _estático_ cuando se compila, pero antes de compilarse la variable `t` adquiere un valor _dinámico_. Esto es una característica propia de Julia ya que es un lenguaje que se denomina funcional(esto ocurre también para algunos lenguajes interpretados)."
   ]
  },
  {
   "cell_type": "markdown",
   "metadata": {
    "jp-MarkdownHeadingCollapsed": true,
    "tags": []
   },
   "source": [
    "## Tuplas nombradas (named tuples)"
   ]
  },
  {
   "cell_type": "code",
   "execution_count": null,
   "metadata": {},
   "outputs": [],
   "source": [
    "ks = (:corner1, :corner2);              # nombramos las tuplas\n",
    "vs = ((10, 10), (20, 20));              # asignamos tuplas a cada nombre\n",
    "tupla_nombrada_01 = NamedTuple{ks}(vs); # creamos la tupla nombrada\n",
    "println(\"tupla_nombrada_01 = \", tupla_nombrada_01);\n",
    "println(typeof(tupla_nombrada_01));"
   ]
  },
  {
   "cell_type": "markdown",
   "metadata": {},
   "source": [
    "el comando `:` delante de algo nos dice que lo que le sigue es un símbolo"
   ]
  },
  {
   "cell_type": "code",
   "execution_count": null,
   "metadata": {},
   "outputs": [],
   "source": [
    "tupla_nombrada_02 = NamedTuple{(:uno,:dos)}((\"a\",\"b\"));\n",
    "println(\"tupla_nombrada_02 = \", tupla_nombrada_02);\n",
    "println(typeof(tupla_nombrada_02));"
   ]
  },
  {
   "cell_type": "code",
   "execution_count": null,
   "metadata": {},
   "outputs": [],
   "source": [
    "tupla_nombrada_03 = (a=1,b=2,xyz=\"hola\");\n",
    "println(\"tupla_nombrada_03 = \", tupla_nombrada_03);\n",
    "println(typeof(tupla_nombrada_03));"
   ]
  },
  {
   "cell_type": "code",
   "execution_count": null,
   "metadata": {},
   "outputs": [],
   "source": [
    "println(\"el elemento nombrado como 'a' de tupla_nombrada_03 es = \", tupla_nombrada_03.a);\n",
    "println(\"y el tipo de este elemento es = \", typeof(tupla_nombrada_03.a));"
   ]
  },
  {
   "cell_type": "code",
   "execution_count": null,
   "metadata": {},
   "outputs": [],
   "source": [
    "println(\"el elemento nombrado como 'b' de tupla_nombrada_03 es = \", tupla_nombrada_03.b);\n",
    "println(\"y el tipo de este elemento es = \", typeof(tupla_nombrada_03.b));"
   ]
  },
  {
   "cell_type": "code",
   "execution_count": null,
   "metadata": {},
   "outputs": [],
   "source": [
    "println(\"el elemento nombrado como 'xyz' de tupla_nombrada_03 es = \", tupla_nombrada_03.xyz);\n",
    "println(\"y el tipo de este elemento es = \", typeof(tupla_nombrada_03.xyz));"
   ]
  },
  {
   "cell_type": "code",
   "execution_count": null,
   "metadata": {},
   "outputs": [],
   "source": [
    "println(\"el primer elemento de tupla_nombrada_03 es = \", tupla_nombrada_03[1]);"
   ]
  },
  {
   "cell_type": "code",
   "execution_count": null,
   "metadata": {},
   "outputs": [],
   "source": [
    "println(\"el segundo elemento de tupla_nombrada_03 es = \", tupla_nombrada_03[2]);"
   ]
  },
  {
   "cell_type": "markdown",
   "metadata": {},
   "source": [
    "Los rangos no funcionan con las tuplas nombradas"
   ]
  },
  {
   "cell_type": "code",
   "execution_count": null,
   "metadata": {},
   "outputs": [],
   "source": [
    "tupla_nombrada_03[1:2]"
   ]
  },
  {
   "cell_type": "markdown",
   "metadata": {},
   "source": [
    "Tambien se puede iterar sobre una tupla nombrada."
   ]
  },
  {
   "cell_type": "code",
   "execution_count": null,
   "metadata": {},
   "outputs": [],
   "source": [
    "for i in tupla_nombrada_03\n",
    "    @show i\n",
    "end"
   ]
  },
  {
   "cell_type": "markdown",
   "metadata": {
    "jp-MarkdownHeadingCollapsed": true,
    "tags": []
   },
   "source": [
    "## Arreglos, vectores, matrices, etc. (arrays, vectors & matrices, etc.)\n",
    "\n",
    "A diferencia de las tuplas, los arreglos (unidmensionales) ocupan lugares contiguos en memoria y son mutables. Además, puede restringirse el tipo de los elementos que un arreglo puede contener."
   ]
  },
  {
   "cell_type": "markdown",
   "metadata": {},
   "source": [
    "La forma más facil de crear un arreglo es utilizando corchetes."
   ]
  },
  {
   "cell_type": "code",
   "execution_count": null,
   "metadata": {},
   "outputs": [],
   "source": [
    "arreglo_01 = [1,2,3];\n",
    "println(\"arreglo_01 = \", arreglo_01);\n",
    "println(typeof(arreglo_01));"
   ]
  },
  {
   "cell_type": "markdown",
   "metadata": {},
   "source": [
    "Notar que los arreglos unidmensionales se llaman vectores."
   ]
  },
  {
   "cell_type": "code",
   "execution_count": null,
   "metadata": {},
   "outputs": [],
   "source": [
    "arreglo_02 = [\"hola\",\"chau\",\"que tal?\"];\n",
    "println(\"arreglo_02 = \", arreglo_02);\n",
    "println(typeof(arreglo_02));"
   ]
  },
  {
   "cell_type": "markdown",
   "metadata": {},
   "source": [
    "Al igual que las tuplas, los arreglos pueden contener objetos de tipos varios (sacrificando eficiencia)."
   ]
  },
  {
   "cell_type": "code",
   "execution_count": null,
   "metadata": {},
   "outputs": [],
   "source": [
    "arreglo_03 = [1,2,\"hola\",x->2*x];\n",
    "println(\"arreglo_03 = \", arreglo_03);\n",
    "println(typeof(arreglo_03));"
   ]
  },
  {
   "cell_type": "code",
   "execution_count": null,
   "metadata": {},
   "outputs": [],
   "source": [
    "print(\"el 1er elemento de arreglo_03 es = \", arreglo_03[1]);\n",
    "print(\" y este elemento es de tipo \", typeof(arreglo_03[1]));"
   ]
  },
  {
   "cell_type": "code",
   "execution_count": null,
   "metadata": {},
   "outputs": [],
   "source": [
    "print(\"el 2do elemento de arreglo_03 es = \", arreglo_03[2]);\n",
    "print(\" y este elemento es de tipo \", typeof(arreglo_03[2]));"
   ]
  },
  {
   "cell_type": "code",
   "execution_count": null,
   "metadata": {},
   "outputs": [],
   "source": [
    "print(\"el 3er elemento de arreglo_03 es = \", arreglo_03[3]);\n",
    "print(\" y este elemento es de tipo \", typeof(arreglo_03[3]));"
   ]
  },
  {
   "cell_type": "code",
   "execution_count": null,
   "metadata": {},
   "outputs": [],
   "source": [
    "print(\"el 4to elemento de arreglo_03 es = \", arreglo_03[4]);\n",
    "print(\" y este elemento es de tipo \", typeof(arreglo_03[4]));"
   ]
  },
  {
   "cell_type": "code",
   "execution_count": null,
   "metadata": {},
   "outputs": [],
   "source": [
    "println(\"los primeros tres elementos de arreglo_03 son = \", arreglo_03[1:3]);"
   ]
  },
  {
   "cell_type": "code",
   "execution_count": null,
   "metadata": {},
   "outputs": [],
   "source": [
    "println(\"los elementos del 2 al 4 de arreglo_03 son = \", arreglo_03[2:4]);"
   ]
  },
  {
   "cell_type": "code",
   "execution_count": null,
   "metadata": {},
   "outputs": [],
   "source": [
    "println(\"el elemento 4 de arreglo_03 valuada en 3 es = \", arreglo_03[4](3))"
   ]
  },
  {
   "cell_type": "markdown",
   "metadata": {},
   "source": [
    "A diferencia de una tupla, un arreglo es mutable."
   ]
  },
  {
   "cell_type": "code",
   "execution_count": null,
   "metadata": {},
   "outputs": [],
   "source": [
    "arreglo_03[3] = 50;\n",
    "arreglo_03[4] = 100;\n",
    "println(\"arreglo_03 = \", arreglo_03);\n",
    "println(typeof(arreglo_03));"
   ]
  },
  {
   "cell_type": "markdown",
   "metadata": {},
   "source": [
    "Incluso podemos agregarle elementos al final."
   ]
  },
  {
   "cell_type": "code",
   "execution_count": null,
   "metadata": {},
   "outputs": [],
   "source": [
    "push!(arreglo_03,200);\n",
    "println(\"arreglo_03 = \", arreglo_03);"
   ]
  },
  {
   "cell_type": "markdown",
   "metadata": {},
   "source": [
    "Formalmente, un arreglo se construye así"
   ]
  },
  {
   "cell_type": "code",
   "execution_count": null,
   "metadata": {},
   "outputs": [],
   "source": [
    "arreglo_04 = Array{Int64,1}(undef,10);\n",
    "println(\"arreglo_04 = \", arreglo_04);\n",
    "println(typeof(arreglo_04));"
   ]
  },
  {
   "cell_type": "markdown",
   "metadata": {},
   "source": [
    "donde indicamos que contiene elementos de tipo Int64, tiene 1 dimension de tamaño 10 y se inicializa con valores indefinidos.\n",
    "\n",
    "De manera similar, podemos crear arrays de tipo Any (i.e. con elementos de cualquier tipo)"
   ]
  },
  {
   "cell_type": "code",
   "execution_count": null,
   "metadata": {},
   "outputs": [],
   "source": [
    "arreglo_05 = Array{Any,1}(undef,12);\n",
    "println(\"arreglo_05 = \", arreglo_05);\n",
    "println(typeof(arreglo_05));"
   ]
  },
  {
   "cell_type": "markdown",
   "metadata": {},
   "source": [
    "para luego rellenarlo con lo que necesitemos."
   ]
  },
  {
   "cell_type": "code",
   "execution_count": null,
   "metadata": {},
   "outputs": [],
   "source": [
    "arreglo_05[5] = \"hola\";\n",
    "println(\"arreglo_05 = \", arreglo_05);"
   ]
  },
  {
   "cell_type": "markdown",
   "metadata": {},
   "source": [
    "Si queremos iniciar un array con todos ceros, u otros valores constantes podemos hacer."
   ]
  },
  {
   "cell_type": "code",
   "execution_count": null,
   "metadata": {},
   "outputs": [],
   "source": [
    "arreglo_06 = zeros(Int64,4);\n",
    "println(\"arreglo_06 = \", arreglo_06);\n",
    "println(typeof(arreglo_06));"
   ]
  },
  {
   "cell_type": "code",
   "execution_count": null,
   "metadata": {},
   "outputs": [],
   "source": [
    "arreglo_07 = 5.3*ones(Float64,5);\n",
    "println(\"arreglo_07 = \", arreglo_07);\n",
    "println(typeof(arreglo_07));"
   ]
  },
  {
   "cell_type": "markdown",
   "metadata": {},
   "source": [
    "Podemos mutar valores de un array por rangos, utilizando *broadcasting*, en este caso, un punto antes del símbolo `=`."
   ]
  },
  {
   "cell_type": "code",
   "execution_count": null,
   "metadata": {},
   "outputs": [],
   "source": [
    "arreglo_07[2:4] .= 8.0;\n",
    "println(\"arreglo_07 = \", arreglo_07);"
   ]
  },
  {
   "cell_type": "markdown",
   "metadata": {},
   "source": [
    "De manera similar, podemos usar otro tipos de broadcastings."
   ]
  },
  {
   "cell_type": "code",
   "execution_count": null,
   "metadata": {},
   "outputs": [],
   "source": [
    "arreglo_07 .*= 13.0;\n",
    "println(\"arreglo_07 = \", arreglo_07);"
   ]
  },
  {
   "cell_type": "markdown",
   "metadata": {},
   "source": [
    "También podemos generar arrays de múltiples dimensiones."
   ]
  },
  {
   "cell_type": "code",
   "execution_count": null,
   "metadata": {},
   "outputs": [],
   "source": [
    "arreglo_08 = Array{Int64,2}(undef,(3,4));\n",
    "println(\"arreglo_08 = \", arreglo_08);\n",
    "println(typeof(arreglo_08));"
   ]
  },
  {
   "cell_type": "code",
   "execution_count": null,
   "metadata": {},
   "outputs": [],
   "source": [
    "arreglo_09 = zeros(Int64,(4,5));\n",
    "println(\"arreglo_09 = \", arreglo_09);\n",
    "println(typeof(arreglo_09));"
   ]
  },
  {
   "cell_type": "markdown",
   "metadata": {},
   "source": [
    "y acceder, y/o mutar sus elementos y rangos de elementos de la siguiente manera."
   ]
  },
  {
   "cell_type": "code",
   "execution_count": null,
   "metadata": {},
   "outputs": [],
   "source": [
    "# Notar que en el caso de dimension 2 el Array recibe el nombre de matriz, el primer índice corresponde a fila \n",
    "# y el segundo a columna. (array[f][c]=array[feliz][cumpleaños] :))\n",
    "arreglo_09[3,4] = 24\n",
    "println(\"arreglo_09 = \", arreglo_09);"
   ]
  },
  {
   "cell_type": "code",
   "execution_count": null,
   "metadata": {},
   "outputs": [],
   "source": [
    "arreglo_09[:,2:3] .= 1;\n",
    "println(\"arreglo_09 = \", arreglo_09);"
   ]
  },
  {
   "cell_type": "code",
   "execution_count": null,
   "metadata": {},
   "outputs": [],
   "source": [
    "arreglo_10 = Array{Float64,3}(undef,(3,4,5));\n",
    "println(\"arreglo_10 = \", arreglo_10);\n",
    "println(typeof(arreglo_10));"
   ]
  },
  {
   "cell_type": "code",
   "execution_count": null,
   "metadata": {},
   "outputs": [],
   "source": [
    "arreglo_11 = ones(Float64,(3,4,5));\n",
    "println(\"arreglo_11 = \", arreglo_11);\n",
    "println(typeof(arreglo_11));"
   ]
  },
  {
   "cell_type": "markdown",
   "metadata": {},
   "source": [
    "Podemos iterar sobre un array."
   ]
  },
  {
   "cell_type": "code",
   "execution_count": null,
   "metadata": {},
   "outputs": [],
   "source": [
    "arreglo_12 = [1,2,3,4,5];\n",
    "for i in arreglo_12\n",
    "   @show i \n",
    "end"
   ]
  },
  {
   "cell_type": "code",
   "execution_count": null,
   "metadata": {},
   "outputs": [],
   "source": [
    "arreglo_13 = [\"tomate\",\"lechuga\",\"rucula\",\"zanahoria\"];\n",
    "for i in 1:length(arreglo_13)\n",
    "    println(\"i=\",i, \"->\", arreglo_13[i]);\n",
    "end"
   ]
  },
  {
   "cell_type": "markdown",
   "metadata": {},
   "source": [
    "Los arrays pueden sumarse, restarse y multiplicarse por un escalar, etc."
   ]
  },
  {
   "cell_type": "code",
   "execution_count": null,
   "metadata": {},
   "outputs": [],
   "source": [
    "a = [1,3,4];\n",
    "b = [4,5,6];\n",
    "c = a+b;\n",
    "println(\" (a + b) = \", c);"
   ]
  },
  {
   "cell_type": "code",
   "execution_count": null,
   "metadata": {},
   "outputs": [],
   "source": [
    "c = 5.0*a;\n",
    "println(\" (5.0 * a) = \", c);"
   ]
  },
  {
   "cell_type": "markdown",
   "metadata": {},
   "source": [
    "Tambien puede realizarse cualquier operación punto a punto usando broadcasting (Pablo va a mencionarles mejor esto)."
   ]
  },
  {
   "cell_type": "code",
   "execution_count": null,
   "metadata": {},
   "outputs": [],
   "source": [
    "c = a .* b;\n",
    "println(\" (a .* b) = \", c);"
   ]
  },
  {
   "cell_type": "code",
   "execution_count": null,
   "metadata": {},
   "outputs": [],
   "source": [
    "c = a .+ b;\n",
    "println(\" (a .+ b) = \", c);"
   ]
  },
  {
   "cell_type": "code",
   "execution_count": null,
   "metadata": {},
   "outputs": [],
   "source": [
    "c = 3 .* a;\n",
    "println(\" (3 .* a) = \", c);"
   ]
  },
  {
   "cell_type": "code",
   "execution_count": null,
   "metadata": {},
   "outputs": [],
   "source": [
    "c = cos.(a);\n",
    "println(\" cos.(a) = \", c);"
   ]
  },
  {
   "cell_type": "markdown",
   "metadata": {},
   "source": [
    "El operador **producto matricial** se denota por `*` y el de **adjunto** se denota por `'`."
   ]
  },
  {
   "cell_type": "code",
   "execution_count": null,
   "metadata": {},
   "outputs": [],
   "source": [
    "c = [-1 1 2]; # Sin comas definimos vector fila.\n",
    "println(c);"
   ]
  },
  {
   "cell_type": "code",
   "execution_count": null,
   "metadata": {},
   "outputs": [],
   "source": [
    "c_adj = c';\n",
    "println(c_adj);"
   ]
  },
  {
   "cell_type": "code",
   "execution_count": null,
   "metadata": {},
   "outputs": [],
   "source": [
    "b = [-1,1,2]; # Con comas definimos vector columna.\n",
    "println(b);"
   ]
  },
  {
   "cell_type": "code",
   "execution_count": null,
   "metadata": {},
   "outputs": [],
   "source": [
    "a = [1 2 3; 4 5 6]; # Con punto y comas separamos vectores filas para crear una matriz.\n",
    "println(a);"
   ]
  },
  {
   "cell_type": "code",
   "execution_count": null,
   "metadata": {},
   "outputs": [],
   "source": [
    "size(a)"
   ]
  },
  {
   "cell_type": "code",
   "execution_count": null,
   "metadata": {},
   "outputs": [],
   "source": [
    "size(b)"
   ]
  },
  {
   "cell_type": "code",
   "execution_count": null,
   "metadata": {},
   "outputs": [],
   "source": [
    "size(c)"
   ]
  },
  {
   "cell_type": "code",
   "execution_count": null,
   "metadata": {},
   "outputs": [],
   "source": [
    "a * b"
   ]
  },
  {
   "cell_type": "code",
   "execution_count": null,
   "metadata": {},
   "outputs": [],
   "source": [
    "a * c_adj"
   ]
  },
  {
   "cell_type": "markdown",
   "metadata": {},
   "source": [
    "Para realizar **operaciones tensoriales**, instalamos el paquete `Einsum.jl`. Por ejemplo para reducir operaciones tensoriales bajo el convenio de la suma sobre indices repetidos (notación de Einstein)."
   ]
  },
  {
   "cell_type": "code",
   "execution_count": null,
   "metadata": {},
   "outputs": [],
   "source": [
    "using Pkg\n",
    "Pkg.add(\"Einsum\")"
   ]
  },
  {
   "cell_type": "code",
   "execution_count": null,
   "metadata": {},
   "outputs": [],
   "source": [
    "using Einsum"
   ]
  },
  {
   "cell_type": "code",
   "execution_count": null,
   "metadata": {},
   "outputs": [],
   "source": [
    "# https://juliapackages.com/p/einsum\n",
    "X = randn(5,2)\n",
    "Y = randn(6,2)\n",
    "Z = randn(7,2)"
   ]
  },
  {
   "cell_type": "code",
   "execution_count": null,
   "metadata": {},
   "outputs": [],
   "source": [
    "# Create new array B with appropriate dimensions:\n",
    "@einsum B[i, j, k] := X[i, r] * Y[j, r] * Z[k, r]"
   ]
  },
  {
   "cell_type": "code",
   "execution_count": null,
   "metadata": {},
   "outputs": [],
   "source": [
    "@einsum B[i, j, k, l] := X[i, j] * Y[k, l]"
   ]
  },
  {
   "cell_type": "markdown",
   "metadata": {},
   "source": [
    "Tambien existen otros paquetes similares y/o relacioandos que vale la pena mirar:\n",
    "\n",
    "    StaticArrays.jl\n",
    "    Tensors.jl\n",
    "    Tensorial.jl\n",
    "    TensorOprations.jl\n",
    "    \n",
    "https://discourse.julialang.org/t/comparison-of-tensor-packages/11425/12"
   ]
  },
  {
   "cell_type": "markdown",
   "metadata": {},
   "source": [
    "### Paquete Images"
   ]
  },
  {
   "cell_type": "code",
   "execution_count": null,
   "metadata": {},
   "outputs": [],
   "source": [
    "using Pkg\n",
    "Pkg.add(\"Images\")"
   ]
  },
  {
   "cell_type": "code",
   "execution_count": null,
   "metadata": {},
   "outputs": [],
   "source": [
    "using Images"
   ]
  },
  {
   "cell_type": "code",
   "execution_count": null,
   "metadata": {},
   "outputs": [],
   "source": [
    "img1 = load(\"../images/supermasive_black_hole.jpg\")"
   ]
  },
  {
   "cell_type": "code",
   "execution_count": null,
   "metadata": {},
   "outputs": [],
   "source": [
    "img1_02 = img1[1:2:end,1:2:end]"
   ]
  },
  {
   "cell_type": "code",
   "execution_count": null,
   "metadata": {},
   "outputs": [],
   "source": [
    "img1_03 = img1[1:4:end,1:4:end]"
   ]
  },
  {
   "cell_type": "code",
   "execution_count": null,
   "metadata": {},
   "outputs": [],
   "source": [
    "img2 = load(\"talampaya.jpeg\")"
   ]
  },
  {
   "cell_type": "code",
   "execution_count": null,
   "metadata": {},
   "outputs": [],
   "source": [
    "typeof(img1)"
   ]
  },
  {
   "cell_type": "code",
   "execution_count": null,
   "metadata": {},
   "outputs": [],
   "source": [
    "typeof(img2)"
   ]
  },
  {
   "cell_type": "code",
   "execution_count": null,
   "metadata": {},
   "outputs": [],
   "source": [
    "img2[1:2:end,1:2:end]"
   ]
  },
  {
   "cell_type": "code",
   "execution_count": null,
   "metadata": {},
   "outputs": [],
   "source": [
    "[img1_03 img1_03]"
   ]
  },
  {
   "cell_type": "code",
   "execution_count": null,
   "metadata": {},
   "outputs": [],
   "source": [
    "[img2; img2]"
   ]
  },
  {
   "cell_type": "markdown",
   "metadata": {
    "jp-MarkdownHeadingCollapsed": true,
    "tags": []
   },
   "source": [
    "## Diccionarios (dictionaries)\n",
    "\n",
    "Los diccionarios son contenedores (containers) asociativos que, a diferencia de lo que ocurren con las tuplas o los arrays, permiten usar cómo llave (key) cualquier valor, i.e. no hace falta que las llaves sean valores numéricos de 1 a n, donde n es el número de elementos contenidos."
   ]
  },
  {
   "cell_type": "code",
   "execution_count": null,
   "metadata": {},
   "outputs": [],
   "source": [
    "d = Dict();\n",
    "println(\"d = \", d);"
   ]
  },
  {
   "cell_type": "code",
   "execution_count": null,
   "metadata": {},
   "outputs": [],
   "source": [
    "d[1] = \"hola\";\n",
    "println(\"d = \", d);"
   ]
  },
  {
   "cell_type": "code",
   "execution_count": null,
   "metadata": {},
   "outputs": [],
   "source": [
    "d[\"chau\"] = 3;\n",
    "println(\"d = \", d);"
   ]
  },
  {
   "cell_type": "code",
   "execution_count": null,
   "metadata": {},
   "outputs": [],
   "source": [
    "d[\"chau\"]"
   ]
  },
  {
   "cell_type": "markdown",
   "metadata": {},
   "source": [
    "Si solocitamos el valor asociado a una llave que no existe en el diccionario, entonces ocurre error."
   ]
  },
  {
   "cell_type": "code",
   "execution_count": null,
   "metadata": {},
   "outputs": [],
   "source": [
    "d[78]"
   ]
  },
  {
   "cell_type": "markdown",
   "metadata": {},
   "source": [
    "Por otro lado, podemos utilizar la función `get` y proveerle un valor a retornar en caso que la llave no exista."
   ]
  },
  {
   "cell_type": "code",
   "execution_count": null,
   "metadata": {},
   "outputs": [],
   "source": [
    "get(d,5.5,\"nada\") #= get(diccionario, llave, valor si no existe llave) =#"
   ]
  },
  {
   "cell_type": "markdown",
   "metadata": {},
   "source": [
    "Si la llave existe, entonces `get` opera como si lo pidiesemos normalmente usando `d[...]`."
   ]
  },
  {
   "cell_type": "code",
   "execution_count": null,
   "metadata": {},
   "outputs": [],
   "source": [
    "get(d,\"chau\",100)"
   ]
  },
  {
   "cell_type": "markdown",
   "metadata": {},
   "source": [
    "Podemos pedir al diccionario que sus llaves y/o valores sean de tipos predeterminados."
   ]
  },
  {
   "cell_type": "code",
   "execution_count": null,
   "metadata": {},
   "outputs": [],
   "source": [
    "d = Dict{String,Float64}()"
   ]
  },
  {
   "cell_type": "code",
   "execution_count": null,
   "metadata": {},
   "outputs": [],
   "source": [
    "d[\"ochenta\"] = 88.0"
   ]
  },
  {
   "cell_type": "markdown",
   "metadata": {},
   "source": [
    "De este modo, el siguiente ejemplo falla porque la llave no es de tipo `String`."
   ]
  },
  {
   "cell_type": "code",
   "execution_count": null,
   "metadata": {},
   "outputs": [],
   "source": [
    "d[100] = 89.0"
   ]
  },
  {
   "cell_type": "markdown",
   "metadata": {},
   "source": [
    "De la misma manera, el siguiente ejemplo falla porque el valor asignado no es de tipo `Float64`."
   ]
  },
  {
   "cell_type": "code",
   "execution_count": null,
   "metadata": {},
   "outputs": [],
   "source": [
    "d[\"tomate\"] = \"queso\""
   ]
  },
  {
   "cell_type": "markdown",
   "metadata": {},
   "source": [
    "Si queremos restringir el tipo de las llaves, únicamente, entonces hacemos."
   ]
  },
  {
   "cell_type": "code",
   "execution_count": null,
   "metadata": {},
   "outputs": [],
   "source": [
    "d = Dict{String,Any}()\n",
    "d[\"tomate\"] = \"queso\"\n",
    "d"
   ]
  },
  {
   "cell_type": "code",
   "execution_count": null,
   "metadata": {},
   "outputs": [],
   "source": [
    "d[33] = \"lechuga\""
   ]
  },
  {
   "cell_type": "markdown",
   "metadata": {},
   "source": [
    "Analogamente, si sólo queremos restringir el tipo de los valores, hacemos."
   ]
  },
  {
   "cell_type": "code",
   "execution_count": null,
   "metadata": {},
   "outputs": [],
   "source": [
    "d = Dict{Any,String}()\n",
    "d[33] = \"lechuga\"\n",
    "d"
   ]
  },
  {
   "cell_type": "code",
   "execution_count": null,
   "metadata": {},
   "outputs": [],
   "source": [
    "d[\"tomate\"]=\"queso\"\n",
    "d"
   ]
  },
  {
   "cell_type": "code",
   "execution_count": null,
   "metadata": {},
   "outputs": [],
   "source": [
    "d[101.0] = 300"
   ]
  },
  {
   "cell_type": "markdown",
   "metadata": {},
   "source": [
    "Podemos inicializar un dicionario de manera comprensiva."
   ]
  },
  {
   "cell_type": "code",
   "execution_count": null,
   "metadata": {},
   "outputs": [],
   "source": [
    "d = Dict(\"hola\"=>1,33=>101.0,300=>\"tomate\")"
   ]
  },
  {
   "cell_type": "markdown",
   "metadata": {},
   "source": [
    "Alternativamente"
   ]
  },
  {
   "cell_type": "code",
   "execution_count": null,
   "metadata": {},
   "outputs": [],
   "source": [
    "d = Dict([(\"hola\",1),(33,101.0),(300,\"tomate\")])"
   ]
  },
  {
   "cell_type": "markdown",
   "metadata": {},
   "source": [
    "Como las tuplas y arrays pueden ser usadas como llaves."
   ]
  },
  {
   "cell_type": "code",
   "execution_count": null,
   "metadata": {},
   "outputs": [],
   "source": [
    "d[(1,\"repollo\")] = 500\n",
    "d"
   ]
  },
  {
   "cell_type": "markdown",
   "metadata": {},
   "source": [
    "En cambio, los arrays no pueden ser usados como llaves porque son mutables."
   ]
  },
  {
   "cell_type": "code",
   "execution_count": null,
   "metadata": {},
   "outputs": [],
   "source": [
    "d[[2,\"calabaza\"]] = 600\n",
    "d"
   ]
  },
  {
   "cell_type": "code",
   "execution_count": null,
   "metadata": {},
   "outputs": [],
   "source": [
    "d[[2,\"calabaza\"]]"
   ]
  },
  {
   "cell_type": "code",
   "execution_count": null,
   "metadata": {},
   "outputs": [],
   "source": [
    "a = [2,\"calabaza\"]"
   ]
  },
  {
   "cell_type": "code",
   "execution_count": null,
   "metadata": {},
   "outputs": [],
   "source": [
    "d[a]"
   ]
  },
  {
   "cell_type": "markdown",
   "metadata": {},
   "source": [
    "Si modificamos el array, entonces deja de funcionar como la llave asociada a `600`."
   ]
  },
  {
   "cell_type": "code",
   "execution_count": null,
   "metadata": {},
   "outputs": [],
   "source": [
    "a[1] = 66\n",
    "d[a]"
   ]
  },
  {
   "cell_type": "code",
   "execution_count": null,
   "metadata": {},
   "outputs": [],
   "source": [
    "a = zeros(Int64,3)\n",
    "a[1] = 30\n",
    "a[2] = 40\n",
    "a[3] = 50\n",
    "d[a] = \"kiwi\"\n",
    "d"
   ]
  },
  {
   "cell_type": "code",
   "execution_count": null,
   "metadata": {},
   "outputs": [],
   "source": [
    "a[3] = 1000\n",
    "d[a]"
   ]
  },
  {
   "cell_type": "code",
   "execution_count": null,
   "metadata": {},
   "outputs": [],
   "source": [
    "a[3] = 50\n",
    "d[a]"
   ]
  },
  {
   "cell_type": "code",
   "execution_count": null,
   "metadata": {},
   "outputs": [],
   "source": [
    "b = Int64[30,40,50]\n",
    "d[b]"
   ]
  },
  {
   "cell_type": "markdown",
   "metadata": {},
   "source": [
    "Podemos iterar sobre un diccionario."
   ]
  },
  {
   "cell_type": "code",
   "execution_count": null,
   "metadata": {},
   "outputs": [],
   "source": [
    "d = Dict(\"hola\"=>100,200=>\"chau\",3.14=>:pi)\n",
    "for (k,v) in d\n",
    "   @show k,v \n",
    "end"
   ]
  },
  {
   "cell_type": "markdown",
   "metadata": {
    "jp-MarkdownHeadingCollapsed": true,
    "tags": []
   },
   "source": [
    "## Structs"
   ]
  },
  {
   "cell_type": "code",
   "execution_count": null,
   "metadata": {},
   "outputs": [],
   "source": [
    "struct Vehiculo\n",
    "    \n",
    "    #= definimos los miembros de la estructura (ó parámetros) y sus tipos =#\n",
    "    num_ruedas::Int64\n",
    "    precio::Float64\n",
    "    modelo::Int64\n",
    "    nombre::String\n",
    "    dimensiones::Vector{Float64}\n",
    "    volumen::Float64\n",
    "    \n",
    "    # Esta función de abajo se llama \"constructor\", donde uno le pasa los parámetros que quiera.\n",
    "    function Vehiculo(num_ruedas::Int64,precio::Float64,modelo::Int64,nombre::String,dimensiones::Vector{Float64})\n",
    "        volumen = 1.\n",
    "        for d in dimensiones\n",
    "            volumen *= d\n",
    "        end\n",
    "        # Esta linea es la que finalmente construye un objeto de tipo Vehiculo.\n",
    "        new(num_ruedas,precio,modelo,nombre,dimensiones,volumen)\n",
    "    end\n",
    "end"
   ]
  },
  {
   "cell_type": "code",
   "execution_count": null,
   "metadata": {},
   "outputs": [],
   "source": [
    "# instanciamos la estructura\n",
    "auto = Vehiculo(4,1500000.0,2012,\"Wolksvagen Gol\",[1.75,3.5]);\n",
    "println(typeof(auto));"
   ]
  },
  {
   "cell_type": "code",
   "execution_count": null,
   "metadata": {},
   "outputs": [],
   "source": [
    "auto"
   ]
  },
  {
   "cell_type": "code",
   "execution_count": null,
   "metadata": {},
   "outputs": [],
   "source": [
    "auto.num_ruedas"
   ]
  },
  {
   "cell_type": "code",
   "execution_count": null,
   "metadata": {},
   "outputs": [],
   "source": [
    "# definimos la siguiente función que acepta variables de tipo Vehiculo\n",
    "function caro(v::Vehiculo)\n",
    "    v.precio > 1000000\n",
    "end"
   ]
  },
  {
   "cell_type": "code",
   "execution_count": null,
   "metadata": {},
   "outputs": [],
   "source": [
    "caro(auto)"
   ]
  },
  {
   "cell_type": "code",
   "execution_count": null,
   "metadata": {},
   "outputs": [],
   "source": [
    "# definimos la siguiente función que acepta variables de tipo Vehiculo\n",
    "function automobil(v::Vehiculo)\n",
    "   v.num_ruedas == 4 \n",
    "end"
   ]
  },
  {
   "cell_type": "code",
   "execution_count": null,
   "metadata": {},
   "outputs": [],
   "source": [
    "automobil(auto)"
   ]
  },
  {
   "cell_type": "markdown",
   "metadata": {},
   "source": [
    "Los struct son por defecto inmutables. Por ende, no se puede cambiar el valor de sus miembros."
   ]
  },
  {
   "cell_type": "code",
   "execution_count": null,
   "metadata": {},
   "outputs": [],
   "source": [
    "auto.num_ruedas = 3"
   ]
  },
  {
   "cell_type": "markdown",
   "metadata": {},
   "source": [
    "Por otro lado, si uno de sus miembros es un array, se pueden mutar sus elementos."
   ]
  },
  {
   "cell_type": "code",
   "execution_count": null,
   "metadata": {},
   "outputs": [],
   "source": [
    "auto.dimensiones = [1.65,3.5]"
   ]
  },
  {
   "cell_type": "code",
   "execution_count": null,
   "metadata": {},
   "outputs": [],
   "source": [
    "auto.dimensiones[1] = 1.65"
   ]
  },
  {
   "cell_type": "code",
   "execution_count": null,
   "metadata": {},
   "outputs": [],
   "source": [
    "auto"
   ]
  },
  {
   "cell_type": "markdown",
   "metadata": {},
   "source": [
    "Si queremos cambiar el valor de los miembros de una estructura, entonces hay que definirla como `mutable` a costa del rendimiento del compilador."
   ]
  },
  {
   "cell_type": "code",
   "execution_count": null,
   "metadata": {},
   "outputs": [],
   "source": [
    "mutable struct Cuadrado\n",
    "    ancho::Float64\n",
    "    alto::Float64\n",
    "end"
   ]
  },
  {
   "cell_type": "code",
   "execution_count": null,
   "metadata": {},
   "outputs": [],
   "source": [
    "c = Cuadrado(30.0,20.0)"
   ]
  },
  {
   "cell_type": "code",
   "execution_count": null,
   "metadata": {},
   "outputs": [],
   "source": [
    "c.ancho = 50.0"
   ]
  },
  {
   "cell_type": "code",
   "execution_count": null,
   "metadata": {},
   "outputs": [],
   "source": [
    "c"
   ]
  },
  {
   "cell_type": "markdown",
   "metadata": {},
   "source": [
    "Las estructuras admiten parámetros de tipo (algo parecido a template programing)."
   ]
  },
  {
   "cell_type": "code",
   "execution_count": null,
   "metadata": {},
   "outputs": [],
   "source": [
    "struct Point{T}\n",
    "    x::T\n",
    "    y::T\n",
    "end"
   ]
  },
  {
   "cell_type": "code",
   "execution_count": null,
   "metadata": {},
   "outputs": [],
   "source": [
    "p = Point(1,2)\n",
    "\n",
    "# al pasarle numeros enteros Julia infiere que T es de tipo Int64"
   ]
  },
  {
   "cell_type": "code",
   "execution_count": null,
   "metadata": {},
   "outputs": [],
   "source": [
    "p = Point(3.2,4.3)\n",
    "\n",
    "# al pasarle numeros flotantes Julia infiere que T es de tipo Float64"
   ]
  },
  {
   "cell_type": "code",
   "execution_count": null,
   "metadata": {},
   "outputs": [],
   "source": [
    "p = Point(3,1.0)\n",
    "\n",
    "# esto nos da error porque T no puede ser de tipo Int64 y de tipo FLoat64 al mismo tiempo"
   ]
  },
  {
   "cell_type": "code",
   "execution_count": null,
   "metadata": {},
   "outputs": [],
   "source": [
    "p = Point{Int64}(2,3) # forzamos a que los elementos sean de tipo Int64"
   ]
  },
  {
   "cell_type": "code",
   "execution_count": null,
   "metadata": {},
   "outputs": [],
   "source": [
    "p = Point{Int16}(2,3) # forzamos a que los elementos sean de tipo Int16"
   ]
  },
  {
   "cell_type": "code",
   "execution_count": null,
   "metadata": {},
   "outputs": [],
   "source": [
    "typeof(p.x)"
   ]
  },
  {
   "cell_type": "code",
   "execution_count": null,
   "metadata": {},
   "outputs": [],
   "source": [
    "# notemos que realmente estamos forzando a que T sea de un tipo en específico por ejemplo ingresando\n",
    "# flotantes en el caso anterior\n",
    "\n",
    "p = Point{Int16}(2.0,3);\n",
    "typeof(p.x)"
   ]
  },
  {
   "cell_type": "code",
   "execution_count": null,
   "metadata": {},
   "outputs": [],
   "source": [
    "p = Point{Int16}(2.5,3);\n",
    "typeof(p.x)\n",
    "\n",
    "# esto nos da error porque Julia no puede convertir exacatamente el número 2.5 en Int16"
   ]
  },
  {
   "cell_type": "markdown",
   "metadata": {
    "jp-MarkdownHeadingCollapsed": true,
    "tags": []
   },
   "source": [
    "##  Deque\n",
    "\n",
    "Las deque (double ended queues) se implementan como linked lists en ambos sentidos. Antes de presentarlas, instalamos el paquete `DataStructures.jl`.\n",
    "\n",
    "https://juliacollections.github.io/DataStructures.jl/latest/deque/#Deque-1\n",
    "\n",
    "Se usa mucho, pero no todos los conocen. Son listas \"doblemente\" linkeadas."
   ]
  },
  {
   "cell_type": "code",
   "execution_count": null,
   "metadata": {},
   "outputs": [],
   "source": [
    "using Pkg\n",
    "Pkg.add(\"DataStructures\")"
   ]
  },
  {
   "cell_type": "code",
   "execution_count": null,
   "metadata": {},
   "outputs": [],
   "source": [
    "using DataStructures"
   ]
  },
  {
   "cell_type": "code",
   "execution_count": null,
   "metadata": {},
   "outputs": [],
   "source": [
    "a = Deque{Int64}()\n",
    "push!(a,10)         # let us put some elements into the deque\n",
    "push!(a,20)\n",
    "push!(a,30)\n",
    "a"
   ]
  },
  {
   "cell_type": "code",
   "execution_count": null,
   "metadata": {},
   "outputs": [],
   "source": [
    "isempty(a)          # test whether the dequeue is empty"
   ]
  },
  {
   "cell_type": "code",
   "execution_count": null,
   "metadata": {},
   "outputs": [],
   "source": [
    "length(a)           # get the number of elements"
   ]
  },
  {
   "cell_type": "code",
   "execution_count": null,
   "metadata": {},
   "outputs": [],
   "source": [
    "push!(a, 10)        # add an element to the back"
   ]
  },
  {
   "cell_type": "code",
   "execution_count": null,
   "metadata": {},
   "outputs": [],
   "source": [
    "pop!(a)             # remove an element from the back"
   ]
  },
  {
   "cell_type": "code",
   "execution_count": null,
   "metadata": {},
   "outputs": [],
   "source": [
    "pushfirst!(a, 40)   # add an element to the front"
   ]
  },
  {
   "cell_type": "code",
   "execution_count": null,
   "metadata": {},
   "outputs": [],
   "source": [
    "popfirst!(a)        # remove an element from the front"
   ]
  },
  {
   "cell_type": "code",
   "execution_count": null,
   "metadata": {},
   "outputs": [],
   "source": [
    "first(a)            # get the element at the front"
   ]
  },
  {
   "cell_type": "code",
   "execution_count": null,
   "metadata": {},
   "outputs": [],
   "source": [
    "last(a)             # get the element at the back"
   ]
  },
  {
   "cell_type": "markdown",
   "metadata": {},
   "source": [
    "Las deques se pueden iterar."
   ]
  },
  {
   "cell_type": "code",
   "execution_count": null,
   "metadata": {},
   "outputs": [],
   "source": [
    "for i in a\n",
    "   @show i \n",
    "end"
   ]
  }
 ],
 "metadata": {
  "@webio": {
   "lastCommId": null,
   "lastKernelId": null
  },
  "kernelspec": {
   "display_name": "Julia 1.7.2",
   "language": "julia",
   "name": "julia-1.7"
  },
  "language_info": {
   "file_extension": ".jl",
   "mimetype": "application/julia",
   "name": "julia",
   "version": "1.7.2"
  }
 },
 "nbformat": 4,
 "nbformat_minor": 4
}
