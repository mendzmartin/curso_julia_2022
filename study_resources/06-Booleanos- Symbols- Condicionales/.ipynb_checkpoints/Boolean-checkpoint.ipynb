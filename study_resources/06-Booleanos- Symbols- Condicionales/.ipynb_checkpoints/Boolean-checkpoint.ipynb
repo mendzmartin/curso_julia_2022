{
 "cells": [
  {
   "cell_type": "markdown",
   "metadata": {
    "tags": []
   },
   "source": [
    "## Lógica Básica en Julia"
   ]
  },
  {
   "cell_type": "code",
   "execution_count": null,
   "metadata": {
    "tags": []
   },
   "outputs": [],
   "source": [
    "using Pkg; Pkg.add(\"Plots\")\n",
    "using Plots"
   ]
  },
  {
   "cell_type": "markdown",
   "metadata": {},
   "source": [
    "**La una buena parte del código que se escribe no es para procesar números sino para tomar decisiones.**\n",
    "\n",
    "Veamos un ejemplo. Asignando distintos valores a `a`y `b` obtenemos distintos resultados en la celda. Pruebe hasta que haya obtenido todos los resultados posibles."
   ]
  },
  {
   "cell_type": "code",
   "execution_count": null,
   "metadata": {
    "tags": []
   },
   "outputs": [],
   "source": [
    "a_scan = readline();\n",
    "b_scan = readline();\n",
    "\n",
    "a = parse(Float64, a_scan);\n",
    "b = parse(Float64, b_scan);\n",
    "\n",
    "if a > 1\n",
    "    println(\"El número ingresado es mayor a uno.\");\n",
    "elseif a == 1\n",
    "    println(\"El número ingreado es igual a uno.\");\n",
    "elseif a < 1\n",
    "    println(\"El número ingresado es menor a uno.\");\n",
    "else\n",
    "    println(\"El número ingresado no se puede comparar con el número uno.\");\n",
    "end\n",
    "\n",
    "println(\"El programa ya terminó.\");"
   ]
  },
  {
   "cell_type": "markdown",
   "metadata": {
    "tags": []
   },
   "source": [
    "Qué es lo que sucede? Los operadores `>`, `<`y `==` son operadores lógicos. Es decir retornan *verdadero* (`true`) o *falso* (`false`) de acuerdo los valores que se les da."
   ]
  },
  {
   "cell_type": "code",
   "execution_count": null,
   "metadata": {
    "tags": []
   },
   "outputs": [],
   "source": [
    "bool_01 = a > b;\n",
    "println(\"bool_01 = \", bool_01);"
   ]
  },
  {
   "cell_type": "code",
   "execution_count": null,
   "metadata": {
    "tags": []
   },
   "outputs": [],
   "source": [
    "bool_01 = 2 > 1;     # comparación definida de forma intuitiva\n",
    "bool_01_01 = >(2,1); # comparación definida usando funciones\n",
    "\n",
    "comparacion = (bool_01 == bool_01_01);\n",
    "println(\"¿bool_01 es equivalente a bool_01_01? \", comparacion);\n",
    "\n",
    "println(\"bool_01 = \", bool_01, \" y es de tipo \", typeof(bool_01));"
   ]
  },
  {
   "cell_type": "markdown",
   "metadata": {},
   "source": [
    "Veamos qué información tenemos sobre uno de ellos:"
   ]
  },
  {
   "cell_type": "code",
   "execution_count": null,
   "metadata": {
    "tags": []
   },
   "outputs": [],
   "source": [
    "@doc > # usamos macro @doc para que Julia nos arroge información de la función >"
   ]
  },
  {
   "cell_type": "code",
   "execution_count": null,
   "metadata": {},
   "outputs": [],
   "source": [
    "bool_02 = \"ab\" > \"aa\";\n",
    "println(\"bool_02 = \", bool_02, \" y es de tipo \", typeof(bool_02));"
   ]
  },
  {
   "cell_type": "markdown",
   "metadata": {},
   "source": [
    "**Vemos que `>` es realmente una función!** Más familiarmente la podemos expresar así:"
   ]
  },
  {
   "cell_type": "code",
   "execution_count": null,
   "metadata": {},
   "outputs": [],
   "source": [
    "bool_03 = >(3,2);\n",
    "println(\"bool_03 = \", bool_03, \" y es de tipo \", typeof(bool_03));"
   ]
  },
  {
   "cell_type": "markdown",
   "metadata": {
    "tags": []
   },
   "source": [
    "A nivel del compilador realiza una operación así: "
   ]
  },
  {
   "cell_type": "code",
   "execution_count": null,
   "metadata": {
    "tags": []
   },
   "outputs": [],
   "source": [
    "@code_llvm(>(1,2))"
   ]
  },
  {
   "cell_type": "markdown",
   "metadata": {},
   "source": [
    "Los valores del álgebra booleana, `true` y `false` se pueden convertir a los enteros `1` y `0` respectivamente. "
   ]
  },
  {
   "cell_type": "markdown",
   "metadata": {},
   "source": [
    "*Acá es importante notar que las variables de tipo booleanas nos arrojan como resultado un entero de 8 bits (observar `i8` en la salida del macro `@code_llvm`). Estos enteros son aquellos asociados al álgebra booleana.*"
   ]
  },
  {
   "cell_type": "code",
   "execution_count": null,
   "metadata": {},
   "outputs": [],
   "source": [
    "valor_01 = true * 5;\n",
    "println(\"valor_01 = \", valor_01, \" y es de tipo \", typeof(valor_01));"
   ]
  },
  {
   "cell_type": "code",
   "execution_count": null,
   "metadata": {},
   "outputs": [],
   "source": [
    "valor_02 = false * 5;\n",
    "println(\"valor_02 = \", valor_02, \" y es de tipo \", typeof(valor_02));"
   ]
  },
  {
   "cell_type": "markdown",
   "metadata": {},
   "source": [
    "Veamos como podemos usar esta propiedad para definir funciones particulares y visualizar la acción de los operadores lógicos. Por ejemplo, la siguiente función pega una parábola negativa con otra positiva en $x=0$."
   ]
  },
  {
   "cell_type": "code",
   "execution_count": null,
   "metadata": {
    "tags": []
   },
   "outputs": [],
   "source": [
    "x0 = 0;\n",
    "f(x) = -(x < x0)*x^2 + (x >= x0)*x^2;\n",
    "plot(f)"
   ]
  },
  {
   "cell_type": "markdown",
   "metadata": {},
   "source": [
    "### Ejercicio: \n",
    "\n",
    "Cómo construyo la función valor absoluto?"
   ]
  },
  {
   "cell_type": "code",
   "execution_count": null,
   "metadata": {},
   "outputs": [],
   "source": [
    "print(\"Ingrese el origen de la función \");"
   ]
  },
  {
   "cell_type": "code",
   "execution_count": null,
   "metadata": {},
   "outputs": [],
   "source": [
    "x0_scan = readline();\n",
    "\n",
    "x0 = parse(Float64, x0_scan);\n",
    "\n",
    "f(x) = -(x < x0)*(x-x0) + (x > x0)*(x-x0);\n",
    "plot(f)"
   ]
  },
  {
   "cell_type": "markdown",
   "metadata": {
    "tags": []
   },
   "source": [
    "## Los operadores &&, || y !\n",
    "\n",
    "Corresponden a los operadores, **y**, **o** y **negación**."
   ]
  },
  {
   "cell_type": "code",
   "execution_count": null,
   "metadata": {},
   "outputs": [],
   "source": [
    "true && true # and"
   ]
  },
  {
   "cell_type": "code",
   "execution_count": null,
   "metadata": {},
   "outputs": [],
   "source": [
    "false || true # or"
   ]
  },
  {
   "cell_type": "code",
   "execution_count": null,
   "metadata": {},
   "outputs": [],
   "source": [
    "!true"
   ]
  },
  {
   "cell_type": "markdown",
   "metadata": {},
   "source": [
    "Podemos generar las tablas lógicas facilmente!"
   ]
  },
  {
   "cell_type": "code",
   "execution_count": null,
   "metadata": {},
   "outputs": [],
   "source": [
    "A = (true, false);"
   ]
  },
  {
   "cell_type": "code",
   "execution_count": null,
   "metadata": {},
   "outputs": [],
   "source": [
    "And = [i && j for i in A, j in A]"
   ]
  },
  {
   "cell_type": "code",
   "execution_count": null,
   "metadata": {},
   "outputs": [],
   "source": [
    "Or = [i || j for i in A, j in A]"
   ]
  },
  {
   "cell_type": "code",
   "execution_count": null,
   "metadata": {},
   "outputs": [],
   "source": [
    ".!And .== Or"
   ]
  },
  {
   "cell_type": "markdown",
   "metadata": {},
   "source": [
    "Para familiarizarnos con estos operadores podemos aplicarlos a la construcción de funciones simples:"
   ]
  },
  {
   "cell_type": "code",
   "execution_count": null,
   "metadata": {},
   "outputs": [],
   "source": [
    "# definimos la función pulso finito\n",
    "function g_e(x)\n",
    "    if x >= 0 && x <= 1 return 1.\n",
    "    else return 0\n",
    "    end\n",
    "end"
   ]
  },
  {
   "cell_type": "code",
   "execution_count": null,
   "metadata": {
    "tags": []
   },
   "outputs": [],
   "source": [
    "plot(g_e)"
   ]
  },
  {
   "cell_type": "code",
   "execution_count": null,
   "metadata": {},
   "outputs": [],
   "source": [
    "g(x) = 1.0*(x >= 0 && x <=1)"
   ]
  },
  {
   "cell_type": "code",
   "execution_count": null,
   "metadata": {
    "tags": []
   },
   "outputs": [],
   "source": [
    "plot(g)"
   ]
  },
  {
   "cell_type": "markdown",
   "metadata": {},
   "source": [
    "Cómo hacemos la función $h(\\cdot)$ que vale 1 en todos lados excepto en el intervalo $[0,1]$ donde vale 1?\n",
    "\n",
    "Notemos que $h(x) = 1 - g(x)$."
   ]
  },
  {
   "cell_type": "code",
   "execution_count": null,
   "metadata": {},
   "outputs": [],
   "source": [
    "h(x) = 1.0*(x < 0 || x >= 1)"
   ]
  },
  {
   "cell_type": "code",
   "execution_count": null,
   "metadata": {
    "tags": []
   },
   "outputs": [],
   "source": [
    "plot(h)"
   ]
  },
  {
   "cell_type": "markdown",
   "metadata": {},
   "source": [
    "### Otros operadores que retornan tipos booleanos"
   ]
  },
  {
   "cell_type": "code",
   "execution_count": null,
   "metadata": {},
   "outputs": [],
   "source": [
    "issubset([4,5], [4,5,6]) # determina si cada elemento de [4,5] está también en [4,5,6]"
   ]
  },
  {
   "cell_type": "code",
   "execution_count": null,
   "metadata": {},
   "outputs": [],
   "source": [
    "[4,5] ⊆ [4,5,6] #\\subseteq <tab>"
   ]
  },
  {
   "cell_type": "code",
   "execution_count": null,
   "metadata": {},
   "outputs": [],
   "source": [
    "4 in [3,4,5]"
   ]
  },
  {
   "cell_type": "code",
   "execution_count": null,
   "metadata": {},
   "outputs": [],
   "source": [
    "4 ∈ [3,4,5] # \\in <tab> "
   ]
  },
  {
   "cell_type": "code",
   "execution_count": null,
   "metadata": {},
   "outputs": [],
   "source": [
    "\"hola\" ∈ (1., 3, \"hola\", [1,2,3])"
   ]
  },
  {
   "cell_type": "code",
   "execution_count": null,
   "metadata": {},
   "outputs": [],
   "source": [
    "# verdadero / falso dependiendo de si cada elemento del segundo conjunto está en el primero\n",
    "vector_01 = in([4,6,5]).([3, 9]);\n",
    "vector_02 = in([4,6,5]).([4, 9]);\n",
    "vector_03 = in([4,6,5]).([9, 6]);\n",
    "vector_04 = in([4,6,5]).([4, 6]);\n",
    "println(\"vector_01 = \", vector_01, \" y es de tipo \", typeof(vector_01));\n",
    "println(\"vector_02 = \", vector_02, \" y es de tipo \", typeof(vector_02));\n",
    "println(\"vector_03 = \", vector_03, \" y es de tipo \", typeof(vector_03));\n",
    "println(\"vector_04 = \", vector_04, \" y es de tipo \", typeof(vector_04));"
   ]
  },
  {
   "cell_type": "code",
   "execution_count": null,
   "metadata": {},
   "outputs": [],
   "source": [
    "#= acá nos preguntamos si \"i->(4<=i<=6)\" mapea todos los elementos de [4,5,6] =#\n",
    "all(i->(4<=i<=6), [4,5,6])"
   ]
  },
  {
   "cell_type": "code",
   "execution_count": null,
   "metadata": {},
   "outputs": [],
   "source": [
    "#= nos preguntamos si todos los elementos de un arreglo son verdaderos =#\n",
    "\n",
    "l_1 = [false, false, false];\n",
    "println(\"all(l_1) es de tipo \", typeof(all(l_1)), \" y all(l_1) = \", all(l_1));\n",
    "\n",
    "l_2 = [false, false, true];\n",
    "println(\"all(l_2) es de tipo \", typeof(all(l_2)), \" y all(l_2) = \", all(l_2));\n",
    "\n",
    "l_3 = [true, true, true];\n",
    "println(\"all(l_3) es de tipo \", typeof(all(l_3)), \" y all(l_3) = \", all(l_3));"
   ]
  },
  {
   "cell_type": "code",
   "execution_count": null,
   "metadata": {},
   "outputs": [],
   "source": [
    "all(vector_04)"
   ]
  },
  {
   "cell_type": "code",
   "execution_count": null,
   "metadata": {},
   "outputs": [],
   "source": [
    "#= nos preguntamos si una frase está contenida en otra =#\n",
    "\n",
    "frase_01 = \"hola que tal\";\n",
    "frase_02 = \"que\";\n",
    "frase_03 = \"hola tal\";\n",
    "println(\"¿frase_02 está contenida en frase_01? \", contains(frase_01, frase_02));\n",
    "println(\"¿frase_03 está contenida en frase_01? \", contains(frase_01, frase_03));"
   ]
  },
  {
   "cell_type": "code",
   "execution_count": null,
   "metadata": {},
   "outputs": [],
   "source": [
    "#= nos preguntamos si un determinado dato es de tipo Int64 =#\n",
    "2. isa Int64"
   ]
  },
  {
   "cell_type": "code",
   "execution_count": null,
   "metadata": {},
   "outputs": [],
   "source": [
    "#= nos preguntamos si un determinado dato es de tipo Float64 =#\n",
    "2. isa Float64"
   ]
  },
  {
   "cell_type": "code",
   "execution_count": null,
   "metadata": {
    "tags": []
   },
   "outputs": [],
   "source": [
    "@doc in\n",
    "\n",
    "#=\n",
    " Prestar atención a las variables de tipo \"missing\". Estos datos uno los agrega a una matriz, por ejemplo,\n",
    " en los lugares donde uno no sabe qué valores toman pero que existen, entonces Julia los trata como valores\n",
    " auténticos pero donde no se específica que valores peuden tomar.\n",
    "=#"
   ]
  },
  {
   "cell_type": "markdown",
   "metadata": {},
   "source": [
    "## Símbolos"
   ]
  },
  {
   "cell_type": "code",
   "execution_count": null,
   "metadata": {
    "tags": []
   },
   "outputs": [],
   "source": [
    "# la siguiente expresión nos da error porque x no tiene una cantidad asignada\n",
    "1 + x"
   ]
  },
  {
   "cell_type": "code",
   "execution_count": null,
   "metadata": {},
   "outputs": [],
   "source": [
    "# pero acá, Julia sí nos deja usar x como variable\n",
    "f(x) = 1 + x"
   ]
  },
  {
   "cell_type": "code",
   "execution_count": null,
   "metadata": {},
   "outputs": [],
   "source": [
    "verde = \"esperanza\";\n",
    "println(\"verde = \", verde);\n",
    "println(\":verde = \", :verde);\n",
    "println(\"el tipo de la variable 'verde' es = \", typeof(verde));\n",
    "println(\"el tipo de la variable ':verde' es = \", typeof(:verde));"
   ]
  },
  {
   "cell_type": "code",
   "execution_count": null,
   "metadata": {},
   "outputs": [],
   "source": [
    "# consultamos qué valor tiene la variable simbólica :verde\n",
    "eval(:verde)"
   ]
  },
  {
   "cell_type": "code",
   "execution_count": null,
   "metadata": {},
   "outputs": [],
   "source": [
    "s = :(1+x);\n",
    "println(\"s = \", s, \", y es de tipo \", typeof(s));"
   ]
  },
  {
   "cell_type": "code",
   "execution_count": null,
   "metadata": {},
   "outputs": [],
   "source": [
    "import Pkg; Pkg.add(\"Symbolics\")\n",
    "using Symbolics"
   ]
  },
  {
   "cell_type": "code",
   "execution_count": null,
   "metadata": {},
   "outputs": [],
   "source": [
    "# definimos una variable\n",
    "@variables t"
   ]
  },
  {
   "cell_type": "code",
   "execution_count": null,
   "metadata": {},
   "outputs": [],
   "source": [
    "(1+t)^2"
   ]
  },
  {
   "cell_type": "code",
   "execution_count": null,
   "metadata": {},
   "outputs": [],
   "source": [
    "# Notemos que la variable t no es no es una variable simbolica sino que es de otro tipo\n",
    "typeof(t)"
   ]
  },
  {
   "cell_type": "code",
   "execution_count": null,
   "metadata": {},
   "outputs": [],
   "source": [
    "methods(^)"
   ]
  }
 ],
 "metadata": {
  "kernelspec": {
   "display_name": "Julia 1.7.2",
   "language": "julia",
   "name": "julia-1.7"
  },
  "language_info": {
   "file_extension": ".jl",
   "mimetype": "application/julia",
   "name": "julia",
   "version": "1.7.2"
  },
  "latex_envs": {
   "LaTeX_envs_menu_present": true,
   "autoclose": false,
   "autocomplete": true,
   "bibliofile": "biblio.bib",
   "cite_by": "apalike",
   "current_citInitial": 1,
   "eqLabelWithNumbers": true,
   "eqNumInitial": 1,
   "hotkeys": {
    "equation": "Ctrl-E",
    "itemize": "Ctrl-I"
   },
   "labels_anchors": false,
   "latex_user_defs": false,
   "report_style_numbering": false,
   "user_envs_cfg": false
  }
 },
 "nbformat": 4,
 "nbformat_minor": 4
}
