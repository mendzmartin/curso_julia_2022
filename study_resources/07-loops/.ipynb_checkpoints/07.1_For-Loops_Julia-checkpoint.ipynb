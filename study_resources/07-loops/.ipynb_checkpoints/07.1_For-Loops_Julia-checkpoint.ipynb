{
 "cells": [
  {
   "cell_type": "markdown",
   "id": "b3abed14-1a2a-4793-a164-0af2d15101bd",
   "metadata": {},
   "source": [
    "<p style=\"text-align:center\"><img src=\"Julia.jpg\" width=\"350\" ></p>"
   ]
  },
  {
   "cell_type": "markdown",
   "id": "b6f0581c-cdbf-482d-bb16-c1f3241f36a9",
   "metadata": {},
   "source": [
    "# Bucle `for` en Julia"
   ]
  },
  {
   "cell_type": "markdown",
   "id": "590b5c2d-07e9-47a0-b14e-64fef7bdac9c",
   "metadata": {},
   "source": [
    "For-loop (bucle for) es un tipo de bucle que itera sobre un objeto iterable o simplemente un rango de valores. Ejecuta alguna lógica definida por el usuario en cada iteración.  \n",
    "\n",
    "[Manualito de Julia](https://www.machinelearningplus.com/julia/for-loop-in-julia/)"
   ]
  },
  {
   "cell_type": "markdown",
   "id": "78926f82-2d23-4dd0-abe0-814ec3c71f3a",
   "metadata": {},
   "source": [
    "## Contenido\n",
    "\n",
    "1.    Introducción a For-loop en Julia\n",
    "2.    Bucle anidado\n",
    "3.    Comprensión de listas en Julia\n",
    "4.    Instrucción Break en For-loop\n",
    "5.    Continuar declaración en For-loop\n",
    "6.    Ejercicio práctico "
   ]
  },
  {
   "cell_type": "markdown",
   "id": "1b9384a0-7df5-4d60-a535-7994374f9993",
   "metadata": {},
   "source": [
    "## 1. Introducción a For-loop en Julia\n",
    "\n",
    "For-loop es una declaración de flujo de control, que se utiliza para repetir una lógica varias veces mientras se itera sobre un objeto iterable como una lista o un rango. En Julia, la declaración de bucle `for` sigue una sintaxis similar a los bucles for vistos en Python y R. La principal diferencia es que, en Julia, se requiere una declaración para finalizar el bucle `end`. A continuación se muestra la sintaxis:\n",
    "Sintaxis de un bucle for\n",
    "\n",
    "```julia\n",
    "for i in list\n",
    "    # do something here for each i\n",
    "end\n",
    "```\n",
    "\n",
    "Hecho con la teoría, vamos a ver un ejemplo simple."
   ]
  },
  {
   "cell_type": "code",
   "execution_count": null,
   "id": "0cb0b9a2-2bfc-4a4c-ab6b-126cbfc3e2ce",
   "metadata": {},
   "outputs": [],
   "source": [
    "list = 1:10; # hacemos una lista desde 1 a 10 incluidos ambos!\n",
    "print(list)"
   ]
  },
  {
   "cell_type": "code",
   "execution_count": null,
   "id": "b87ed29d-6970-4d11-8399-8c62ac534c37",
   "metadata": {},
   "outputs": [],
   "source": [
    "# Imprime la tabla de multiplicar del 9\n",
    "list = 1:10;\n",
    "println(\"Recordando la tabla del 9\");\n",
    "for i in list\n",
    "    println(\"9 * $i = \",9*i);\n",
    "end"
   ]
  },
  {
   "cell_type": "markdown",
   "id": "b218ffe1-00ef-4041-8549-4167ce439a16",
   "metadata": {},
   "source": [
    "No es obligatorio establecer la variable de indexación de antemano. Se puede usar directamente dentro de la declaración condicional."
   ]
  },
  {
   "cell_type": "code",
   "execution_count": null,
   "id": "fbcaaee1-52dc-4f92-a53c-f406bc27aef8",
   "metadata": {},
   "outputs": [],
   "source": [
    "# Imprime la tabla de multiplicar del 9\n",
    "for i in 1:10\n",
    "    println(\"9 * $i = \",9*i)\n",
    "end"
   ]
  },
  {
   "cell_type": "markdown",
   "id": "21b9534c-7215-48f1-8af4-fcb7a09298d5",
   "metadata": {},
   "source": [
    "Acabas de ver un ejemplo muy simple de for-loop. "
   ]
  },
  {
   "cell_type": "markdown",
   "id": "c2f5de71-18e4-465f-971f-b90bd896817d",
   "metadata": {},
   "source": [
    "## 2. Bucle anidado \n",
    "Al tratar con proyectos reales, necesitaría múltiples bucles, un bucle dentro de otro bucle, para realizar operaciones. Este tipo de bucles múltiples se denominan bucles anidados.  \n",
    "\n",
    "Bucle anidado significa una sentencia de bucle que se ejecuta dentro de otra sentencia de bucle. Es por eso que los bucles anidados también se denominan \"bucle dentro del bucle\".\n",
    "Sintaxis de un bucle for anidado\n",
    "\n",
    "```julia\n",
    "for i in list1\n",
    "    for j in list2\n",
    "    # do something here for each i and j\n",
    "    end\n",
    "end\n",
    "```\n",
    "\n",
    "A continuación se muestra un ejemplo sencillo: "
   ]
  },
  {
   "cell_type": "code",
   "execution_count": null,
   "id": "4ed4ceac-0945-44dd-9252-8608a5cf3678",
   "metadata": {},
   "outputs": [],
   "source": [
    "# Imprime todas las combinaciones de array1 y array2\n",
    "array1 = [\"Machine Learning\", \"Artificial Intelligence\", \"Deep Learning\"];\n",
    "array2 = [\"Statistics\", \"Julia Programming\", \"Domain Knowledge\"];\n",
    "\n",
    "for i in array1\n",
    "    for j in array2\n",
    "        println(i,\" - \",j);\n",
    "    end\n",
    "end"
   ]
  },
  {
   "cell_type": "markdown",
   "id": "65b8c865-c177-4551-813a-dfb28d60b084",
   "metadata": {},
   "source": [
    "> Nota: Dado que tiene dos bucles, debe haber también dos declaraciones `end`"
   ]
  },
  {
   "cell_type": "markdown",
   "id": "d58fb9dc-071a-47fe-98e7-3828a2052c7a",
   "metadata": {},
   "source": [
    "## 3. Comprensión de listas en Julia\n",
    "Puede lograr algo similar usando la comprensión de listas en Julia.\n",
    "> Usaremos las mismas definiciones de array1 y array2"
   ]
  },
  {
   "cell_type": "code",
   "execution_count": null,
   "id": "18737c35-79f4-4351-af3b-e75d39f5b13e",
   "metadata": {},
   "outputs": [],
   "source": [
    "out = [\"$i -  $j\" for i in array1 for j in array2];\n",
    "println(\"out = \", out, \" y es de tipo \", typeof(out));"
   ]
  },
  {
   "cell_type": "markdown",
   "id": "3a4406bb-afbd-47eb-af56-99b57246ad09",
   "metadata": {},
   "source": [
    "O tambien puedo simplificar el la forma de expresarlo eliminado el doble `for`"
   ]
  },
  {
   "cell_type": "code",
   "execution_count": null,
   "id": "9eb88079-b2ff-44e5-bf88-ae290e50f6a5",
   "metadata": {},
   "outputs": [],
   "source": [
    "out = [\"$i -  $j\" for i in array1, j in array2]; # Sin doble for\n",
    "println(\"out = \", out, \" y es de tipo \", typeof(out));"
   ]
  },
  {
   "cell_type": "markdown",
   "id": "f97bed77-f783-4bc8-958f-c7c5b52dd628",
   "metadata": {},
   "source": [
    "La diferencia aquí es que estoy almacenando el resultado en `out` y no solo imprimiéndolo.  \n",
    "Si bien es posible ejecutar un `println` dentro de los corchetes, pero si no se devuelve nada, aún devolverá un objeto de matriz de 9 elementos donde cada elemento es un 'nothing'. "
   ]
  },
  {
   "cell_type": "code",
   "execution_count": null,
   "id": "6bf89cdb-f3ed-4de5-a24b-f26234f9d930",
   "metadata": {},
   "outputs": [],
   "source": [
    "[println(\"$i -  $j\") for i in array1 for j in array2];\n",
    "println(\"----------------------------------\");"
   ]
  },
  {
   "cell_type": "code",
   "execution_count": null,
   "id": "65014ee8-135e-47ef-9a72-95da319f4630",
   "metadata": {},
   "outputs": [],
   "source": [
    "[\"$i -  $j\" for i in array1 for j in array2];\n",
    "println(\"----------------------------------\"); # Ups!! No devuelve nada!!"
   ]
  },
  {
   "cell_type": "markdown",
   "id": "f9ae5b6d-af02-4bd0-8808-156c27699abb",
   "metadata": {},
   "source": [
    "## 4. Declaración de ruptura - `break`\n",
    "\n",
    "La declaración `break` es una declaración de control de bucle, que se utiliza para salir de un bucle for antes de que haya iterado a través de todos los elementos de la lista.  \n",
    "Por lo general, se usa dentro de la condición `if-else`, para salir del bucle si se cumple la condición. Veamos un ejemplo."
   ]
  },
  {
   "cell_type": "code",
   "execution_count": null,
   "id": "46c83bfb-a46c-4fd4-a437-1832b7ba9099",
   "metadata": {},
   "outputs": [],
   "source": [
    "#= Imprime todos los números cuadrados del 1 al 20, \n",
    "pero asegúrate de que los números cuadrados sean menores que 100 =#\n",
    "\n",
    "for i in 1:100\n",
    "    sq_num = i*i;\n",
    "    if sq_num > 100\n",
    "        break\n",
    "    end\n",
    "    println(sq_num);\n",
    "end"
   ]
  },
  {
   "cell_type": "markdown",
   "id": "7b7e4624-113f-4f70-ac52-a0cdd0cc9dae",
   "metadata": {},
   "source": [
    "Sin la palabra clave break, el ciclo for anterior iteraría hasta 100. Este ciclo se cierra antes de tiempo usando una instrucción `break`."
   ]
  },
  {
   "cell_type": "markdown",
   "id": "9fad0211-cbdd-4830-b57c-2e5750acd5f1",
   "metadata": {},
   "source": [
    "## 5. Declaración de continuación - `continue`\n",
    "\n",
    "Hemos visto cómo romper un ciclo sobre alguna condición específica con la sentencia `break`.  \n",
    "¿Qué sucede si desea omitir solo una iteración específica en lugar de salir del ciclo por completo?  \n",
    "Vamos a ver cómo hacer eso. \n",
    "\n",
    "La declaración de continuación es una declaración de control de bucle, que se utiliza para omitir una iteración y pasar a la siguiente inmediatamente.  \n",
    "\n",
    "Al igual que la sentencia `break`, `continue` también suele colocarse dentro de una condición `if-else`.  \n",
    "Cuando se encuentra una sentencia `continue` dentro de un bucle `for`, se saltan todas las sentencias que vienen después de `continue` y el bucle pasa a la siguiente iteración. \n",
    "\n",
    "Veamos explicado con un ejemplo. "
   ]
  },
  {
   "cell_type": "code",
   "execution_count": null,
   "id": "d87d6d95-806f-4db8-a05e-b3508d3a6496",
   "metadata": {},
   "outputs": [],
   "source": [
    "# Imprime todos los múltiplos de 3 que sean menores que 10\n",
    "for i in 1:10\n",
    "   if i % 3 != 0\n",
    "       continue\n",
    "   end\n",
    "   println(i);\n",
    "end"
   ]
  },
  {
   "cell_type": "markdown",
   "id": "b90d968b-e052-4269-ae94-5a7c252aff4e",
   "metadata": {},
   "source": [
    "## 6. Ejercicios de práctica\n",
    "\n",
    "Tome todos los números del 0 al 100, haga dos listas, una que contenga todos los números pares y otra que contenga todos los números impares."
   ]
  },
  {
   "cell_type": "code",
   "execution_count": null,
   "id": "eafbba64-a8c1-437d-b5de-eb83cfbbf3d9",
   "metadata": {},
   "outputs": [],
   "source": [
    "even_list = [];              # generamos dos listas vacias\n",
    "odd_list = [];\n",
    "\n",
    "for i in 1:100               # contamos del 1 al 100\n",
    "    if i % 2 == 0\n",
    "        push!(even_list, i); # si es par -> push\n",
    "    else\n",
    "        push!(odd_list, i);  # si no lo es -> push\n",
    "    end\n",
    "end"
   ]
  },
  {
   "cell_type": "code",
   "execution_count": null,
   "id": "c8cdffd7-7190-4c6f-bb4c-ed822dcfa6f7",
   "metadata": {},
   "outputs": [],
   "source": [
    "println(\"even_list = \", even_list);\n",
    "println(\"odd_list = \", odd_list);"
   ]
  },
  {
   "cell_type": "markdown",
   "id": "406ccb5e-ffaa-4747-8dfb-0a754ffd11b4",
   "metadata": {},
   "source": [
    "----------------------------------------------\n",
    "Se le proporciona una lista de números.  \n",
    "Iterar el bucle for sobre la lista.  \n",
    "Imprime los números que son divisibles por 7, detén la iteración si encuentras algún número mayor que 200."
   ]
  },
  {
   "cell_type": "code",
   "execution_count": null,
   "id": "6776d0bd-39f1-4a4c-ad7d-ad8918618709",
   "metadata": {},
   "outputs": [],
   "source": [
    "# lista porporcionada\n",
    "list_of_numbers = [20, 14, 7 ,12, 110, 120, 180, 140, 210, 34, 45, 60];\n",
    "\n",
    "for i in list_of_numbers\n",
    "    if i > 200    # si encontramos un numero mayor a 200, saltamos afuera\n",
    "        break\n",
    "    end\n",
    "    if i % 7 == 0\n",
    "        println(i);\n",
    "    end\n",
    "end"
   ]
  },
  {
   "cell_type": "markdown",
   "id": "d26cdc19-be2a-4474-93aa-b15c20ce8c8f",
   "metadata": {},
   "source": [
    "## Bucle FOR sobre un diccionario\n",
    "Bucles `for` con `Diccionarios`"
   ]
  },
  {
   "cell_type": "code",
   "execution_count": null,
   "id": "1dd280f3-dd01-45c6-8b38-b4c35c53e032",
   "metadata": {},
   "outputs": [],
   "source": [
    "# Definimos un Diccionario\n",
    "D = Dict(\"a\"=>1, \"e\"=>8, \"b\"=>2, \"c\"=>3, \"d\"=>4);\n",
    "println(\"D = \", D);\n",
    "println(typeof(D));"
   ]
  },
  {
   "cell_type": "code",
   "execution_count": null,
   "id": "c10cec55-50d7-4c07-bcf8-d2273ede07f9",
   "metadata": {},
   "outputs": [],
   "source": [
    "println(\"el valor asiganod a la clabe c es = \", D[\"c\"], \" y es de tipo \", typeof(D[\"c\"]));"
   ]
  },
  {
   "cell_type": "code",
   "execution_count": null,
   "id": "a5a5d23c-e1b0-4eb0-ac7d-900631107814",
   "metadata": {},
   "outputs": [],
   "source": [
    "for i in D\n",
    "    println(i.first, \" .. -> .. \", i.second); # con el metodo first y sencond, convocamos los datos\n",
    "end"
   ]
  },
  {
   "cell_type": "markdown",
   "id": "0ed845fd-6f34-4312-b621-0c20ce04d3f4",
   "metadata": {},
   "source": [
    "cambiemos de nombre al contador `i` por `juancito` y veamos que obtenemos lo mismo."
   ]
  },
  {
   "cell_type": "code",
   "execution_count": null,
   "id": "669a5020-26e3-4c90-9104-343f6fa67d73",
   "metadata": {},
   "outputs": [],
   "source": [
    "for juancito in D\n",
    "    println(juancito.first, \" .. -> .. \", juancito.second);\n",
    "end"
   ]
  },
  {
   "cell_type": "markdown",
   "id": "ee1a9bd4-376c-40c3-8a41-ae52b52c031b",
   "metadata": {},
   "source": [
    "podemos convocarlos a ambos"
   ]
  },
  {
   "cell_type": "code",
   "execution_count": null,
   "id": "bbaacd07-11e1-4b39-a072-1a9227c53fc8",
   "metadata": {},
   "outputs": [],
   "source": [
    "for (juancito, pepito) in D\n",
    "    println(juancito, \": \", pepito);\n",
    "end"
   ]
  },
  {
   "cell_type": "code",
   "execution_count": null,
   "id": "0e8eaf80-f6a4-4c3a-a4cd-1398814cc26a",
   "metadata": {},
   "outputs": [],
   "source": [
    "# o de forma más ituitiva los nombramos como key y val\n",
    "for (key, val) in D\n",
    "    println(key, \" => \", val);\n",
    "end"
   ]
  },
  {
   "cell_type": "markdown",
   "id": "370b6a30-902c-450c-80de-22303267b33c",
   "metadata": {},
   "source": [
    "o a uno solo, al primero!"
   ]
  },
  {
   "cell_type": "code",
   "execution_count": null,
   "id": "91082f41-016b-4e70-a5ab-8ddcab83a3d2",
   "metadata": {},
   "outputs": [],
   "source": [
    "println(\"Las llaves del diccionario D son:\");\n",
    "for key in keys(D)\n",
    "    println(key);\n",
    "end"
   ]
  },
  {
   "cell_type": "markdown",
   "id": "6fada2a6-6ad8-413f-8c8d-991846fa6240",
   "metadata": {},
   "source": [
    "o al segundo!"
   ]
  },
  {
   "cell_type": "code",
   "execution_count": null,
   "id": "1ae9ea07-cbdc-4c6c-b90f-7678d010bb6f",
   "metadata": {},
   "outputs": [],
   "source": [
    "println(\"Los valores del diccionario D son:\");\n",
    "for val in values(D)\n",
    "    println(val);\n",
    "end"
   ]
  },
  {
   "cell_type": "markdown",
   "id": "5c82fac8-84ed-4d3a-9375-abec9c81ea9b",
   "metadata": {},
   "source": [
    "## Columna mayor\n",
    "\n",
    "¿Por qué las matrices de Julia se almacenan en orden de columna principal?\n",
    "\n",
    "La columna principal y la fila principal no son del todo simétricas en cuanto al estilo del código, porque cuando accedemos a la `i,j'nd` elemento de una matriz, escribimos `A[i,j]` con el índice de fila primero, lo que puede romper la simetría.\n",
    "\n",
    "Por ejemplo, `i` se recorre más rápido que `j`, aunque aparezca `j` en un bucle interior.\n",
    "Esto es completamente diferente de un verdadero bucle for anidado, aquí `j` de hecho está variando más rápido. \n",
    "\n",
    "Si las matrices fueran filas principales, estos dos fragmentos de código variarían `j` más rápido, lo que parece más consistente dado que en ambos casos la iteración se especifica mediante el `for i = 1:4, j = 1:6`. "
   ]
  },
  {
   "cell_type": "code",
   "execution_count": null,
   "id": "44b8340e-69bf-439a-9c38-75abae3905ab",
   "metadata": {},
   "outputs": [],
   "source": [
    "m = 5;\n",
    "n = 7;\n",
    "a = Array{Float64}(undef,m,n);\n",
    "a[1,2] = 1.0;\n",
    "print(a[1,2]);"
   ]
  },
  {
   "cell_type": "code",
   "execution_count": null,
   "id": "4c47a87d-96d3-481d-ad1c-4e61723a36c7",
   "metadata": {},
   "outputs": [],
   "source": [
    "for i=1:m, j=1:n\n",
    "#  println(i, \" \", j, \" \", x[i, j])\n",
    "  a[i, j] = 7;\n",
    "end "
   ]
  },
  {
   "cell_type": "markdown",
   "id": "d71d48b6-59a7-4618-90ba-b1513d015137",
   "metadata": {},
   "source": [
    "Ahora mostramos la matriz `a` de diferentes formas"
   ]
  },
  {
   "cell_type": "code",
   "execution_count": null,
   "id": "fca9f384-ce9b-4917-b041-dc324f57993c",
   "metadata": {},
   "outputs": [],
   "source": [
    "a"
   ]
  },
  {
   "cell_type": "code",
   "execution_count": null,
   "id": "28795197-7918-40e8-80ea-f71834027c4b",
   "metadata": {},
   "outputs": [],
   "source": [
    "display(a);"
   ]
  },
  {
   "cell_type": "code",
   "execution_count": null,
   "id": "0fa58c9f-57d2-49e7-8472-65be44e8fcbe",
   "metadata": {},
   "outputs": [],
   "source": [
    "show(stdout, \"text/plain\", a);"
   ]
  },
  {
   "cell_type": "code",
   "execution_count": null,
   "id": "674f2297-f1cc-400b-ad6a-9ab3bd91aa7a",
   "metadata": {},
   "outputs": [],
   "source": [
    "using DelimitedFiles;\n",
    "writedlm(stdout, a);"
   ]
  },
  {
   "cell_type": "markdown",
   "id": "77a281fb-c0b2-4b11-9d5f-b70b8d501077",
   "metadata": {},
   "source": [
    "Generemos una matriz grande. Según el Prof. Bonzi estos son las máximas dimensiones que nos permite Julia para crear una matriz."
   ]
  },
  {
   "cell_type": "code",
   "execution_count": null,
   "id": "0f320913-e713-43de-af9a-39bcbc0747a4",
   "metadata": {},
   "outputs": [],
   "source": [
    "m = 5000;\n",
    "n = 6000;\n",
    "a = Array{Float64}(undef,m,n);"
   ]
  },
  {
   "cell_type": "markdown",
   "id": "6b684abd-00f3-4347-89ae-020992bff099",
   "metadata": {},
   "source": [
    "definamos dos funciones similares, para llenar las matrices de númros"
   ]
  },
  {
   "cell_type": "code",
   "execution_count": null,
   "id": "93e5b5a3-fec0-4c97-b3f8-396b31293a36",
   "metadata": {},
   "outputs": [],
   "source": [
    "# recorremos las matrices primero en filas, luego en columnas\n",
    "function matrizA()\n",
    "    for i = 1:m, j = 1:n \n",
    "        a[i, j] = 0.001;\n",
    "    #  println(i, \" \", j, \" \", x[i, j])\n",
    "    end\n",
    "end    "
   ]
  },
  {
   "cell_type": "markdown",
   "id": "56301ace-1947-4ca2-b556-edc4523a08f0",
   "metadata": {},
   "source": [
    "en esta llenaremos las filas primeros"
   ]
  },
  {
   "cell_type": "code",
   "execution_count": null,
   "id": "f38ad34c-5142-4861-a43f-f43f1a295af2",
   "metadata": {},
   "outputs": [],
   "source": [
    "# recorremos las matrices primero en filas, luego en columnas\n",
    "function matrizB()\n",
    "    for j = 1:n , i = 1:m\n",
    "        a[i, j] = 0.001;\n",
    "    #  println(i, \" \", j, \" \", x[i, j])\n",
    "    end\n",
    "end    "
   ]
  },
  {
   "cell_type": "code",
   "execution_count": null,
   "id": "bb777e30-8a2b-453b-8e1e-b015ab01ac1e",
   "metadata": {},
   "outputs": [],
   "source": [
    "# recordar siempre correr por lo menos 2 veces\n",
    "@time matrizA();"
   ]
  },
  {
   "cell_type": "code",
   "execution_count": null,
   "id": "b3480707-12d4-4c8f-810d-bd43bf621874",
   "metadata": {},
   "outputs": [],
   "source": [
    "# recordar siempre correr por lo menos 2 veces\n",
    "@time matrizB();"
   ]
  },
  {
   "cell_type": "markdown",
   "id": "f135319b-e94e-44b0-89ba-884b00fe5c40",
   "metadata": {},
   "source": [
    "Estos resultados nos muestran que Julia es `colum-major` (igual que Fortran), pero al revés que C que es raw-major. Esto fue debido a una decisión que tomo Julia (es decir, tuvo que elegir cómo acomodar los datos de una matriz en memoria) fundamentada en muchas librerias numéricas (BLAS, LAPACK, etc) que Julia utiliza y las cuales utilizan esta configuración. Entonces `colum-major` se refiere a que en una misma memoria caché se van ubicando las diferentes columnas y en diferentes cachés se van ubicando las filas, entonces, si en julia se accede primero a filas (en lugar de columnas como es conveniente) el compilador lo que hará será saltar de un lugar a otro en la memoria y utilizará sólo un dato de la memoria caché, esto es mucho más lento y costoso computacionalmente.\n",
    "\n",
    "Recordemos que para medir tiempos siempre debemos correr los procesos varias veces, porque la primera vez puede medir el tiempo de compilación y no del proceso. Por ello, se puede correr muchas veces con el macro `@time` o usar el macro `btime` (benchmark time) que internamente ejecuta varias veces.\n",
    "\n",
    "También existen funciones específicas para inicializar matrices con todos los valores ceros, unos, o identidades. Estas funciones ya vienen optimizadas en julia, es decir, automaticamente corren en multi-threads y son muy rápidas."
   ]
  }
 ],
 "metadata": {
  "kernelspec": {
   "display_name": "Julia 1.7.2",
   "language": "julia",
   "name": "julia-1.7"
  },
  "language_info": {
   "file_extension": ".jl",
   "mimetype": "application/julia",
   "name": "julia",
   "version": "1.7.2"
  }
 },
 "nbformat": 4,
 "nbformat_minor": 5
}
