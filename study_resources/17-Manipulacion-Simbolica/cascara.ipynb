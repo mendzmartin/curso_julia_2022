{
 "cells": [
  {
   "cell_type": "markdown",
   "metadata": {},
   "source": [
    "## Potencial de un cascarón esférico con potenciales unitarios de signos opuestos.\n",
    "\n",
    "$$\n",
    "\\phi(x,r) = \\sum_{n=0}^{\\infty} A_n r^{-(n+1)}P_n(x)\n",
    "$$\n",
    "\n",
    "$$\n",
    "A_n = (2n+1) \\int_0^1 P_n(x) dx \\;\\;\\; n \\; impar.\n",
    "$$\n",
    "\n",
    "\\begin{equation}\n",
    " \\phi_a(r,\\theta) = \\sum_{m=0}^{\\infty} (-\\frac{1}{2})^{m} \\frac{(4m+3)(2m-1)!!}{2(m+1)!} (\\frac{r}{a})^{-(2m+2)} P_{2m+1}(\\cos(\\theta))\n",
    "\\end{equation}\n",
    "\n"
   ]
  },
  {
   "cell_type": "code",
   "execution_count": null,
   "metadata": {},
   "outputs": [],
   "source": [
    "#import Pkg; \n",
    "#Pkg.add(\"LegendrePolynomials\")\n",
    "using LegendrePolynomials\n",
    "using Plots"
   ]
  },
  {
   "cell_type": "code",
   "execution_count": null,
   "metadata": {},
   "outputs": [],
   "source": [
    "plot(x->Pl(x,3),xlim=(-1,1))\n",
    "plot!(x->Pl(x,6))"
   ]
  },
  {
   "cell_type": "code",
   "execution_count": null,
   "metadata": {
    "jupyter": {
     "source_hidden": true
    },
    "tags": []
   },
   "outputs": [],
   "source": [
    "function dblfactorial(n::Integer)\n",
    "    n < 0 && iseven(n) && throw(DomainError(n, \"`n` must be nonnegative.\"))\n",
    "    if n < 0 # and so is odd\n",
    "        s = abs(n)\n",
    "        return (-1)^((s-1)/2)*s//dblfactorial(s)\n",
    "    end\n",
    "    f::typeof(n*n) = 1\n",
    "    if iseven(n)\n",
    "        for i::typeof(n*n) = 1:n÷2\n",
    "            f *= 2i\n",
    "        end\n",
    "    else\n",
    "        for i::typeof(n*n) = 1:(n-1)÷2\n",
    "            f *= 2*i+1\n",
    "        end\n",
    "    end\n",
    "    return f\n",
    "end"
   ]
  },
  {
   "cell_type": "code",
   "execution_count": null,
   "metadata": {},
   "outputs": [],
   "source": [
    "function ϕ(x,r,A)\n",
    "    v = 0\n",
    "    N = length(A)\n",
    "    for i in 1:N\n",
    "        v = v + A[i]*Pl(x, 2i+1)/r^(2i) \n",
    "    end\n",
    "    return v\n",
    "end\n",
    "\n",
    "N = 21\n",
    "\n",
    "A = [(-1/2)^(i-1) *(4i - 1)*dblfactorial(big(2i-3))/2/factorial(big(i)) for i in 1:N]"
   ]
  },
  {
   "cell_type": "code",
   "execution_count": null,
   "metadata": {},
   "outputs": [],
   "source": [
    "dx = 0.0001\n",
    "xv = 0.0:dx:1.\n",
    "AN = [(4i-1)*(sum(Pl.(xv,2i-1)) - 0.5*Pl.(1,2i-1))/length(xv) for i in 1:N];\n",
    "            "
   ]
  },
  {
   "cell_type": "code",
   "execution_count": null,
   "metadata": {},
   "outputs": [],
   "source": [
    "x = 0.0:0.02:1.\n",
    "plot(x -> ϕ(x,1,A), xlim=(-1,1))\n",
    "plot!(x -> ϕ(x,1,AN), linestyle=:dash)\n",
    "plot!(x -> x < 0 ? -1 : 1)"
   ]
  },
  {
   "cell_type": "code",
   "execution_count": null,
   "metadata": {},
   "outputs": [],
   "source": [
    "default(size=(600,600)\n",
    "    #, fc=:thermal\n",
    "    #, fc=:heat\n",
    "    , fc=:ocean\n",
    "    )\n",
    "x, y = -1.:0.02:1., 1.:0.1:8.\n",
    "z = Surface((x,y)->ϕ(x,y,A), x, y)\n",
    "surface(x,y,z, linealpha = 0.3\n",
    "    , fillalpha=0.5\n",
    "    , display_option=Plots.GR.OPTION_SHADED_MESH\n",
    "    , camera=(60,30)\n",
    "    )"
   ]
  },
  {
   "cell_type": "code",
   "execution_count": null,
   "metadata": {},
   "outputs": [],
   "source": [
    "length(xv)"
   ]
  },
  {
   "cell_type": "code",
   "execution_count": null,
   "metadata": {},
   "outputs": [],
   "source": []
  }
 ],
 "metadata": {
  "kernelspec": {
   "display_name": "Julia 1.7.2",
   "language": "julia",
   "name": "julia-1.7"
  },
  "language_info": {
   "file_extension": ".jl",
   "mimetype": "application/julia",
   "name": "julia",
   "version": "1.7.2"
  }
 },
 "nbformat": 4,
 "nbformat_minor": 4
}
