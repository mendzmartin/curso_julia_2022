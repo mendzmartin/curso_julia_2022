{
 "cells": [
  {
   "cell_type": "markdown",
   "id": "ed3f4e29-b8c9-4157-b7e1-15edddfa7c2d",
   "metadata": {},
   "source": [
    "## Manipulación Simbólica en Julia\n",
    "\n",
    "Usaremos el paquete `Symbolics.jl`. \n",
    "\n",
    "Es un paquete nuevo y sujeto a cambios drásticos!"
   ]
  },
  {
   "cell_type": "code",
   "execution_count": null,
   "id": "bd4c565b-c232-42fd-b448-5b52b2ece57f",
   "metadata": {},
   "outputs": [],
   "source": [
    "#import Pkg; \n",
    "#Pkg.add(\"Symbolics\")\n",
    "#Pkg.add(\"Latexify\")\n",
    "using Symbolics\n",
    "using Latexify\n",
    "using Plots"
   ]
  },
  {
   "cell_type": "markdown",
   "id": "7ca4b828-080a-4150-b23e-2ad6ab0275d7",
   "metadata": {},
   "source": [
    "Las variables se define con el macro `@variables`"
   ]
  },
  {
   "cell_type": "code",
   "execution_count": null,
   "id": "e4d645cd-f481-4bce-bd97-4448edd6f6a6",
   "metadata": {},
   "outputs": [],
   "source": [
    "@variables x y w[1:3]"
   ]
  },
  {
   "cell_type": "code",
   "execution_count": null,
   "id": "e8e2f674-1284-4fda-97c0-ab5a9d1b7703",
   "metadata": {},
   "outputs": [],
   "source": [
    "typeof(x)"
   ]
  },
  {
   "cell_type": "markdown",
   "id": "f4454dbf-12f0-4b9d-bf4c-4672c22f8090",
   "metadata": {},
   "source": [
    "Las *operaciones* no se *hacen* sino que quedan indicadas. Es una forma similar a la que se usa para indicar una expresion, un árbol. "
   ]
  },
  {
   "cell_type": "code",
   "execution_count": null,
   "id": "4f7420f3-9bb5-459c-8668-22fe435f792e",
   "metadata": {},
   "outputs": [],
   "source": [
    "z = x^2 + y"
   ]
  },
  {
   "cell_type": "code",
   "execution_count": null,
   "id": "bd013546-ee04-4873-b5ed-1fd5275912c1",
   "metadata": {},
   "outputs": [],
   "source": [
    "typeof(z)"
   ]
  },
  {
   "cell_type": "code",
   "execution_count": null,
   "id": "0367e466",
   "metadata": {},
   "outputs": [],
   "source": [
    "z^2"
   ]
  },
  {
   "cell_type": "code",
   "execution_count": null,
   "id": "5d560a28",
   "metadata": {},
   "outputs": [],
   "source": [
    "Symbolics.simplify(z^2; expand=true)"
   ]
  },
  {
   "cell_type": "code",
   "execution_count": null,
   "id": "c5fee810",
   "metadata": {},
   "outputs": [],
   "source": [
    "Symbolics.simplify(z^2)"
   ]
  },
  {
   "cell_type": "markdown",
   "id": "79fb2764-3101-4c2c-a585-9acf2ca83d9f",
   "metadata": {},
   "source": [
    "Podemos trabajar también con matrices o arrays arbitrarios. "
   ]
  },
  {
   "cell_type": "code",
   "execution_count": null,
   "id": "605dcb65-1ef1-414e-a41a-60228812d088",
   "metadata": {},
   "outputs": [],
   "source": [
    "A = [x^2 + y 0 2x\n",
    "     0       1 2y\n",
    "     y^2 + x 0 0]"
   ]
  },
  {
   "cell_type": "markdown",
   "id": "60535713-eb02-42f8-a032-77ab425c960e",
   "metadata": {},
   "source": [
    "Se puede mejorar la manera en que las ecuaciones son mostradas con el paquete `Latexify.jl` pero para este caso no hace diferencia (en Jupyter)"
   ]
  },
  {
   "cell_type": "code",
   "execution_count": null,
   "id": "fab135a5-fe5f-4e3f-985d-9b345ceab226",
   "metadata": {},
   "outputs": [],
   "source": [
    "latexify(A)"
   ]
  },
  {
   "cell_type": "code",
   "execution_count": null,
   "id": "43f2d0a1-c220-488f-9f48-da942165acea",
   "metadata": {},
   "outputs": [],
   "source": [
    "using SparseArrays\n",
    "spA = sparse(A)"
   ]
  },
  {
   "cell_type": "markdown",
   "id": "c258d317",
   "metadata": {},
   "source": [
    "Podemos calcular algunas inversas no muy complicadas."
   ]
  },
  {
   "cell_type": "code",
   "execution_count": null,
   "id": "e5ea3ac6-35c0-4fc1-a6fa-ddf3c45141f6",
   "metadata": {},
   "outputs": [],
   "source": [
    "A_inv = inv(A)"
   ]
  },
  {
   "cell_type": "code",
   "execution_count": null,
   "id": "9322a140-2afc-47e3-8b6d-25ebec766d7a",
   "metadata": {},
   "outputs": [],
   "source": [
    "Idd = A * A_inv"
   ]
  },
  {
   "cell_type": "markdown",
   "id": "fb875493-44ec-404c-bf34-5366e4f0add7",
   "metadata": {},
   "source": [
    "Para encontrar la identidad debemos usar la función `simplify()`, la cual aplicamos a cada elemento con la notación usual de agregar un ."
   ]
  },
  {
   "cell_type": "code",
   "execution_count": null,
   "id": "1527b764-228d-496c-b760-e173de41d60f",
   "metadata": {},
   "outputs": [],
   "source": [
    "Symbolics.simplify.(Idd)"
   ]
  },
  {
   "cell_type": "markdown",
   "id": "ae57624f-1d0f-4e6a-bdcb-f6384369e751",
   "metadata": {},
   "source": [
    "También podemos hacer sustituciones. La función `substitute()` admite un diccionario con las sustituciones que queremos hacer."
   ]
  },
  {
   "cell_type": "code",
   "execution_count": null,
   "id": "499ffdfd-1088-4ce0-94e3-0b8b5261b350",
   "metadata": {},
   "outputs": [],
   "source": [
    "r = x^2 + y^2\n",
    "@variables θ\n",
    "Symbolics.substitute(r, Dict([x =>sin(θ)]))"
   ]
  },
  {
   "cell_type": "code",
   "execution_count": null,
   "id": "52614f8b-135a-4ddd-a0fd-2b205fb052e3",
   "metadata": {},
   "outputs": [],
   "source": [
    "trig = Dict([x => sin(θ), y => cos(θ)])"
   ]
  },
  {
   "cell_type": "code",
   "execution_count": null,
   "id": "69ff7176-70b8-4285-9e5b-689e77571224",
   "metadata": {},
   "outputs": [],
   "source": [
    "Symbolics.substitute(r,trig)"
   ]
  },
  {
   "cell_type": "code",
   "execution_count": null,
   "id": "00daa0bc-49a7-483a-8462-55b240f748bb",
   "metadata": {},
   "outputs": [],
   "source": [
    "Symbolics.simplify(Symbolics.substitute(r,trig))"
   ]
  },
  {
   "cell_type": "markdown",
   "id": "54c23a8f-8665-4f7f-b5f8-712274f92a00",
   "metadata": {},
   "source": [
    "### Derivadas: \n",
    "\n",
    "Calculemos un gradiente:"
   ]
  },
  {
   "cell_type": "code",
   "execution_count": null,
   "id": "4d64c25b-c910-4232-85cb-15ecc1cec081",
   "metadata": {},
   "outputs": [],
   "source": [
    "@variables s[1:3] p[1:3]\n",
    "ss = Symbolics.scalarize(s)\n",
    "ps = Symbolics.scalarize(p)"
   ]
  },
  {
   "cell_type": "code",
   "execution_count": null,
   "id": "9ccc9a1d-5f7e-47c0-83f5-b7e3e5773429",
   "metadata": {},
   "outputs": [],
   "source": [
    "h(u,t) = u'*u - t'*u"
   ]
  },
  {
   "cell_type": "code",
   "execution_count": null,
   "id": "7dc9b004-5e58-4288-9bc6-cbfc40e753c0",
   "metadata": {},
   "outputs": [],
   "source": [
    "Symbolics.gradient(h(ss,ps),ss)"
   ]
  },
  {
   "cell_type": "markdown",
   "id": "9e1ae2f0",
   "metadata": {},
   "source": [
    "Calculemos un Jacobiano:"
   ]
  },
  {
   "cell_type": "code",
   "execution_count": null,
   "id": "6af282fd-513c-4fe1-8000-20e95dfbc507",
   "metadata": {},
   "outputs": [],
   "source": [
    "function f(u,p)\n",
    "  [p[1]*u[1] - u[3]; u[1]^2 - u[2]; u[3] + cos(u[2])]\n",
    "end\n",
    "\n",
    "#@register_symbolics cos(x) "
   ]
  },
  {
   "cell_type": "code",
   "execution_count": null,
   "id": "2b6eaec0",
   "metadata": {},
   "outputs": [],
   "source": [
    "f([1;2;3.],[4;5;6])"
   ]
  },
  {
   "cell_type": "code",
   "execution_count": null,
   "id": "907c5cab",
   "metadata": {},
   "outputs": [],
   "source": [
    "f([x, y, z],p) # Recall that z = x^2 + y"
   ]
  },
  {
   "cell_type": "code",
   "execution_count": null,
   "id": "b1a0e5a1-c98f-42e1-ad39-8439413a2527",
   "metadata": {},
   "outputs": [],
   "source": [
    "f(ss,ps)"
   ]
  },
  {
   "cell_type": "code",
   "execution_count": null,
   "id": "58c3b2b1-1afc-44ea-b2b7-cc23b528f847",
   "metadata": {},
   "outputs": [],
   "source": [
    "Jfs = Symbolics.jacobian(f(ss,ps), ss)"
   ]
  },
  {
   "cell_type": "markdown",
   "id": "8c56b5c3-17dc-4c42-921a-7eb42a65b256",
   "metadata": {},
   "source": [
    "### Generando una función numérica"
   ]
  },
  {
   "cell_type": "code",
   "execution_count": null,
   "id": "14333009-efec-49a2-9d80-289eadc3c76b",
   "metadata": {},
   "outputs": [],
   "source": [
    "Jfs_exp = Symbolics.build_function(Jfs,s, p);\n",
    "Jfs_f = eval(Jfs_exp[1]);"
   ]
  },
  {
   "cell_type": "code",
   "execution_count": null,
   "id": "60cef2d0-568f-4c66-98a2-fe3e3c7f87da",
   "metadata": {},
   "outputs": [],
   "source": [
    "Jfs_f([1.;2.;3], [4.;5;6])"
   ]
  },
  {
   "cell_type": "markdown",
   "id": "8695c17f-40f5-4095-8527-089aa9511303",
   "metadata": {},
   "source": [
    "**Se pueden generar funciones muy eficientes, por ejemplo construidas con paralelismo incluido.**"
   ]
  },
  {
   "cell_type": "markdown",
   "id": "baac5fef-05f1-4a93-b478-dcc2ee842fc2",
   "metadata": {},
   "source": [
    "### Una aplicación:\n",
    "\n",
    "Vamos a usar el método de Newton pero de forma symbólica."
   ]
  },
  {
   "cell_type": "code",
   "execution_count": null,
   "id": "28346ace-a96d-4088-836d-9dfda86cfcab",
   "metadata": {},
   "outputs": [],
   "source": [
    "function NR_one_step(f, Jf, x0, par)\n",
    "    return x0 - Jf(x0,par)\\f(x0,par)\n",
    "end"
   ]
  },
  {
   "cell_type": "code",
   "execution_count": null,
   "id": "7c149745-5862-44e1-a838-37269b5a76fa",
   "metadata": {},
   "outputs": [],
   "source": [
    "function my_sqrt(p,par)\n",
    "    x0, N = par\n",
    "    f(x,y) = x^2 - y\n",
    "    Jf(x,y) = 2x\n",
    "    x = x0\n",
    "    for i ∈ 1:N\n",
    "        x = NR_one_step(f,Jf,x,p)\n",
    "    end\n",
    "    return x\n",
    "end"
   ]
  },
  {
   "cell_type": "code",
   "execution_count": null,
   "id": "af626fe9-bdca-43db-b3e7-ae725961aa0a",
   "metadata": {},
   "outputs": [],
   "source": [
    "par = (1.,3)\n",
    "my_sqrt(2,par)"
   ]
  },
  {
   "cell_type": "code",
   "execution_count": null,
   "id": "db34108c-a70e-4f93-9fbe-519a8eda6bbe",
   "metadata": {},
   "outputs": [],
   "source": [
    "@variables v"
   ]
  },
  {
   "cell_type": "code",
   "execution_count": null,
   "id": "12b4155d-ae34-41ad-a600-85c327571c9b",
   "metadata": {},
   "outputs": [],
   "source": [
    "par = (1, 3)\n",
    "my_sqrt(v,(1,3))"
   ]
  },
  {
   "cell_type": "code",
   "execution_count": null,
   "id": "b648c9d3",
   "metadata": {},
   "outputs": [],
   "source": [
    "k_3(v) = Symbolics.simplify(my_sqrt(v,(1,3)), expand=true)\n",
    "k_3(v)"
   ]
  },
  {
   "cell_type": "code",
   "execution_count": null,
   "id": "3add8ef9-f9e7-4a65-963b-9869ec4ffbf0",
   "metadata": {},
   "outputs": [],
   "source": [
    "k_3_ex = Symbolics.simplify(my_sqrt(v,(1,3)))"
   ]
  },
  {
   "cell_type": "markdown",
   "id": "78b06bcf",
   "metadata": {},
   "source": [
    "Tomamos esta expresión y hacemos una función numérica:"
   ]
  },
  {
   "cell_type": "code",
   "execution_count": null,
   "id": "72cb017a",
   "metadata": {},
   "outputs": [],
   "source": [
    "k_3_exp = Symbolics.build_function(k_3_ex,v)\n",
    "Base.remove_linenums!(k_3_exp)"
   ]
  },
  {
   "cell_type": "code",
   "execution_count": null,
   "id": "cb5e1ed9",
   "metadata": {},
   "outputs": [],
   "source": [
    "k_3_f = eval(k_3_exp)"
   ]
  },
  {
   "cell_type": "code",
   "execution_count": null,
   "id": "9c935fd4",
   "metadata": {},
   "outputs": [],
   "source": [
    "k_3_f(2)"
   ]
  },
  {
   "cell_type": "markdown",
   "id": "992e4af0",
   "metadata": {},
   "source": [
    "Esta no es sólo una función simbólica sino también numérica."
   ]
  },
  {
   "cell_type": "code",
   "execution_count": null,
   "id": "20c2ecc1",
   "metadata": {},
   "outputs": [],
   "source": [
    "#import Pkg; Pkg.add(\"BenchmarkTools\")\n",
    "using BenchmarkTools\n"
   ]
  },
  {
   "cell_type": "code",
   "execution_count": null,
   "id": "64bd9425",
   "metadata": {},
   "outputs": [],
   "source": [
    "@btime k_3_f(2.)"
   ]
  },
  {
   "cell_type": "code",
   "execution_count": null,
   "id": "c2de9bf6",
   "metadata": {},
   "outputs": [],
   "source": [
    "@btime my_sqrt(2,(1.,3))"
   ]
  },
  {
   "cell_type": "code",
   "execution_count": null,
   "id": "5cbcf6b7",
   "metadata": {},
   "outputs": [],
   "source": [
    "@btime k_3(2.)"
   ]
  },
  {
   "cell_type": "code",
   "execution_count": null,
   "id": "3ca4da23",
   "metadata": {},
   "outputs": [],
   "source": [
    "k_3(2) - sqrt(2)"
   ]
  },
  {
   "cell_type": "markdown",
   "id": "a36dbb7d",
   "metadata": {},
   "source": [
    "Incluso la podemos plotear y vemos que anda muy bien para valores pequeños de la variable. "
   ]
  },
  {
   "cell_type": "code",
   "execution_count": null,
   "id": "66ef9874",
   "metadata": {},
   "outputs": [],
   "source": [
    "plt = plot(k_3_f, xlims=(0.01, 30), label=\"k_3_f\", legend=:bottomright)\n",
    "plot!(plt, sqrt, ls=:dash, label=\"sqrt\", lw=2)"
   ]
  },
  {
   "cell_type": "markdown",
   "id": "6f454357",
   "metadata": {},
   "source": [
    "Podemos usar la función original con distintos valores de N para mejorarla. "
   ]
  },
  {
   "cell_type": "code",
   "execution_count": null,
   "id": "0f0418f3",
   "metadata": {},
   "outputs": [],
   "source": [
    "k_5_ex = Symbolics.simplify(my_sqrt(v,(1.,5)))\n",
    "k_5_exp = Symbolics.build_function(k_5_ex,v)\n",
    "k_5_f = eval(k_5_exp)\n",
    "\n",
    "plot!(plt, k_5_f, xlims=(0.01, 30), label=\"k_5_f\")\n"
   ]
  },
  {
   "cell_type": "markdown",
   "id": "c2e5cb41-8109-4568-a013-c348e8f0edcf",
   "metadata": {},
   "source": [
    "## NOTA: ##\n",
    "\n",
    "En muchísimas aplicaciones se necesita calcular Jacobianos de expresiones generales que son muy complicadas o no se conocen de forma previa. Allí es donde esta librería es muy poderosa, lo mismo que otra que se llama **ForwardDiff**"
   ]
  },
  {
   "cell_type": "code",
   "execution_count": null,
   "id": "2ad5c65d-5eda-452e-89ba-8112771febb0",
   "metadata": {},
   "outputs": [],
   "source": [
    "import Pkg; Pkg.add(\"ForwardDiff\")\n",
    "using ForwardDiff"
   ]
  },
  {
   "cell_type": "code",
   "execution_count": null,
   "id": "8441576c-67aa-457c-99ae-948f059b2508",
   "metadata": {},
   "outputs": [],
   "source": [
    "f(x::Vector) = sum(sin, x) + prod(tan, x) * sum(sqrt, x);\n",
    "\n",
    "x = rand(5) # small size for example's sake"
   ]
  },
  {
   "cell_type": "code",
   "execution_count": null,
   "id": "233f54ca-267c-43d5-952b-fd15ef373799",
   "metadata": {},
   "outputs": [],
   "source": [
    "g = x -> ForwardDiff.gradient(f, x); # g = ∇f\n",
    "\n",
    "g(x)"
   ]
  },
  {
   "cell_type": "code",
   "execution_count": null,
   "id": "d7f01f9c-51e1-4644-9c65-38ee8a4525d3",
   "metadata": {},
   "outputs": [],
   "source": [
    "ForwardDiff.hessian(f, x)"
   ]
  },
  {
   "cell_type": "markdown",
   "id": "832b720c-3da3-4579-83ac-0e51017b59d0",
   "metadata": {},
   "source": [
    "### Integración: \n",
    "\n",
    "No existe aún. **Pero: podemos usar, por ejemplo, SymPy.jl**"
   ]
  },
  {
   "cell_type": "code",
   "execution_count": null,
   "id": "d42aa0a7-5501-4389-8d9e-b5b17a81ba69",
   "metadata": {},
   "outputs": [],
   "source": [
    "#import Pkg; Pkg.add(\"SymPy\")\n",
    "using SymPy"
   ]
  },
  {
   "cell_type": "markdown",
   "id": "24cb6d0b-3a91-4295-84e4-1e8d57bf2174",
   "metadata": {},
   "source": [
    "Vamos al notebook SymPy_examples.ipynb"
   ]
  },
  {
   "cell_type": "code",
   "execution_count": null,
   "id": "16f3719c-8820-43cc-8864-a03d36906011",
   "metadata": {},
   "outputs": [],
   "source": [
    "@vars xs\n",
    "integrate(xs^2, (xs, 0, 1))"
   ]
  },
  {
   "cell_type": "code",
   "execution_count": null,
   "id": "255fea43-43f9-4975-a64b-bef6169ae4b5",
   "metadata": {},
   "outputs": [],
   "source": []
  }
 ],
 "metadata": {
  "kernelspec": {
   "display_name": "Julia 1.7.2",
   "language": "julia",
   "name": "julia-1.7"
  },
  "language_info": {
   "file_extension": ".jl",
   "mimetype": "application/julia",
   "name": "julia",
   "version": "1.7.2"
  }
 },
 "nbformat": 4,
 "nbformat_minor": 5
}
