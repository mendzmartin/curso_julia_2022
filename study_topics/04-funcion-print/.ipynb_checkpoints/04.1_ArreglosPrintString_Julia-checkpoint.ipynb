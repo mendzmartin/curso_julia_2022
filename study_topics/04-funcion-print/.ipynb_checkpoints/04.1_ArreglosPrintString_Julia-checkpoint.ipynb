{
 "cells": [
  {
   "cell_type": "markdown",
   "id": "c58864a7-6342-4d59-8212-3669c428d098",
   "metadata": {},
   "source": [
    "<p style=\"text-align:center\"><img src=\"Julia.jpg\" width=\"350\" ></p>"
   ]
  },
  {
   "cell_type": "markdown",
   "id": "0b68f409-fb96-4381-8a6a-b4165bb4e282",
   "metadata": {},
   "source": [
    "## Un arreglo es una secuencia\n",
    "Al igual que una cadena de texto, un arreglo es una secuencia de valores. En una\n",
    "cadena los valores son caracteres, en un arreglo pueden ser de cualquier tipo.\n",
    "Los valores en un arreglo se denominan elementos o, a veces, items.\n",
    "Hay varias formas de crear un nuevo arreglo, la más sencilla es encerrar los\n",
    "elementos entre corchetes ([ ]):"
   ]
  },
  {
   "cell_type": "code",
   "execution_count": null,
   "id": "340de4a3-050e-4a29-9e01-12e42a9365b0",
   "metadata": {},
   "outputs": [],
   "source": [
    "numeros = [10, 20, 30, 40]\n",
    "palabras = [\"abadejo\", \"falsía\", \"estrambote\"]"
   ]
  },
  {
   "cell_type": "markdown",
   "id": "a50e87d6",
   "metadata": {},
   "source": [
    "Aquí en jupyter notebook podemos seṕarar en dos casillas input las instrucciones anteriores situandome con el cursor donde queremos separar y haciendo Edit->Split Cells (o con la combinación de teclas Ctrl+Shift-minus)"
   ]
  },
  {
   "cell_type": "code",
   "execution_count": null,
   "id": "a529f2b1",
   "metadata": {},
   "outputs": [],
   "source": [
    "numeros = [10, 20, 30, 40] #vector de tipo Int64"
   ]
  },
  {
   "cell_type": "code",
   "execution_count": null,
   "id": "71f31a2a",
   "metadata": {},
   "outputs": [],
   "source": [
    "palabras = [\"abadejo\", \"falsía\", \"estrambote\"] # vector de tipo String"
   ]
  },
  {
   "cell_type": "code",
   "execution_count": null,
   "id": "2a6b0826-79d2-4bd3-bafd-ccf5d71f590e",
   "metadata": {},
   "outputs": [],
   "source": [
    "# veamos de qué tipo es la variable numeros\n",
    "typeof(numeros)"
   ]
  },
  {
   "cell_type": "code",
   "execution_count": null,
   "id": "e313984b",
   "metadata": {},
   "outputs": [],
   "source": [
    "# veamos de qué tipo es la variable palabras\n",
    "typeof(palabras)"
   ]
  },
  {
   "cell_type": "markdown",
   "id": "923c3a76-31e4-48ee-bf3b-96560e28eb4d",
   "metadata": {},
   "source": [
    "El siguiente arreglo contiene una cadena (string), un número de punto\n",
    "flotante, un entero y otro arreglo (lista):"
   ]
  },
  {
   "cell_type": "code",
   "execution_count": null,
   "id": "d0f772ab-edd6-47ef-8468-42541d7e81b1",
   "metadata": {},
   "outputs": [],
   "source": [
    "varios = [\"spam\", 2.0, 5, [10, 20]]"
   ]
  },
  {
   "cell_type": "code",
   "execution_count": null,
   "id": "4e4f0c96",
   "metadata": {},
   "outputs": [],
   "source": [
    "# veamos de qué tipo es la variable varios\n",
    "typeof(varios)"
   ]
  },
  {
   "cell_type": "markdown",
   "id": "bbff9eaa-9632-4e47-b601-964c698d7427",
   "metadata": {},
   "source": [
    "Se dice que un arreglo dentro de otro arreglo está anidado.  \n",
    "Un arreglo que no contiene elementos se llama arreglo vacío y se puede crear\n",
    "uno con corchetes vacíos, []."
   ]
  },
  {
   "cell_type": "code",
   "execution_count": null,
   "id": "d31da076-3dc1-4f68-87a0-da3939d6a584",
   "metadata": {},
   "outputs": [],
   "source": [
    "vacio = [] # arreglo vacio"
   ]
  },
  {
   "cell_type": "markdown",
   "id": "acfacacf-bb9f-4f25-8d60-842ca0f447e9",
   "metadata": {},
   "source": [
    "## Los arreglos son mutables\n",
    "\n",
    "### Mutables quiere decir que son re-valorables, los valores de sus elementos se pueden modificar.\n",
    "\n",
    "La sintaxis para acceder a los elementos de un arreglo es el mismo que para\n",
    "acceder a los caracteres de una cadena: el operador corchete. La expresión\n",
    "dentro de los corchetes especifica el índice. Recuerde que los índices comienzan\n",
    "en 1:"
   ]
  },
  {
   "cell_type": "code",
   "execution_count": null,
   "id": "ffa1732e-4e92-4203-882f-b43aa3ecdcc1",
   "metadata": {},
   "outputs": [],
   "source": [
    "quesos = [\"Cheddar\", \"Edam\", \"Gouda\"]; # En los scripts debemos poner el `;` al final de cada operación"
   ]
  },
  {
   "cell_type": "code",
   "execution_count": null,
   "id": "d2ab6758-7d57-434b-96ce-f5adc3aa1f2a",
   "metadata": {},
   "outputs": [],
   "source": [
    "quesos[1]"
   ]
  },
  {
   "cell_type": "markdown",
   "id": "05e09688-dc94-4bb8-acf4-0da0b598e362",
   "metadata": {},
   "source": [
    "A diferencia de las cadenas, los arreglos son mutables, lo que significa que\n",
    "podemos cambiar sus elementos. Se puede modificar uno de sus elementos\n",
    "usando el operador corchetes en el lado izquierdo de una asignación:"
   ]
  },
  {
   "cell_type": "code",
   "execution_count": null,
   "id": "6a5a9c18-73a6-41a2-8f68-1e65e4373232",
   "metadata": {},
   "outputs": [],
   "source": [
    "numeros = [42, 123];"
   ]
  },
  {
   "cell_type": "code",
   "execution_count": null,
   "id": "22e32a3e-f040-42dd-952e-c21b1a7503e6",
   "metadata": {},
   "outputs": [],
   "source": [
    "# notemos que hemos \"pisoteado\" todos los valores que habian\n",
    "# sido asignados a la variable numeros = [ 10, 20, 30, 40 ]\n",
    "# declarada aneriormente\n",
    "numeros"
   ]
  },
  {
   "cell_type": "code",
   "execution_count": null,
   "id": "16feefde-8e7a-4bca-a962-326d3e1482a7",
   "metadata": {},
   "outputs": [],
   "source": [
    "numeros[2] = 5\n",
    "numeros"
   ]
  },
  {
   "cell_type": "markdown",
   "id": "a02977ca-7775-49ab-b5f4-5831d11d0d41",
   "metadata": {},
   "source": [
    "Pertenencia a un arreglo"
   ]
  },
  {
   "cell_type": "code",
   "execution_count": null,
   "id": "8c5dc549-c3c6-4133-8c0b-65875f2c40eb",
   "metadata": {},
   "outputs": [],
   "source": [
    "\"Cheddar\" in quesos"
   ]
  },
  {
   "cell_type": "code",
   "execution_count": null,
   "id": "c2007aa7-b85b-40c4-95ca-615d5120c7e3",
   "metadata": {},
   "outputs": [],
   "source": [
    "\"cheddar\" in quesos"
   ]
  },
  {
   "cell_type": "markdown",
   "id": "0df27371-8df6-41ca-82e9-774d234c9fae",
   "metadata": {},
   "source": [
    "!Oh! Las mayusculas hacen diferente un nombre,\n",
    "Julia reconoce las mayúsculas de las minúsculas. Ojo!"
   ]
  },
  {
   "cell_type": "code",
   "execution_count": null,
   "id": "3cd0ebb3-4417-4657-a555-19f3f14253f5",
   "metadata": {},
   "outputs": [],
   "source": [
    "for queso in quesos # Aqui queso es una variable local\n",
    "  println(queso)\n",
    "end # recordar siempre cerrar el bucle for con \"end\""
   ]
  },
  {
   "cell_type": "markdown",
   "id": "49a925e2-9068-441a-8f73-b98236d4a416",
   "metadata": {},
   "source": [
    "El operador porción también funciona en arreglos:"
   ]
  },
  {
   "cell_type": "code",
   "execution_count": null,
   "id": "4e149968-3ec0-4c4c-be2c-96ea5e979702",
   "metadata": {},
   "outputs": [],
   "source": [
    "t = ['a', 'b', 'c', 'd', 'e', 'f'];\n",
    "\n",
    "# notemos que \"\" (String) no es lo mismo que '' (Character)"
   ]
  },
  {
   "cell_type": "code",
   "execution_count": null,
   "id": "b9d0b1ba-270a-4a79-acd8-24e47d94c219",
   "metadata": {},
   "outputs": [],
   "source": [
    "# mostramos los primeros tres elementos de t\n",
    "print(t[1:3])"
   ]
  },
  {
   "cell_type": "code",
   "execution_count": null,
   "id": "e12cb96c-e0d5-47a7-a9ec-4aca1b6ba9a5",
   "metadata": {},
   "outputs": [],
   "source": [
    "# mostramos desde el elemento 3 hasta el último\n",
    "print(t[3:end])"
   ]
  },
  {
   "cell_type": "code",
   "execution_count": null,
   "id": "e67307a7-33d1-405d-81e1-c4cc802098ff",
   "metadata": {},
   "outputs": [],
   "source": [
    "# también se puede usar pinrtln() en lugar de print()\n",
    "println(t[3:end])"
   ]
  },
  {
   "cell_type": "code",
   "execution_count": null,
   "id": "c4f9d996-b1c4-46da-b894-cb9452257e8d",
   "metadata": {},
   "outputs": [],
   "source": [
    "# mostramos todos los elementos\n",
    "print(t[:])"
   ]
  },
  {
   "cell_type": "code",
   "execution_count": null,
   "id": "af0d03a1-1019-4e54-8bec-7b450d6a776e",
   "metadata": {},
   "outputs": [],
   "source": [
    "# mostramos sólo el elemento 2 y el elemento 3\n",
    "print(t[2:3])"
   ]
  },
  {
   "cell_type": "markdown",
   "id": "c40a52fd-61f5-4b8b-9bf2-ee422fa6c79e",
   "metadata": {},
   "source": [
    "## Librería de Arreglos\n",
    "`Julia` tiene funciones integradas que operan en arreglos.  \n",
    "\n",
    "Por ejemplo, `push!` agrega un nuevo elemento al final de un arreglo:"
   ]
  },
  {
   "cell_type": "code",
   "execution_count": null,
   "id": "a8bab402-169d-4f55-89ea-30d63ee9a92c",
   "metadata": {},
   "outputs": [],
   "source": [
    "# declaramos el arreglo t\n",
    "t = ['a', 'b', 'c'];\n",
    "# mostramos el arreglo t\n",
    "print(t)"
   ]
  },
  {
   "cell_type": "code",
   "execution_count": null,
   "id": "c00e74a2-ee76-474f-8152-73a97c944523",
   "metadata": {},
   "outputs": [],
   "source": [
    "# usamos push! para agregar el elemento 'd' al arreglo t\n",
    "push!(t, 'd');\n",
    "# mostramos el arreglo t\n",
    "print(t)"
   ]
  },
  {
   "cell_type": "markdown",
   "id": "d242ead0-bf36-4c5a-b9e2-4a0b92184695",
   "metadata": {},
   "source": [
    "Podemos concatenar Arreglos con la función `append`"
   ]
  },
  {
   "cell_type": "code",
   "execution_count": null,
   "id": "544de73d-c697-4ae9-8f1c-24956062cb39",
   "metadata": {},
   "outputs": [],
   "source": [
    "# declaro dos arreglos t1 y t2\n",
    "t1 = ['a', 'b', 'c'];\n",
    "t2 = ['d', 'e'];\n",
    "\n",
    "# usamos append! para concatenar los arreglos anteriores y formar t3\n",
    "t3 = append!(t1, t2);\n",
    "# mostramos el arreglo t3\n",
    "print(t3)"
   ]
  },
  {
   "cell_type": "markdown",
   "id": "43734803-fd5a-4003-b30c-5917f8c56419",
   "metadata": {},
   "source": [
    "sort! ordena los elementos de un arreglo de menor a mayor:"
   ]
  },
  {
   "cell_type": "code",
   "execution_count": null,
   "id": "95778dc7-fcfa-4c2f-a673-5b533655771d",
   "metadata": {},
   "outputs": [],
   "source": [
    "# declaramos el arreglo t formado por caracteres\n",
    "t = ['d', 'c', 'e', 'b', 'a'];\n",
    "\n",
    "#mostramos el arreglo t\n",
    "println(\"Antes del sort! el arreglo t es \", t); # Observemos la diferencia entre println y print\n",
    "\n",
    "# recordando que cada caracter tiene asociado un código ASCII, podemos ordenar los caracteres con sort!\n",
    "sort!(t);\n",
    "\n",
    "# mostramos el arreglo t\n",
    "print(\"Luego del sort! el arreglo t es \", t);"
   ]
  },
  {
   "cell_type": "markdown",
   "id": "500d3bd4-a0f8-46ae-9206-8fedef80134f",
   "metadata": {},
   "source": [
    "Podemos sumar los elemtos de un arreglo!!"
   ]
  },
  {
   "cell_type": "code",
   "execution_count": null,
   "id": "2a730438-2a0a-4147-a714-b02c798bd2be",
   "metadata": {},
   "outputs": [],
   "source": [
    "# declaramos un arreglo con enteros\n",
    "n = [1, 2, 3, 4];\n",
    "\n",
    "# mostramos el arreglo n\n",
    "println(\"n = \", n);\n",
    "\n",
    "# sumamos los elementos del arreglo n\n",
    "println(\"sum(n) = \", sum(n))"
   ]
  },
  {
   "cell_type": "markdown",
   "id": "6c8630f9",
   "metadata": {},
   "source": [
    "##### notemos que sort! modifica el valor del arreglo t, es decir, si luego uso t para algo, te estará ordenado."
   ]
  },
  {
   "cell_type": "code",
   "execution_count": null,
   "id": "bad2394e-1de5-465b-9b13-911fa892655d",
   "metadata": {},
   "outputs": [],
   "source": [
    "print(t)"
   ]
  },
  {
   "cell_type": "code",
   "execution_count": null,
   "id": "dc6a002d-7ebd-42e0-8589-3143a2219229",
   "metadata": {},
   "outputs": [],
   "source": [
    "sum(t) # Ups!! La función sum(), con caracters, no funciona!"
   ]
  },
  {
   "cell_type": "markdown",
   "id": "bbfe8b49-9782-4af5-bc15-d5f16f5e406f",
   "metadata": {},
   "source": [
    "Tenemos otra funciones interesantes!!"
   ]
  },
  {
   "cell_type": "code",
   "execution_count": null,
   "id": "7ac0681c-bbae-43ca-b398-9a11e1eff791",
   "metadata": {},
   "outputs": [],
   "source": [
    "# declaramos la variable letra que consiste en un string con una única letra\n",
    "letra = \"e\";\n",
    "\n",
    "# mostramos la variable e\n",
    "println(letra)\n",
    "\n",
    "# usamos uppercase para transformar las letras mayúsculas en minúsculas\n",
    "print(uppercase(letra))"
   ]
  },
  {
   "cell_type": "code",
   "execution_count": null,
   "id": "5d47d920",
   "metadata": {},
   "outputs": [],
   "source": [
    "# probemos con otro tipo de caracteres\n",
    "otra_letra = \"micro 4 ł € ¶ ł · ~ ŋ đ ← µ\"\n",
    "println(otra_letra)\n",
    "print(uppercase(otra_letra))"
   ]
  },
  {
   "cell_type": "markdown",
   "id": "776f7847-5298-4cb2-b823-81b1dd4778bb",
   "metadata": {},
   "source": [
    "Podemos realizar potencias de Arreglos!"
   ]
  },
  {
   "cell_type": "code",
   "execution_count": null,
   "id": "7c7fb1d6-e90e-4ea8-b24a-a3a195b40e76",
   "metadata": {},
   "outputs": [],
   "source": [
    "# definimos un arreglo\n",
    "otro_arreglo = [ 1, 2, 3 ];\n",
    "println(\"El arreglo orginal es \", otro_arreglo);\n",
    "\n",
    "# elevamos al cubo cada elemento del arreglo anterior \n",
    "otro_arreglo_al_cubo = otro_arreglo .^ 3;\n",
    "\n",
    "print(\"El arreglo al cubo es \", otro_arreglo_al_cubo);"
   ]
  },
  {
   "cell_type": "markdown",
   "id": "f38e6df8",
   "metadata": {},
   "source": [
    "###### notemos que hemos agregado un \".\" delante del operador potenciación \"^\", esto es para decirle a Julia que la potenciación actúa ahora sobre un arreglo y no sobre un entero"
   ]
  },
  {
   "cell_type": "code",
   "execution_count": null,
   "id": "057337e4-d640-40e2-bf4d-d0573fefa11a",
   "metadata": {},
   "outputs": [],
   "source": [
    "# usamos ahora la función uppercase en un arreglo [\"abc\", \"def\", \"ghi\"]\n",
    "t = uppercase.([\"abc\", \"def\", \"ghi\"]); # notemos que hemos usado el \".\" luego de la llamada a uppercase\n",
    "print(t)"
   ]
  },
  {
   "cell_type": "markdown",
   "id": "11e73296-7c9b-4076-bc82-1a6f87825be0",
   "metadata": {},
   "source": [
    "## Borrando (Insertando) Elementos\n",
    "\n",
    "Hay varias formas de eliminar elementos de un arreglo.  \n",
    "Si se conoce el índice del elemento que se desea eliminar, se puede usar `splice!`:"
   ]
  },
  {
   "cell_type": "code",
   "execution_count": null,
   "id": "8230bc81-6df0-4989-be1b-e09d552236c3",
   "metadata": {},
   "outputs": [],
   "source": [
    "# declaramos un arreglo de caracteres\n",
    "t = ['a', 'b', 'c'];\n",
    "\n",
    "println(\"El arreglo original es \", t)"
   ]
  },
  {
   "cell_type": "code",
   "execution_count": null,
   "id": "a3c9dee3",
   "metadata": {},
   "outputs": [],
   "source": [
    "# usamos la función splice! para borrar el segundo elementos del arreglo t\n",
    "splice!(t, 2)"
   ]
  },
  {
   "cell_type": "code",
   "execution_count": null,
   "id": "b9b88968-cfd5-4bf9-aa10-44bf41ef0400",
   "metadata": {},
   "outputs": [],
   "source": [
    "println(\"El luego del 1er splice! al segundo elemento el arreglo queda de la forma \", t)"
   ]
  },
  {
   "cell_type": "code",
   "execution_count": null,
   "id": "ca43f7ed",
   "metadata": {},
   "outputs": [],
   "source": [
    "splice!(t, 2);"
   ]
  },
  {
   "cell_type": "code",
   "execution_count": null,
   "id": "76fc7bed",
   "metadata": {},
   "outputs": [],
   "source": [
    "println(\"El luego del 2do splice! al segundo elemento el arreglo queda de la forma \", t)"
   ]
  },
  {
   "cell_type": "markdown",
   "id": "0fd39e90-91ad-4230-88a8-c746299df494",
   "metadata": {},
   "source": [
    " #### `popfirst` elimina el primer elemento:"
   ]
  },
  {
   "cell_type": "code",
   "execution_count": null,
   "id": "cf1a7cd4-7697-44a3-99d9-f1df59611e73",
   "metadata": {},
   "outputs": [],
   "source": [
    "# declaramos y mostramos arreglo\n",
    "t = ['a', 'b', 'c'];\n",
    "println(t);\n",
    "\n",
    "# usamos popfirst! y mostramos cómo quedó el arreglo\n",
    "popfirst!(t);\n",
    "print(t)"
   ]
  },
  {
   "cell_type": "markdown",
   "id": "b1741f31-62a6-4aa5-ac67-99da06ba7dbe",
   "metadata": {},
   "source": [
    "###### Es posible incluir valores dentro una variable de texto usando `$var`.  \n",
    "Por ejemplo:"
   ]
  },
  {
   "cell_type": "code",
   "execution_count": null,
   "id": "851a13a4-1c7e-47bd-a35a-7111eb1bc326",
   "metadata": {},
   "outputs": [],
   "source": [
    "x = 2 # variable\n",
    "y = \"$x es par\""
   ]
  },
  {
   "cell_type": "markdown",
   "id": "865b7b3d-9f8e-4962-98f0-b8e035a90f0c",
   "metadata": {},
   "source": [
    "Esta idea se puede usar en combinación con la función println() para mostrar resultados en pantalla."
   ]
  },
  {
   "cell_type": "code",
   "execution_count": null,
   "id": "3ca38427-a210-4fd5-9721-32e532574017",
   "metadata": {},
   "outputs": [],
   "source": [
    "prof_name = \"Edgardo BONZI\"\n",
    "prof_of = 265\n",
    "prof_email = \"edgardo.bonzi@unc.edu.ar\"\n",
    "\n",
    "println(\"Mi nombre es $prof_name\") \n",
    "println(\"Mi oficina es la $prof_of y mi email es $prof_email\")"
   ]
  },
  {
   "cell_type": "markdown",
   "id": "20c20e24",
   "metadata": {},
   "source": [
    "Hagamos un ejemplo con nuestros propios datos"
   ]
  },
  {
   "cell_type": "code",
   "execution_count": null,
   "id": "31258a26",
   "metadata": {},
   "outputs": [],
   "source": [
    "nombre = \"Martín\"\n",
    "apellido = \"Méndez\"\n",
    "fecha_nac = \"01 de Marz. de 1996\"\n",
    "club = \"River Plate\"\n",
    "color_fav = \"rojo\"\n",
    "\n",
    "println(\"Me llamo $nombre $apellido.\") \n",
    "println(\"Naci el $fecha_nac, soy hincha de $club y mi color favorito es el $color_fav.\")"
   ]
  },
  {
   "cell_type": "code",
   "execution_count": null,
   "id": "5b844a0e",
   "metadata": {},
   "outputs": [],
   "source": [
    "println(\"¿Cómo escribimos el 'signo pesos' en un string ?\")\n",
    "println(\"Así \\$\")\n",
    "println(\"¿Y cómo escribimos 'barra invertida signo pesos' en un string ?\")\n",
    "println(\"así \\\\\\$\")"
   ]
  },
  {
   "cell_type": "code",
   "execution_count": null,
   "id": "d7329b7b",
   "metadata": {},
   "outputs": [],
   "source": [
    "print(\"El Enter se puede poner con \\\\n \\n y escribimos dos lineas usanto print\")"
   ]
  },
  {
   "cell_type": "code",
   "execution_count": null,
   "id": "f0b6cda7",
   "metadata": {},
   "outputs": [],
   "source": [
    "print(\"Y ahora, para que todo quede más bonito usamos \\\\t, \\n\n",
    "    \\t que es un tabulador; y así conseguimos que\\n\n",
    "    \\t las lineas subsiguientes queden mejor\")"
   ]
  },
  {
   "cell_type": "markdown",
   "id": "86689503",
   "metadata": {},
   "source": [
    "para medir arreglos podemos hacer uso de length o size"
   ]
  },
  {
   "cell_type": "code",
   "execution_count": null,
   "id": "98aa3ccc",
   "metadata": {},
   "outputs": [],
   "source": [
    "h = [\"dkf\",\"dafk\",\"bgdj\"]\n",
    "length(h) # este comando nos muestra la cantidad de elementos que tiene el arreglo"
   ]
  },
  {
   "cell_type": "code",
   "execution_count": null,
   "id": "3cf9a99a",
   "metadata": {},
   "outputs": [],
   "source": [
    "size(h) # este comando nos muestra como si fueze una matriz unidimensional"
   ]
  }
 ],
 "metadata": {
  "kernelspec": {
   "display_name": "Julia 1.4.1",
   "language": "julia",
   "name": "julia-1.4"
  },
  "language_info": {
   "file_extension": ".jl",
   "mimetype": "application/julia",
   "name": "julia",
   "version": "1.4.1"
  }
 },
 "nbformat": 4,
 "nbformat_minor": 5
}
