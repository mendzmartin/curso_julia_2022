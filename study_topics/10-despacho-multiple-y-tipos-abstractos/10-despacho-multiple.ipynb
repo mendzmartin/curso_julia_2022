{
 "cells": [
  {
   "cell_type": "markdown",
   "metadata": {},
   "source": [
    "# Despacho múltiple, tipos abstractos y duck typing\n",
    "\n",
    "[https://docs.julialang.org/en/v1/manual/methods/](https://docs.julialang.org/en/v1/manual/methods/)\n",
    "\n",
    "[https://www.oxinabox.net/2020/02/09/whycompositionaljulia.html#multiple-dispatch--duck-typing](https://www.oxinabox.net/2020/02/09/whycompositionaljulia.html#multiple-dispatch--duck-typing)"
   ]
  },
  {
   "cell_type": "markdown",
   "metadata": {},
   "source": [
    "## Despacho múltiple\n",
    "\n",
    "En Julia, las siguientes definiciones son simultaneamente posibles."
   ]
  },
  {
   "cell_type": "code",
   "execution_count": 1,
   "metadata": {},
   "outputs": [
    {
     "data": {
      "text/plain": [
       "f (generic function with 4 methods)"
      ]
     },
     "execution_count": 1,
     "metadata": {},
     "output_type": "execute_result"
    }
   ],
   "source": [
    "f(x::Int,y::Int) = println(\"x e y son enteros\")\n",
    "f(x::Real,y::Int) = println(\"x es real e y es entero\")\n",
    "f(x::Int,y::Real) = println(\"x es entero e y es real\")\n",
    "f(x::Real,y::Real) = println(\"x e y son reales\")"
   ]
  },
  {
   "cell_type": "markdown",
   "metadata": {},
   "source": [
    "Cada una de ella define un *método* de la función *genérica* `f`.\n",
    "\n",
    "Durante un llamado a `f`, Julia selecciona el método a evaluar de acuerdo a los tipos de los argumentos especificados."
   ]
  },
  {
   "cell_type": "code",
   "execution_count": 2,
   "metadata": {},
   "outputs": [
    {
     "name": "stdout",
     "output_type": "stream",
     "text": [
      "x e y son enteros\n"
     ]
    }
   ],
   "source": [
    "f(3,4)"
   ]
  },
  {
   "cell_type": "code",
   "execution_count": 3,
   "metadata": {},
   "outputs": [
    {
     "name": "stdout",
     "output_type": "stream",
     "text": [
      "x es real e y es entero\n"
     ]
    }
   ],
   "source": [
    "f(π,4)"
   ]
  },
  {
   "cell_type": "code",
   "execution_count": 4,
   "metadata": {},
   "outputs": [
    {
     "name": "stdout",
     "output_type": "stream",
     "text": [
      "x es entero e y es real\n"
     ]
    }
   ],
   "source": [
    "f(3,√2)"
   ]
  },
  {
   "cell_type": "code",
   "execution_count": 5,
   "metadata": {},
   "outputs": [
    {
     "name": "stdout",
     "output_type": "stream",
     "text": [
      "x e y son reales\n"
     ]
    }
   ],
   "source": [
    "f(3.3,π)"
   ]
  },
  {
   "cell_type": "markdown",
   "metadata": {},
   "source": [
    "Esto se llama **despacho múltiple** (multiple dispatch). Si queremos ver los métodos de una función, escribimos:"
   ]
  },
  {
   "cell_type": "code",
   "execution_count": 6,
   "metadata": {},
   "outputs": [
    {
     "data": {
      "text/html": [
       "# 4 methods for generic function <b>f</b>:<ul><li> f(x::<b>Int64</b>, y::<b>Int64</b>) in Main at In[1]:1</li> <li> f(x::<b>Real</b>, y::<b>Int64</b>) in Main at In[1]:2</li> <li> f(x::<b>Int64</b>, y::<b>Real</b>) in Main at In[1]:3</li> <li> f(x::<b>Real</b>, y::<b>Real</b>) in Main at In[1]:4</li> </ul>"
      ],
      "text/plain": [
       "# 4 methods for generic function \"f\":\n",
       "[1] f(x::Int64, y::Int64) in Main at In[1]:1\n",
       "[2] f(x::Real, y::Int64) in Main at In[1]:2\n",
       "[3] f(x::Int64, y::Real) in Main at In[1]:3\n",
       "[4] f(x::Real, y::Real) in Main at In[1]:4"
      ]
     },
     "execution_count": 6,
     "metadata": {},
     "output_type": "execute_result"
    }
   ],
   "source": [
    "methods(f)"
   ]
  },
  {
   "cell_type": "code",
   "execution_count": 7,
   "metadata": {},
   "outputs": [
    {
     "data": {
      "text/html": [
       "# 12 methods for generic function <b>cos</b>:<ul><li> cos(x::<b>BigFloat</b>) in Base.MPFR at <a href=\"https://github.com/JuliaLang/julia/tree/v1.4.1/base/mpfr.jl#L744\" target=\"_blank\">mpfr.jl:744</a></li> <li> cos(::<b>Missing</b>) in Base.Math at <a href=\"https://github.com/JuliaLang/julia/tree/v1.4.1/base/math.jl#L1167\" target=\"_blank\">math.jl:1167</a></li> <li> cos(a::<b>Complex{Float16}</b>) in Base.Math at <a href=\"https://github.com/JuliaLang/julia/tree/v1.4.1/base/math.jl#L1115\" target=\"_blank\">math.jl:1115</a></li> <li> cos(a::<b>Float16</b>) in Base.Math at <a href=\"https://github.com/JuliaLang/julia/tree/v1.4.1/base/math.jl#L1114\" target=\"_blank\">math.jl:1114</a></li> <li> cos(z::<b>Complex{T}</b>)<i> where T</i> in Base at <a href=\"https://github.com/JuliaLang/julia/tree/v1.4.1/base/complex.jl#L823\" target=\"_blank\">complex.jl:823</a></li> <li> cos(x::<b>T</b>)<i> where T<:Union{Float32, Float64}</i> in Base.Math at <a href=\"https://github.com/JuliaLang/julia/tree/v1.4.1/base/special/trig.jl#L100\" target=\"_blank\">special/trig.jl:100</a></li> <li> cos(x::<b>Real</b>) in Base.Math at <a href=\"https://github.com/JuliaLang/julia/tree/v1.4.1/base/special/trig.jl#L124\" target=\"_blank\">special/trig.jl:124</a></li> <li> cos(A::<b>LinearAlgebra.Hermitian{#s663,S} where S<:(AbstractArray{#s664,2} where #s664<:#s663) where #s663<:Complex</b>) in LinearAlgebra at <a href=\"file:///build/julia-98cBbp/julia-1.4.1+dfsg/usr/share/julia/stdlib/v1.4/LinearAlgebra/src/symmetric.jl\" target=\"_blank\">/usr/share/julia/stdlib/v1.4/LinearAlgebra/src/symmetric.jl:907</a></li> <li> cos(A::<b>Union{LinearAlgebra.Hermitian{#s664,S}, LinearAlgebra.Symmetric{#s664,S}} where S where #s664<:Real</b>) in LinearAlgebra at <a href=\"file:///build/julia-98cBbp/julia-1.4.1+dfsg/usr/share/julia/stdlib/v1.4/LinearAlgebra/src/symmetric.jl\" target=\"_blank\">/usr/share/julia/stdlib/v1.4/LinearAlgebra/src/symmetric.jl:903</a></li> <li> cos(D::<b>LinearAlgebra.Diagonal</b>) in LinearAlgebra at <a href=\"file:///build/julia-98cBbp/julia-1.4.1+dfsg/usr/share/julia/stdlib/v1.4/LinearAlgebra/src/diagonal.jl\" target=\"_blank\">/usr/share/julia/stdlib/v1.4/LinearAlgebra/src/diagonal.jl:561</a></li> <li> cos(A::<b>AbstractArray{#s664,2} where #s664<:Real</b>) in LinearAlgebra at <a href=\"file:///build/julia-98cBbp/julia-1.4.1+dfsg/usr/share/julia/stdlib/v1.4/LinearAlgebra/src/dense.jl\" target=\"_blank\">/usr/share/julia/stdlib/v1.4/LinearAlgebra/src/dense.jl:793</a></li> <li> cos(A::<b>AbstractArray{#s664,2} where #s664<:Complex</b>) in LinearAlgebra at <a href=\"file:///build/julia-98cBbp/julia-1.4.1+dfsg/usr/share/julia/stdlib/v1.4/LinearAlgebra/src/dense.jl\" target=\"_blank\">/usr/share/julia/stdlib/v1.4/LinearAlgebra/src/dense.jl:800</a></li> </ul>"
      ],
      "text/plain": [
       "# 12 methods for generic function \"cos\":\n",
       "[1] cos(x::BigFloat) in Base.MPFR at mpfr.jl:744\n",
       "[2] cos(::Missing) in Base.Math at math.jl:1167\n",
       "[3] cos(a::Complex{Float16}) in Base.Math at math.jl:1115\n",
       "[4] cos(a::Float16) in Base.Math at math.jl:1114\n",
       "[5] cos(z::Complex{T}) where T in Base at complex.jl:823\n",
       "[6] cos(x::T) where T<:Union{Float32, Float64} in Base.Math at special/trig.jl:100\n",
       "[7] cos(x::Real) in Base.Math at special/trig.jl:124\n",
       "[8] cos(A::LinearAlgebra.Hermitian{#s663,S} where S<:(AbstractArray{#s664,2} where #s664<:#s663) where #s663<:Complex) in LinearAlgebra at /usr/share/julia/stdlib/v1.4/LinearAlgebra/src/symmetric.jl:907\n",
       "[9] cos(A::Union{LinearAlgebra.Hermitian{#s664,S}, LinearAlgebra.Symmetric{#s664,S}} where S where #s664<:Real) in LinearAlgebra at /usr/share/julia/stdlib/v1.4/LinearAlgebra/src/symmetric.jl:903\n",
       "[10] cos(D::LinearAlgebra.Diagonal) in LinearAlgebra at /usr/share/julia/stdlib/v1.4/LinearAlgebra/src/diagonal.jl:561\n",
       "[11] cos(A::AbstractArray{#s664,2} where #s664<:Real) in LinearAlgebra at /usr/share/julia/stdlib/v1.4/LinearAlgebra/src/dense.jl:793\n",
       "[12] cos(A::AbstractArray{#s664,2} where #s664<:Complex) in LinearAlgebra at /usr/share/julia/stdlib/v1.4/LinearAlgebra/src/dense.jl:800"
      ]
     },
     "execution_count": 7,
     "metadata": {},
     "output_type": "execute_result"
    }
   ],
   "source": [
    "methods(cos)"
   ]
  },
  {
   "cell_type": "markdown",
   "metadata": {},
   "source": [
    "### La expresividad del despacho multiple\n",
    "\n",
    "| dispatch degree | syntax | dispatch arguments | expressive order | expressive power | lenguaje |\n",
    "|--|--|--|--|--|--|\n",
    "| none | $f(x_1$,$x_2$,$\\dots)$ | {} | $\\mathcal{O}(1)$ | constant | C, FORTRAN (< 2003) |\n",
    "| single | $x_1$.$f(x_2$,$\\dots)$ | {$x_1$} | $\\mathcal{O}(|X_1|)$ | linear | C++, FORTRAN (2003), Java |\n",
    "| multiple | $f(x_1$,$x_2$,$\\dots)$ | {$x_1$,$x_2$,...}    | $\\mathcal{O}(|X_1||X_2|\\dots)$ | exponential | Julia, C# (4.0), LISP |"
   ]
  },
  {
   "cell_type": "markdown",
   "metadata": {},
   "source": [
    "### Inferencia de tipos, compilación AOT y JIT\n",
    "\n",
    "Para evaluar una expresión, Julia primero busca determinar la composición de métodos a evaluar en tiempo de compilación. En este sentido, Julia aplica *Ahead of Time (AOT) compilation*.\n",
    "\n",
    "Cuando el tipo de algunos de los objetos involucrados se definen en tiempos de ejecución, AOT no puede aplicarse. Entonces, Julia utiliza un algoritmo de *infierencia de tipos* (type inference) para determinar la composición de métodos en tiempo de ejecución utilizando *Just In Time (JIT) compilation*."
   ]
  },
  {
   "cell_type": "markdown",
   "metadata": {},
   "source": [
    "## Tipos concretos y abstractos\n",
    "\n",
    "El despacho múltiple es una herramienta poderosa si se lo combina con la noción de *tipos abstractos* (abstract types), los cuales sirven para definir jerarquías de tipos, subtipos, subsubtipos, etc.\n",
    "\n",
    "Los *tipos concretos* no poseen subtipos y varios de ellos vienen predefinidos (`Int64`, `Float64`,`String`, etc.). \n",
    "\n",
    "Para tener una idea de como funciona múltiple dispatch, consideremos el siguiente ejemplo:\n",
    "\n",
    "* [https://www.youtube.com/watch?v=kc9HwsxE1OY](https://www.youtube.com/watch?v=kc9HwsxE1OY)"
   ]
  },
  {
   "cell_type": "code",
   "execution_count": 8,
   "metadata": {},
   "outputs": [
    {
     "data": {
      "text/plain": [
       "meets (generic function with 4 methods)"
      ]
     },
     "execution_count": 8,
     "metadata": {},
     "output_type": "execute_result"
    }
   ],
   "source": [
    "abstract type Pet end\n",
    "\n",
    "struct Dog <: Pet\n",
    "    name::String\n",
    "end\n",
    "\n",
    "struct Cat <: Pet\n",
    "    name::String\n",
    "end\n",
    "\n",
    "function encounter(a::Pet,b::Pet)\n",
    "    verb = meets(a,b) \n",
    "    println(\"$(a.name) meets $(b.name) and $verb.\")\n",
    "end\n",
    "\n",
    "meets(a::Dog,b::Dog) = \"sniff\"\n",
    "meets(a::Dog,b::Cat) = \"chases\"\n",
    "meets(a::Cat,b::Dog) = \"hisses\"\n",
    "meets(a::Cat,b::Cat) = \"slinks\""
   ]
  },
  {
   "cell_type": "code",
   "execution_count": 9,
   "metadata": {},
   "outputs": [
    {
     "name": "stdout",
     "output_type": "stream",
     "text": [
      "Fido meets Rex and sniff.\n",
      "Fido meets Whiskers and chases.\n",
      "Rex meets Spots and chases.\n",
      "Whiskers meets Spots and slinks.\n"
     ]
    }
   ],
   "source": [
    "fido = Dog(\"Fido\")\n",
    "rex = Dog(\"Rex\")\n",
    "whiskers = Cat(\"Whiskers\")\n",
    "spots = Cat(\"Spots\")\n",
    "\n",
    "encounter(fido,rex)\n",
    "encounter(fido,whiskers)\n",
    "encounter(rex,spots)\n",
    "encounter(whiskers,spots)"
   ]
  },
  {
   "cell_type": "markdown",
   "metadata": {},
   "source": [
    "## Duck typing"
   ]
  },
  {
   "cell_type": "markdown",
   "metadata": {},
   "source": [
    "Consideremos el siguiente ejemplo:\n",
    "\n",
    "* [https://www.oxinabox.net/2020/02/09/whycompositionaljulia.html#multiple-dispatch--duck-typing](https://www.oxinabox.net/2020/02/09/whycompositionaljulia.html#multiple-dispatch--duck-typing)\n",
    "\n",
    "* [https://www.compart.com/en/unicode/U+1F986](https://www.compart.com/en/unicode/U+1F986)\n",
    "\n",
    "Supongamos que alguna libreria escrita por terceros implementa el tipo `Duck` (pato) y algunas de sus funcionalidades."
   ]
  },
  {
   "cell_type": "code",
   "execution_count": 10,
   "metadata": {},
   "outputs": [
    {
     "data": {
      "text/plain": [
       "raise_young (generic function with 1 method)"
      ]
     },
     "execution_count": 10,
     "metadata": {},
     "output_type": "execute_result"
    }
   ],
   "source": [
    "struct Duck end\n",
    "\n",
    "draw(duck) = \"🦆\"\n",
    "function talk(duck)  \n",
    "    println(draw(duck),\" quack\")\n",
    "end\n",
    "function raise_young(duck,babe) \n",
    "    println(draw(duck),\" leads 🐤\") \n",
    "end"
   ]
  },
  {
   "cell_type": "code",
   "execution_count": 11,
   "metadata": {},
   "outputs": [
    {
     "name": "stdout",
     "output_type": "stream",
     "text": [
      "🦆 quack\n"
     ]
    }
   ],
   "source": [
    "talk(Duck())"
   ]
  },
  {
   "cell_type": "code",
   "execution_count": 12,
   "metadata": {},
   "outputs": [
    {
     "name": "stdout",
     "output_type": "stream",
     "text": [
      "🦆 leads 🐤\n"
     ]
    }
   ],
   "source": [
    "raise_young(Duck(),Duck())"
   ]
  },
  {
   "cell_type": "markdown",
   "metadata": {},
   "source": [
    "Nos interesa extender la librería (sin tocarla) agregando el tipo `Swan` (cisne)."
   ]
  },
  {
   "cell_type": "code",
   "execution_count": 13,
   "metadata": {},
   "outputs": [],
   "source": [
    "struct Swan end"
   ]
  },
  {
   "cell_type": "code",
   "execution_count": 14,
   "metadata": {},
   "outputs": [
    {
     "name": "stdout",
     "output_type": "stream",
     "text": [
      "🦆 quack\n"
     ]
    }
   ],
   "source": [
    "talk(Swan())"
   ]
  },
  {
   "cell_type": "markdown",
   "metadata": {},
   "source": [
    "Esto no está bien!\n",
    "\n",
    "Para corregir esto hacemos un poco de *duck typing*."
   ]
  },
  {
   "cell_type": "code",
   "execution_count": 15,
   "metadata": {},
   "outputs": [
    {
     "data": {
      "text/plain": [
       "talk (generic function with 2 methods)"
      ]
     },
     "execution_count": 15,
     "metadata": {},
     "output_type": "execute_result"
    }
   ],
   "source": [
    "draw(swan::Swan) = \"🦢\"\n",
    "function talk(swan::Swan)\n",
    "    println(show(swan),\" hiss\")\n",
    "end"
   ]
  },
  {
   "cell_type": "code",
   "execution_count": 16,
   "metadata": {},
   "outputs": [
    {
     "name": "stdout",
     "output_type": "stream",
     "text": [
      "Swan()nothing hiss\n"
     ]
    }
   ],
   "source": [
    "talk(Swan())"
   ]
  },
  {
   "cell_type": "markdown",
   "metadata": {},
   "source": [
    "Ahora esta mejor.\n",
    "\n",
    "Probemos ver que pasa cuando hay cisnes bebes"
   ]
  },
  {
   "cell_type": "code",
   "execution_count": 17,
   "metadata": {},
   "outputs": [
    {
     "name": "stdout",
     "output_type": "stream",
     "text": [
      "🦢 leads 🐤\n"
     ]
    }
   ],
   "source": [
    "raise_young(Swan(),Swan())"
   ]
  },
  {
   "cell_type": "markdown",
   "metadata": {},
   "source": [
    "Vemos que surge otro problema. Los cisnes no caminan delante de sus pequeños, los llevan a cococho!\n",
    "\n",
    "Para corregirlo, escribimos"
   ]
  },
  {
   "cell_type": "code",
   "execution_count": 18,
   "metadata": {},
   "outputs": [
    {
     "data": {
      "text/plain": [
       "raise_young (generic function with 2 methods)"
      ]
     },
     "execution_count": 18,
     "metadata": {},
     "output_type": "execute_result"
    }
   ],
   "source": [
    "function raise_young(swan::Swan,babe) \n",
    "    println(draw(swan),\" carry 🐤\")\n",
    "end"
   ]
  },
  {
   "cell_type": "markdown",
   "metadata": {},
   "source": [
    "y volvemos a probar"
   ]
  },
  {
   "cell_type": "code",
   "execution_count": 19,
   "metadata": {},
   "outputs": [
    {
     "name": "stdout",
     "output_type": "stream",
     "text": [
      "🦢 carry 🐤\n"
     ]
    }
   ],
   "source": [
    "raise_young(Swan(),Swan())"
   ]
  },
  {
   "cell_type": "markdown",
   "metadata": {},
   "source": [
    "Que pasa si mezclamos especies?"
   ]
  },
  {
   "cell_type": "code",
   "execution_count": 20,
   "metadata": {},
   "outputs": [
    {
     "name": "stdout",
     "output_type": "stream",
     "text": [
      "🦆 leads 🐤\n"
     ]
    }
   ],
   "source": [
    "raise_young(Duck(),Swan())"
   ]
  },
  {
   "cell_type": "markdown",
   "metadata": {},
   "source": [
    "De nuevo vemos un problema. Sabemos que los patos abandonan a los cisnes bebés.\n",
    "\n",
    "Corregimos el problema, escribiendo"
   ]
  },
  {
   "cell_type": "code",
   "execution_count": 21,
   "metadata": {},
   "outputs": [
    {
     "data": {
      "text/plain": [
       "raise_young (generic function with 3 methods)"
      ]
     },
     "execution_count": 21,
     "metadata": {},
     "output_type": "execute_result"
    }
   ],
   "source": [
    "function raise_young(swan::Duck,babe::Swan)\n",
    "    println(draw(swan),\" abandon 🐤\")\n",
    "end"
   ]
  },
  {
   "cell_type": "markdown",
   "metadata": {},
   "source": [
    "y volvemos a probar"
   ]
  },
  {
   "cell_type": "code",
   "execution_count": 22,
   "metadata": {},
   "outputs": [
    {
     "name": "stdout",
     "output_type": "stream",
     "text": [
      "🦆 abandon 🐤\n"
     ]
    }
   ],
   "source": [
    "raise_young(Duck(),Swan())"
   ]
  },
  {
   "cell_type": "markdown",
   "metadata": {},
   "source": [
    "Que pasa si invertimos el orden y pedimos que un cisne críe un patito?"
   ]
  },
  {
   "cell_type": "code",
   "execution_count": 23,
   "metadata": {},
   "outputs": [
    {
     "name": "stdout",
     "output_type": "stream",
     "text": [
      "🦢 carry 🐤\n"
     ]
    }
   ],
   "source": [
    "raise_young(Swan(),Duck())"
   ]
  },
  {
   "cell_type": "markdown",
   "metadata": {},
   "source": [
    "## El problema de la extensibilidad"
   ]
  },
  {
   "cell_type": "markdown",
   "metadata": {},
   "source": [
    "*The Expression Problem Revisited, M. Torgersen (2004)*\n",
    "\n",
    "En que grado nuestro paquete de código puede ser extructurado de manera tal que:\n",
    "\n",
    "1. el **modelo de datos** y\n",
    "\n",
    "2. el conjunto de **operaciones (virtuales)** sobre ellos\n",
    "\n",
    "puedan ser **extendidos** sin necesidad de:\n",
    "\n",
    "1. modificar el código ya existente,\n",
    "\n",
    "2. repetir código y\n",
    "\n",
    "3. sin introducir errores de tipo en tiempos de ejecución?\n",
    "\n",
    "#### En otras palabras\n",
    "\n",
    "Se puede fácil y \"correctamente\" hacer las siguientes cosas:\n",
    "\n",
    "1. definir **tipos nuevos** sobre los cuales las **operaciones existentes** apliquen, y\n",
    "\n",
    "2. definir **nuevas operaciones** que apliquen sobre los **tipos existentes**?\n",
    "\n",
    "Este tipo de requermientos resultan fáciles/díficiles de implementar según el paradigma utilizado:\n",
    "\n",
    "1. es **fácil** en lenguajes **orientados a objetos** y **difícil** en **lenguajes funcionales**, y\n",
    "\n",
    "2. es **difícil** en lenguajes **orientados a objetos** y **fácil** en **lenguajes funcionales**.\n",
    "\n",
    "#### Despacho múltiple propone lo mejor de ambos mundos:\n",
    "\n",
    "1. Agregar nuevos métodos a las **funciones/operaciones genéricas existentes** para actuar sobre **tipos nuevos**.\n",
    "\n",
    "2. Agregar nuevos métodos a **nuevas funciones/operaciones genéricas** que actúen sobre **tipos existentes**."
   ]
  },
  {
   "cell_type": "markdown",
   "metadata": {},
   "source": [
    "### Ejemplo real: DifferentialEquations + Measurements\n",
    "\n",
    "Los paquetes `DifferentialEquations` y `Measurements` fueron implementados de manera independiente. El primero se desarrolló para resolver ecuaciones diferenciales, el segundo para lidiar con datos que tengan incerteza experimental (ej. $x = 1.35 \\pm 0.1$). \n",
    "\n",
    "Como el paquete `Measurements` es un subtipo de `Number`, incorporando métodos nuevos para modelar operaciones matemáticas con ellos (ej. propagación de errores), el integrador ODE proveido en `DifferentialEquations` puede aplicarse directamente a mediciones:"
   ]
  },
  {
   "cell_type": "raw",
   "metadata": {},
   "source": [
    "using Pkg\n",
    "Pkg.add(\"DifferentialEquations\")"
   ]
  },
  {
   "cell_type": "raw",
   "metadata": {},
   "source": [
    "Pkg.add(\"Measurements\")"
   ]
  },
  {
   "cell_type": "code",
   "execution_count": 24,
   "metadata": {},
   "outputs": [
    {
     "ename": "ArgumentError",
     "evalue": "\u001b[91mArgumentError: Package DifferentialEquations not found in current path:\u001b[39m\n\u001b[91m- Run `import Pkg; Pkg.add(\"DifferentialEquations\")` to install the DifferentialEquations package.\u001b[39m\n",
     "output_type": "error",
     "traceback": [
      "\u001b[91mArgumentError: Package DifferentialEquations not found in current path:\u001b[39m\n\u001b[91m- Run `import Pkg; Pkg.add(\"DifferentialEquations\")` to install the DifferentialEquations package.\u001b[39m\n",
      "",
      "Stacktrace:",
      " [1] require(::Module, ::Symbol) at ./loading.jl:892",
      " [2] top-level scope at In[24]:1"
     ]
    }
   ],
   "source": [
    "using DifferentialEquations\n",
    "using Measurements"
   ]
  },
  {
   "cell_type": "code",
   "execution_count": 25,
   "metadata": {},
   "outputs": [
    {
     "ename": "UndefVarError",
     "evalue": "\u001b[91mUndefVarError: ± not defined\u001b[39m",
     "output_type": "error",
     "traceback": [
      "\u001b[91mUndefVarError: ± not defined\u001b[39m",
      "",
      "Stacktrace:",
      " [1] top-level scope at In[25]:1"
     ]
    }
   ],
   "source": [
    "g = 9.79 ± 0.02\n",
    "L = 1.0 ± 0.01\n",
    "\n",
    "u₀ = [0 ± 0, π/60 ± 0.01]\n",
    "tspan = (0.0,6.3)\n",
    "\n",
    "function pendulum(du,u,p,t)\n",
    "    θ = u[1] \n",
    "    dθ = u[2]\n",
    "    du[1] = dθ\n",
    "    du[2] = -(g/L)*θ\n",
    "end\n",
    "\n",
    "prop = ODEProblem(pendulum, u₀, tspan)\n",
    "sol = solve(prop, Tsit5(), reltol = 1e-6)"
   ]
  },
  {
   "cell_type": "code",
   "execution_count": 26,
   "metadata": {},
   "outputs": [
    {
     "name": "stderr",
     "output_type": "stream",
     "text": [
      "┌ Info: Precompiling Plots [91a5bcdd-55d7-5caf-9e0b-520d859cae80]\n",
      "└ @ Base loading.jl:1260\n"
     ]
    }
   ],
   "source": [
    "using Plots"
   ]
  },
  {
   "cell_type": "code",
   "execution_count": 27,
   "metadata": {},
   "outputs": [
    {
     "ename": "UndefVarError",
     "evalue": "\u001b[91mUndefVarError: sol not defined\u001b[39m",
     "output_type": "error",
     "traceback": [
      "\u001b[91mUndefVarError: sol not defined\u001b[39m",
      "",
      "Stacktrace:",
      " [1] top-level scope at In[27]:1"
     ]
    }
   ],
   "source": [
    "sol_u2 = reduce(hcat,sol.u)'[:,2]"
   ]
  },
  {
   "cell_type": "code",
   "execution_count": 28,
   "metadata": {},
   "outputs": [
    {
     "ename": "ArgumentError",
     "evalue": "\u001b[91mArgumentError: Package LaTeXStrings not found in current path:\u001b[39m\n\u001b[91m- Run `import Pkg; Pkg.add(\"LaTeXStrings\")` to install the LaTeXStrings package.\u001b[39m\n",
     "output_type": "error",
     "traceback": [
      "\u001b[91mArgumentError: Package LaTeXStrings not found in current path:\u001b[39m\n\u001b[91m- Run `import Pkg; Pkg.add(\"LaTeXStrings\")` to install the LaTeXStrings package.\u001b[39m\n",
      "",
      "Stacktrace:",
      " [1] require(::Module, ::Symbol) at ./loading.jl:892",
      " [2] top-level scope at In[28]:1"
     ]
    }
   ],
   "source": [
    "using LaTeXStrings\n",
    "scatter(sol.t,sol_u2,label=\"\",xlabel=L\"t\",ylabel=L\"u_2\")"
   ]
  },
  {
   "cell_type": "code",
   "execution_count": 29,
   "metadata": {},
   "outputs": [
    {
     "data": {
      "text/html": [
       "# 222 methods for generic function <b>+</b>:<ul><li> +(x::<b>Bool</b>, z::<b>Complex{Bool}</b>) in Base at <a href=\"https://github.com/JuliaLang/julia/tree/v1.4.1/base/complex.jl#L286\" target=\"_blank\">complex.jl:286</a></li> <li> +(x::<b>Bool</b>, y::<b>Bool</b>) in Base at <a href=\"https://github.com/JuliaLang/julia/tree/v1.4.1/base/bool.jl#L96\" target=\"_blank\">bool.jl:96</a></li> <li> +(x::<b>Bool</b>) in Base at <a href=\"https://github.com/JuliaLang/julia/tree/v1.4.1/base/bool.jl#L93\" target=\"_blank\">bool.jl:93</a></li> <li> +(x::<b>Bool</b>, y::<b>T</b>)<i> where T<:AbstractFloat</i> in Base at <a href=\"https://github.com/JuliaLang/julia/tree/v1.4.1/base/bool.jl#L104\" target=\"_blank\">bool.jl:104</a></li> <li> +(x::<b>Bool</b>, z::<b>Complex</b>) in Base at <a href=\"https://github.com/JuliaLang/julia/tree/v1.4.1/base/complex.jl#L293\" target=\"_blank\">complex.jl:293</a></li> <li> +(a::<b>Float16</b>, b::<b>Float16</b>) in Base at <a href=\"https://github.com/JuliaLang/julia/tree/v1.4.1/base/float.jl#L398\" target=\"_blank\">float.jl:398</a></li> <li> +(x::<b>Float32</b>, y::<b>Float32</b>) in Base at <a href=\"https://github.com/JuliaLang/julia/tree/v1.4.1/base/float.jl#L400\" target=\"_blank\">float.jl:400</a></li> <li> +(x::<b>Float64</b>, y::<b>Float64</b>) in Base at <a href=\"https://github.com/JuliaLang/julia/tree/v1.4.1/base/float.jl#L401\" target=\"_blank\">float.jl:401</a></li> <li> +(z::<b>Complex{Bool}</b>, x::<b>Bool</b>) in Base at <a href=\"https://github.com/JuliaLang/julia/tree/v1.4.1/base/complex.jl#L287\" target=\"_blank\">complex.jl:287</a></li> <li> +(z::<b>Complex{Bool}</b>, x::<b>Real</b>) in Base at <a href=\"https://github.com/JuliaLang/julia/tree/v1.4.1/base/complex.jl#L301\" target=\"_blank\">complex.jl:301</a></li> <li> +(::<b>Missing</b>, ::<b>Missing</b>) in Base at <a href=\"https://github.com/JuliaLang/julia/tree/v1.4.1/base/missing.jl#L114\" target=\"_blank\">missing.jl:114</a></li> <li> +(::<b>Missing</b>) in Base at <a href=\"https://github.com/JuliaLang/julia/tree/v1.4.1/base/missing.jl#L100\" target=\"_blank\">missing.jl:100</a></li> <li> +(::<b>Missing</b>, ::<b>Number</b>) in Base at <a href=\"https://github.com/JuliaLang/julia/tree/v1.4.1/base/missing.jl#L115\" target=\"_blank\">missing.jl:115</a></li> <li> +(level::<b>Base.CoreLogging.LogLevel</b>, inc::<b>Integer</b>) in Base.CoreLogging at <a href=\"https://github.com/JuliaLang/julia/tree/v1.4.1/base/logging.jl#L107\" target=\"_blank\">logging.jl:107</a></li> <li> +(c::<b>BigInt</b>, x::<b>BigFloat</b>) in Base.MPFR at <a href=\"https://github.com/JuliaLang/julia/tree/v1.4.1/base/mpfr.jl#L414\" target=\"_blank\">mpfr.jl:414</a></li> <li> +(a::<b>BigInt</b>, b::<b>BigInt</b>, c::<b>BigInt</b>, d::<b>BigInt</b>, e::<b>BigInt</b>) in Base.GMP at <a href=\"https://github.com/JuliaLang/julia/tree/v1.4.1/base/gmp.jl#L515\" target=\"_blank\">gmp.jl:515</a></li> <li> +(a::<b>BigInt</b>, b::<b>BigInt</b>, c::<b>BigInt</b>, d::<b>BigInt</b>) in Base.GMP at <a href=\"https://github.com/JuliaLang/julia/tree/v1.4.1/base/gmp.jl#L514\" target=\"_blank\">gmp.jl:514</a></li> <li> +(a::<b>BigInt</b>, b::<b>BigInt</b>, c::<b>BigInt</b>) in Base.GMP at <a href=\"https://github.com/JuliaLang/julia/tree/v1.4.1/base/gmp.jl#L513\" target=\"_blank\">gmp.jl:513</a></li> <li> +(x::<b>BigInt</b>, y::<b>BigInt</b>) in Base.GMP at <a href=\"https://github.com/JuliaLang/julia/tree/v1.4.1/base/gmp.jl#L473\" target=\"_blank\">gmp.jl:473</a></li> <li> +(x::<b>BigInt</b>, c::<b>Union{UInt16, UInt32, UInt64, UInt8}</b>) in Base.GMP at <a href=\"https://github.com/JuliaLang/julia/tree/v1.4.1/base/gmp.jl#L521\" target=\"_blank\">gmp.jl:521</a></li> <li> +(x::<b>BigInt</b>, c::<b>Union{Int16, Int32, Int64, Int8}</b>) in Base.GMP at <a href=\"https://github.com/JuliaLang/julia/tree/v1.4.1/base/gmp.jl#L527\" target=\"_blank\">gmp.jl:527</a></li> <li> +(a::<b>BigFloat</b>, b::<b>BigFloat</b>, c::<b>BigFloat</b>, d::<b>BigFloat</b>, e::<b>BigFloat</b>) in Base.MPFR at <a href=\"https://github.com/JuliaLang/julia/tree/v1.4.1/base/mpfr.jl#L564\" target=\"_blank\">mpfr.jl:564</a></li> <li> +(a::<b>BigFloat</b>, b::<b>BigFloat</b>, c::<b>BigFloat</b>, d::<b>BigFloat</b>) in Base.MPFR at <a href=\"https://github.com/JuliaLang/julia/tree/v1.4.1/base/mpfr.jl#L557\" target=\"_blank\">mpfr.jl:557</a></li> <li> +(a::<b>BigFloat</b>, b::<b>BigFloat</b>, c::<b>BigFloat</b>) in Base.MPFR at <a href=\"https://github.com/JuliaLang/julia/tree/v1.4.1/base/mpfr.jl#L551\" target=\"_blank\">mpfr.jl:551</a></li> <li> +(x::<b>BigFloat</b>, c::<b>BigInt</b>) in Base.MPFR at <a href=\"https://github.com/JuliaLang/julia/tree/v1.4.1/base/mpfr.jl#L410\" target=\"_blank\">mpfr.jl:410</a></li> <li> +(x::<b>BigFloat</b>, y::<b>BigFloat</b>) in Base.MPFR at <a href=\"https://github.com/JuliaLang/julia/tree/v1.4.1/base/mpfr.jl#L379\" target=\"_blank\">mpfr.jl:379</a></li> <li> +(x::<b>BigFloat</b>, c::<b>Union{UInt16, UInt32, UInt64, UInt8}</b>) in Base.MPFR at <a href=\"https://github.com/JuliaLang/julia/tree/v1.4.1/base/mpfr.jl#L386\" target=\"_blank\">mpfr.jl:386</a></li> <li> +(x::<b>BigFloat</b>, c::<b>Union{Int16, Int32, Int64, Int8}</b>) in Base.MPFR at <a href=\"https://github.com/JuliaLang/julia/tree/v1.4.1/base/mpfr.jl#L394\" target=\"_blank\">mpfr.jl:394</a></li> <li> +(x::<b>BigFloat</b>, c::<b>Union{Float16, Float32, Float64}</b>) in Base.MPFR at <a href=\"https://github.com/JuliaLang/julia/tree/v1.4.1/base/mpfr.jl#L402\" target=\"_blank\">mpfr.jl:402</a></li> <li> +(x::<b>Dates.CompoundPeriod</b>, y::<b>Dates.CompoundPeriod</b>) in Dates at <a href=\"file:///build/julia-98cBbp/julia-1.4.1+dfsg/usr/share/julia/stdlib/v1.4/Dates/src/periods.jl\" target=\"_blank\">/usr/share/julia/stdlib/v1.4/Dates/src/periods.jl:341</a></li> <li> +(x::<b>Dates.CompoundPeriod</b>, y::<b>Dates.Period</b>) in Dates at <a href=\"file:///build/julia-98cBbp/julia-1.4.1+dfsg/usr/share/julia/stdlib/v1.4/Dates/src/periods.jl\" target=\"_blank\">/usr/share/julia/stdlib/v1.4/Dates/src/periods.jl:339</a></li> <li> +(x::<b>Dates.CompoundPeriod</b>, y::<b>Dates.TimeType</b>) in Dates at <a href=\"file:///build/julia-98cBbp/julia-1.4.1+dfsg/usr/share/julia/stdlib/v1.4/Dates/src/periods.jl\" target=\"_blank\">/usr/share/julia/stdlib/v1.4/Dates/src/periods.jl:369</a></li> <li> +(x::<b>Dates.Date</b>, y::<b>Dates.Day</b>) in Dates at <a href=\"file:///build/julia-98cBbp/julia-1.4.1+dfsg/usr/share/julia/stdlib/v1.4/Dates/src/arithmetic.jl\" target=\"_blank\">/usr/share/julia/stdlib/v1.4/Dates/src/arithmetic.jl:74</a></li> <li> +(x::<b>Dates.Date</b>, y::<b>Dates.Week</b>) in Dates at <a href=\"file:///build/julia-98cBbp/julia-1.4.1+dfsg/usr/share/julia/stdlib/v1.4/Dates/src/arithmetic.jl\" target=\"_blank\">/usr/share/julia/stdlib/v1.4/Dates/src/arithmetic.jl:72</a></li> <li> +(dt::<b>Dates.Date</b>, z::<b>Dates.Month</b>) in Dates at <a href=\"file:///build/julia-98cBbp/julia-1.4.1+dfsg/usr/share/julia/stdlib/v1.4/Dates/src/arithmetic.jl\" target=\"_blank\">/usr/share/julia/stdlib/v1.4/Dates/src/arithmetic.jl:55</a></li> <li> +(dt::<b>Dates.Date</b>, y::<b>Dates.Year</b>) in Dates at <a href=\"file:///build/julia-98cBbp/julia-1.4.1+dfsg/usr/share/julia/stdlib/v1.4/Dates/src/arithmetic.jl\" target=\"_blank\">/usr/share/julia/stdlib/v1.4/Dates/src/arithmetic.jl:28</a></li> <li> +(dt::<b>Dates.Date</b>, t::<b>Dates.Time</b>) in Dates at <a href=\"file:///build/julia-98cBbp/julia-1.4.1+dfsg/usr/share/julia/stdlib/v1.4/Dates/src/arithmetic.jl\" target=\"_blank\">/usr/share/julia/stdlib/v1.4/Dates/src/arithmetic.jl:19</a></li> <li> +(t::<b>Dates.Time</b>, dt::<b>Dates.Date</b>) in Dates at <a href=\"file:///build/julia-98cBbp/julia-1.4.1+dfsg/usr/share/julia/stdlib/v1.4/Dates/src/arithmetic.jl\" target=\"_blank\">/usr/share/julia/stdlib/v1.4/Dates/src/arithmetic.jl:20</a></li> <li> +(x::<b>Dates.Time</b>, y::<b>Dates.TimePeriod</b>) in Dates at <a href=\"file:///build/julia-98cBbp/julia-1.4.1+dfsg/usr/share/julia/stdlib/v1.4/Dates/src/arithmetic.jl\" target=\"_blank\">/usr/share/julia/stdlib/v1.4/Dates/src/arithmetic.jl:78</a></li> <li> +(dt::<b>Dates.DateTime</b>, z::<b>Dates.Month</b>) in Dates at <a href=\"file:///build/julia-98cBbp/julia-1.4.1+dfsg/usr/share/julia/stdlib/v1.4/Dates/src/arithmetic.jl\" target=\"_blank\">/usr/share/julia/stdlib/v1.4/Dates/src/arithmetic.jl:48</a></li> <li> +(dt::<b>Dates.DateTime</b>, y::<b>Dates.Year</b>) in Dates at <a href=\"file:///build/julia-98cBbp/julia-1.4.1+dfsg/usr/share/julia/stdlib/v1.4/Dates/src/arithmetic.jl\" target=\"_blank\">/usr/share/julia/stdlib/v1.4/Dates/src/arithmetic.jl:24</a></li> <li> +(x::<b>Dates.DateTime</b>, y::<b>Dates.Period</b>) in Dates at <a href=\"file:///build/julia-98cBbp/julia-1.4.1+dfsg/usr/share/julia/stdlib/v1.4/Dates/src/arithmetic.jl\" target=\"_blank\">/usr/share/julia/stdlib/v1.4/Dates/src/arithmetic.jl:76</a></li> <li> +(B::<b>BitArray{2}</b>, J::<b>LinearAlgebra.UniformScaling</b>) in LinearAlgebra at <a href=\"file:///build/julia-98cBbp/julia-1.4.1+dfsg/usr/share/julia/stdlib/v1.4/LinearAlgebra/src/uniformscaling.jl\" target=\"_blank\">/usr/share/julia/stdlib/v1.4/LinearAlgebra/src/uniformscaling.jl:115</a></li> <li> +(a::<b>Pkg.Resolve.VersionWeight</b>, b::<b>Pkg.Resolve.VersionWeight</b>) in Pkg.Resolve at <a href=\"file:///build/julia-98cBbp/julia-1.4.1+dfsg/usr/share/julia/stdlib/v1.4/Pkg/src/Resolve/versionweights.jl\" target=\"_blank\">/usr/share/julia/stdlib/v1.4/Pkg/src/Resolve/versionweights.jl:22</a></li> <li> +(a::<b>Pkg.Resolve.FieldValue</b>, b::<b>Pkg.Resolve.FieldValue</b>) in Pkg.Resolve at <a href=\"file:///build/julia-98cBbp/julia-1.4.1+dfsg/usr/share/julia/stdlib/v1.4/Pkg/src/Resolve/fieldvalues.jl\" target=\"_blank\">/usr/share/julia/stdlib/v1.4/Pkg/src/Resolve/fieldvalues.jl:43</a></li> <li> +(x::<b>ChainRulesCore.NotImplemented</b>, ::<b>ChainRulesCore.NotImplemented</b>) in ChainRulesCore at <a href=\"file:///home/mendez/.julia/packages/ChainRulesCore/8NXnp/src/tangent_arithmetic.jl\" target=\"_blank\">/home/mendez/.julia/packages/ChainRulesCore/8NXnp/src/tangent_arithmetic.jl:19</a></li> <li> +(x::<b>ChainRulesCore.NotImplemented</b>, ::<b>ChainRulesCore.ZeroTangent</b>) in ChainRulesCore at <a href=\"file:///home/mendez/.julia/packages/ChainRulesCore/8NXnp/src/tangent_arithmetic.jl\" target=\"_blank\">/home/mendez/.julia/packages/ChainRulesCore/8NXnp/src/tangent_arithmetic.jl:24</a></li> <li> +(x::<b>ChainRulesCore.NotImplemented</b>, ::<b>ChainRulesCore.NoTangent</b>) in ChainRulesCore at <a href=\"file:///home/mendez/.julia/packages/ChainRulesCore/8NXnp/src/tangent_arithmetic.jl\" target=\"_blank\">/home/mendez/.julia/packages/ChainRulesCore/8NXnp/src/tangent_arithmetic.jl:24</a></li> <li> +(x::<b>ChainRulesCore.NotImplemented</b>, ::<b>ChainRulesCore.AbstractThunk</b>) in ChainRulesCore at <a href=\"file:///home/mendez/.julia/packages/ChainRulesCore/8NXnp/src/tangent_arithmetic.jl\" target=\"_blank\">/home/mendez/.julia/packages/ChainRulesCore/8NXnp/src/tangent_arithmetic.jl:24</a></li> <li> +(x::<b>ChainRulesCore.NotImplemented</b>, ::<b>ChainRulesCore.Tangent</b>) in ChainRulesCore at <a href=\"file:///home/mendez/.julia/packages/ChainRulesCore/8NXnp/src/tangent_arithmetic.jl\" target=\"_blank\">/home/mendez/.julia/packages/ChainRulesCore/8NXnp/src/tangent_arithmetic.jl:24</a></li> <li> +(x::<b>ChainRulesCore.NotImplemented</b>, ::<b>Any</b>) in ChainRulesCore at <a href=\"file:///home/mendez/.julia/packages/ChainRulesCore/8NXnp/src/tangent_arithmetic.jl\" target=\"_blank\">/home/mendez/.julia/packages/ChainRulesCore/8NXnp/src/tangent_arithmetic.jl:24</a></li> <li> +(::<b>ChainRulesCore.ZeroTangent</b>, x::<b>ChainRulesCore.NotImplemented</b>) in ChainRulesCore at <a href=\"file:///home/mendez/.julia/packages/ChainRulesCore/8NXnp/src/tangent_arithmetic.jl\" target=\"_blank\">/home/mendez/.julia/packages/ChainRulesCore/8NXnp/src/tangent_arithmetic.jl:25</a></li> <li> +(::<b>ChainRulesCore.ZeroTangent</b>, ::<b>ChainRulesCore.NoTangent</b>) in ChainRulesCore at <a href=\"file:///home/mendez/.julia/packages/ChainRulesCore/8NXnp/src/tangent_arithmetic.jl\" target=\"_blank\">/home/mendez/.julia/packages/ChainRulesCore/8NXnp/src/tangent_arithmetic.jl:74</a></li> <li> +(::<b>ChainRulesCore.ZeroTangent</b>, ::<b>ChainRulesCore.ZeroTangent</b>) in ChainRulesCore at <a href=\"file:///home/mendez/.julia/packages/ChainRulesCore/8NXnp/src/tangent_arithmetic.jl\" target=\"_blank\">/home/mendez/.julia/packages/ChainRulesCore/8NXnp/src/tangent_arithmetic.jl:93</a></li> <li> +(::<b>ChainRulesCore.ZeroTangent</b>, b::<b>ChainRulesCore.AbstractThunk</b>) in ChainRulesCore at <a href=\"file:///home/mendez/.julia/packages/ChainRulesCore/8NXnp/src/tangent_arithmetic.jl\" target=\"_blank\">/home/mendez/.julia/packages/ChainRulesCore/8NXnp/src/tangent_arithmetic.jl:99</a></li> <li> +(::<b>ChainRulesCore.ZeroTangent</b>, b::<b>ChainRulesCore.Tangent</b>) in ChainRulesCore at <a href=\"file:///home/mendez/.julia/packages/ChainRulesCore/8NXnp/src/tangent_arithmetic.jl\" target=\"_blank\">/home/mendez/.julia/packages/ChainRulesCore/8NXnp/src/tangent_arithmetic.jl:99</a></li> <li> +(::<b>ChainRulesCore.ZeroTangent</b>, b) in ChainRulesCore at <a href=\"file:///home/mendez/.julia/packages/ChainRulesCore/8NXnp/src/tangent_arithmetic.jl\" target=\"_blank\">/home/mendez/.julia/packages/ChainRulesCore/8NXnp/src/tangent_arithmetic.jl:99</a></li> <li> +(::<b>ChainRulesCore.NoTangent</b>, x::<b>ChainRulesCore.NotImplemented</b>) in ChainRulesCore at <a href=\"file:///home/mendez/.julia/packages/ChainRulesCore/8NXnp/src/tangent_arithmetic.jl\" target=\"_blank\">/home/mendez/.julia/packages/ChainRulesCore/8NXnp/src/tangent_arithmetic.jl:25</a></li> <li> +(::<b>ChainRulesCore.NoTangent</b>, ::<b>ChainRulesCore.NoTangent</b>) in ChainRulesCore at <a href=\"file:///home/mendez/.julia/packages/ChainRulesCore/8NXnp/src/tangent_arithmetic.jl\" target=\"_blank\">/home/mendez/.julia/packages/ChainRulesCore/8NXnp/src/tangent_arithmetic.jl:53</a></li> <li> +(::<b>ChainRulesCore.NoTangent</b>, ::<b>ChainRulesCore.ZeroTangent</b>) in ChainRulesCore at <a href=\"file:///home/mendez/.julia/packages/ChainRulesCore/8NXnp/src/tangent_arithmetic.jl\" target=\"_blank\">/home/mendez/.julia/packages/ChainRulesCore/8NXnp/src/tangent_arithmetic.jl:73</a></li> <li> +(::<b>ChainRulesCore.NoTangent</b>, b::<b>ChainRulesCore.AbstractThunk</b>) in ChainRulesCore at <a href=\"file:///home/mendez/.julia/packages/ChainRulesCore/8NXnp/src/tangent_arithmetic.jl\" target=\"_blank\">/home/mendez/.julia/packages/ChainRulesCore/8NXnp/src/tangent_arithmetic.jl:59</a></li> <li> +(::<b>ChainRulesCore.NoTangent</b>, b::<b>ChainRulesCore.Tangent</b>) in ChainRulesCore at <a href=\"file:///home/mendez/.julia/packages/ChainRulesCore/8NXnp/src/tangent_arithmetic.jl\" target=\"_blank\">/home/mendez/.julia/packages/ChainRulesCore/8NXnp/src/tangent_arithmetic.jl:59</a></li> <li> +(::<b>ChainRulesCore.NoTangent</b>, b) in ChainRulesCore at <a href=\"file:///home/mendez/.julia/packages/ChainRulesCore/8NXnp/src/tangent_arithmetic.jl\" target=\"_blank\">/home/mendez/.julia/packages/ChainRulesCore/8NXnp/src/tangent_arithmetic.jl:59</a></li> <li> +(y::<b>AbstractFloat</b>, x::<b>Bool</b>) in Base at <a href=\"https://github.com/JuliaLang/julia/tree/v1.4.1/base/bool.jl#L106\" target=\"_blank\">bool.jl:106</a></li> <li> +(x::<b>T</b>, y::<b>T</b>)<i> where T<:Union{Int128, Int16, Int32, Int64, Int8, UInt128, UInt16, UInt32, UInt64, UInt8}</i> in Base at <a href=\"https://github.com/JuliaLang/julia/tree/v1.4.1/base/int.jl#L53\" target=\"_blank\">int.jl:53</a></li> <li> +(c::<b>Union{UInt16, UInt32, UInt64, UInt8}</b>, x::<b>BigInt</b>) in Base.GMP at <a href=\"https://github.com/JuliaLang/julia/tree/v1.4.1/base/gmp.jl#L522\" target=\"_blank\">gmp.jl:522</a></li> <li> +(c::<b>Union{Int16, Int32, Int64, Int8}</b>, x::<b>BigInt</b>) in Base.GMP at <a href=\"https://github.com/JuliaLang/julia/tree/v1.4.1/base/gmp.jl#L528\" target=\"_blank\">gmp.jl:528</a></li> <li> +(x::<b>GeometryBasics.OffsetInteger{O,T} where T<:Integer</b>, y::<b>GeometryBasics.OffsetInteger{O,T} where T<:Integer</b>)<i> where O</i> in GeometryBasics at <a href=\"file:///home/mendez/.julia/packages/GeometryBasics/pjtu1/src/offsetintegers.jl\" target=\"_blank\">/home/mendez/.julia/packages/GeometryBasics/pjtu1/src/offsetintegers.jl:64</a></li> <li> +(x::<b>GeometryTypes.OffsetInteger{O,T} where T<:Integer</b>, y::<b>GeometryTypes.OffsetInteger{O,T} where T<:Integer</b>)<i> where O</i> in GeometryTypes at <a href=\"file:///home/mendez/.julia/packages/GeometryTypes/08XBK/src/faces.jl\" target=\"_blank\">/home/mendez/.julia/packages/GeometryTypes/08XBK/src/faces.jl:32</a></li> <li> +(a::<b>Integer</b>, b::<b>Integer</b>) in Base at <a href=\"https://github.com/JuliaLang/julia/tree/v1.4.1/base/int.jl#L857\" target=\"_blank\">int.jl:857</a></li> <li> +(x::<b>Integer</b>, y::<b>Ptr</b>) in Base at <a href=\"https://github.com/JuliaLang/julia/tree/v1.4.1/base/pointer.jl#L161\" target=\"_blank\">pointer.jl:161</a></li> <li> +(z::<b>Complex</b>) in Base at <a href=\"https://github.com/JuliaLang/julia/tree/v1.4.1/base/complex.jl#L273\" target=\"_blank\">complex.jl:273</a></li> <li> +(z::<b>Complex</b>, w::<b>Complex</b>) in Base at <a href=\"https://github.com/JuliaLang/julia/tree/v1.4.1/base/complex.jl#L275\" target=\"_blank\">complex.jl:275</a></li> <li> +(z::<b>Complex</b>, x::<b>Bool</b>) in Base at <a href=\"https://github.com/JuliaLang/julia/tree/v1.4.1/base/complex.jl#L294\" target=\"_blank\">complex.jl:294</a></li> <li> +(x::<b>Rational</b>) in Base at <a href=\"https://github.com/JuliaLang/julia/tree/v1.4.1/base/rational.jl#L247\" target=\"_blank\">rational.jl:247</a></li> <li> +(x::<b>Real</b>, z::<b>Complex{Bool}</b>) in Base at <a href=\"https://github.com/JuliaLang/julia/tree/v1.4.1/base/complex.jl#L300\" target=\"_blank\">complex.jl:300</a></li> <li> +(x::<b>Real</b>, z::<b>Complex</b>) in Base at <a href=\"https://github.com/JuliaLang/julia/tree/v1.4.1/base/complex.jl#L312\" target=\"_blank\">complex.jl:312</a></li> <li> +(z::<b>Complex</b>, x::<b>Real</b>) in Base at <a href=\"https://github.com/JuliaLang/julia/tree/v1.4.1/base/complex.jl#L313\" target=\"_blank\">complex.jl:313</a></li> <li> +(x::<b>Rational</b>, y::<b>Rational</b>) in Base at <a href=\"https://github.com/JuliaLang/julia/tree/v1.4.1/base/rational.jl#L263\" target=\"_blank\">rational.jl:263</a></li> <li> +(x::<b>Integer</b>, y::<b>AbstractChar</b>) in Base at <a href=\"https://github.com/JuliaLang/julia/tree/v1.4.1/base/char.jl#L224\" target=\"_blank\">char.jl:224</a></li> <li> +(c::<b>Union{UInt16, UInt32, UInt64, UInt8}</b>, x::<b>BigFloat</b>) in Base.MPFR at <a href=\"https://github.com/JuliaLang/julia/tree/v1.4.1/base/mpfr.jl#L390\" target=\"_blank\">mpfr.jl:390</a></li> <li> +(c::<b>Union{Int16, Int32, Int64, Int8}</b>, x::<b>BigFloat</b>) in Base.MPFR at <a href=\"https://github.com/JuliaLang/julia/tree/v1.4.1/base/mpfr.jl#L398\" target=\"_blank\">mpfr.jl:398</a></li> <li> +(c::<b>Union{Float16, Float32, Float64}</b>, x::<b>BigFloat</b>) in Base.MPFR at <a href=\"https://github.com/JuliaLang/julia/tree/v1.4.1/base/mpfr.jl#L406\" target=\"_blank\">mpfr.jl:406</a></li> <li> +(x::<b>AbstractIrrational</b>, y::<b>AbstractIrrational</b>) in Base at <a href=\"https://github.com/JuliaLang/julia/tree/v1.4.1/base/irrationals.jl#L137\" target=\"_blank\">irrationals.jl:137</a></li> <li> +(x::<b>X</b>, y::<b>X</b>)<i> where X<:FixedPointNumbers.FixedPoint</i> in FixedPointNumbers at <a href=\"file:///home/mendez/.julia/packages/FixedPointNumbers/HAGk2/src/FixedPointNumbers.jl\" target=\"_blank\">/home/mendez/.julia/packages/FixedPointNumbers/HAGk2/src/FixedPointNumbers.jl:237</a></li> <li> +(x::<b>Number</b>) in Base at <a href=\"https://github.com/JuliaLang/julia/tree/v1.4.1/base/operators.jl#L504\" target=\"_blank\">operators.jl:504</a></li> <li> +(x::<b>T</b>, y::<b>T</b>)<i> where T<:Number</i> in Base at <a href=\"https://github.com/JuliaLang/julia/tree/v1.4.1/base/promotion.jl#L384\" target=\"_blank\">promotion.jl:384</a></li> <li> +(x::<b>Number</b>, y::<b>Number</b>) in Base at <a href=\"https://github.com/JuliaLang/julia/tree/v1.4.1/base/promotion.jl#L311\" target=\"_blank\">promotion.jl:311</a></li> <li> +(r1::<b>OrdinalRange</b>, r2::<b>OrdinalRange</b>) in Base at <a href=\"https://github.com/JuliaLang/julia/tree/v1.4.1/base/range.jl#L1011\" target=\"_blank\">range.jl:1011</a></li> <li> +(r1::<b>LinRange{T}</b>, r2::<b>LinRange{T}</b>)<i> where T</i> in Base at <a href=\"https://github.com/JuliaLang/julia/tree/v1.4.1/base/range.jl#L1018\" target=\"_blank\">range.jl:1018</a></li> <li> +(r1::<b>StepRangeLen{T,R,S} where S</b>, r2::<b>StepRangeLen{T,R,S} where S</b>)<i> where {R<:Base.TwicePrecision, T}</i> in Base at <a href=\"https://github.com/JuliaLang/julia/tree/v1.4.1/base/twiceprecision.jl#L557\" target=\"_blank\">twiceprecision.jl:557</a></li> <li> +(r1::<b>StepRangeLen{T,S,S1} where S1</b>, r2::<b>StepRangeLen{T,S,S1} where S1</b>)<i> where {T, S}</i> in Base at <a href=\"https://github.com/JuliaLang/julia/tree/v1.4.1/base/range.jl#L1034\" target=\"_blank\">range.jl:1034</a></li> <li> +(r1::<b>Union{LinRange, OrdinalRange, StepRangeLen}</b>, r2::<b>Union{LinRange, OrdinalRange, StepRangeLen}</b>) in Base at <a href=\"https://github.com/JuliaLang/julia/tree/v1.4.1/base/range.jl#L1026\" target=\"_blank\">range.jl:1026</a></li> <li> +(x::<b>Ptr</b>, y::<b>Integer</b>) in Base at <a href=\"https://github.com/JuliaLang/julia/tree/v1.4.1/base/pointer.jl#L159\" target=\"_blank\">pointer.jl:159</a></li> <li> +(x::<b>Base.TwicePrecision</b>, y::<b>Number</b>) in Base at <a href=\"https://github.com/JuliaLang/julia/tree/v1.4.1/base/twiceprecision.jl#L265\" target=\"_blank\">twiceprecision.jl:265</a></li> <li> +(x::<b>Number</b>, y::<b>Base.TwicePrecision</b>) in Base at <a href=\"https://github.com/JuliaLang/julia/tree/v1.4.1/base/twiceprecision.jl#L268\" target=\"_blank\">twiceprecision.jl:268</a></li> <li> +(x::<b>Base.TwicePrecision{T}</b>, y::<b>Base.TwicePrecision{T}</b>)<i> where T</i> in Base at <a href=\"https://github.com/JuliaLang/julia/tree/v1.4.1/base/twiceprecision.jl#L271\" target=\"_blank\">twiceprecision.jl:271</a></li> <li> +(x::<b>Base.TwicePrecision</b>, y::<b>Base.TwicePrecision</b>) in Base at <a href=\"https://github.com/JuliaLang/julia/tree/v1.4.1/base/twiceprecision.jl#L275\" target=\"_blank\">twiceprecision.jl:275</a></li> <li> +(A::<b>Array</b>, Bs::<b>Array...</b>) in Base at <a href=\"https://github.com/JuliaLang/julia/tree/v1.4.1/base/arraymath.jl#L44\" target=\"_blank\">arraymath.jl:44</a></li> <li> +(A::<b>BitArray</b>, B::<b>BitArray</b>) in Base at <a href=\"https://github.com/JuliaLang/julia/tree/v1.4.1/base/bitarray.jl#L1106\" target=\"_blank\">bitarray.jl:1106</a></li> <li> +(r::<b>AbstractRange{#s664} where #s664<:Dates.TimeType</b>, x::<b>Dates.Period</b>) in Dates at <a href=\"file:///build/julia-98cBbp/julia-1.4.1+dfsg/usr/share/julia/stdlib/v1.4/Dates/src/ranges.jl\" target=\"_blank\">/usr/share/julia/stdlib/v1.4/Dates/src/ranges.jl:59</a></li> <li> +(A::<b>Array</b>, B::<b>SparseArrays.AbstractSparseMatrixCSC</b>) in SparseArrays at <a href=\"file:///build/julia-98cBbp/julia-1.4.1+dfsg/usr/share/julia/stdlib/v1.4/SparseArrays/src/sparsematrix.jl\" target=\"_blank\">/usr/share/julia/stdlib/v1.4/SparseArrays/src/sparsematrix.jl:1652</a></li> <li> +(x::<b>Union{DenseArray{#s664,N}, Base.ReinterpretArray{#s664,N,S,A} where S where A<:Union{SubArray{T,N,A,I,true} where I<:Union{Tuple{Vararg{Real,N} where N}, Tuple{AbstractUnitRange,Vararg{Any,N} where N}} where A<:DenseArray where N where T, DenseArray}, Base.ReshapedArray{#s664,N,A,MI} where MI<:Tuple{Vararg{Base.MultiplicativeInverses.SignedMultiplicativeInverse{Int64},N} where N} where A<:Union{Base.ReinterpretArray{T,N,S,A} where S where A<:Union{SubArray{T,N,A,I,true} where I<:Union{Tuple{Vararg{Real,N} where N}, Tuple{AbstractUnitRange,Vararg{Any,N} where N}} where A<:DenseArray where N where T, DenseArray} where N where T, SubArray{T,N,A,I,true} where I<:Union{Tuple{Vararg{Real,N} where N}, Tuple{AbstractUnitRange,Vararg{Any,N} where N}} where A<:DenseArray where N where T, DenseArray}, SubArray{#s664,N,A,I,L} where L where I<:Tuple{Vararg{Union{Int64, AbstractRange{Int64}, Base.AbstractCartesianIndex},N} where N} where A<:Union{Base.ReinterpretArray{T,N,S,A} where S where A<:Union{SubArray{T,N,A,I,true} where I<:Union{Tuple{Vararg{Real,N} where N}, Tuple{AbstractUnitRange,Vararg{Any,N} where N}} where A<:DenseArray where N where T, DenseArray} where N where T, Base.ReshapedArray{T,N,A,MI} where MI<:Tuple{Vararg{Base.MultiplicativeInverses.SignedMultiplicativeInverse{Int64},N} where N} where A<:Union{Base.ReinterpretArray{T,N,S,A} where S where A<:Union{SubArray{T,N,A,I,true} where I<:Union{Tuple{Vararg{Real,N} where N}, Tuple{AbstractUnitRange,Vararg{Any,N} where N}} where A<:DenseArray where N where T, DenseArray} where N where T, SubArray{T,N,A,I,true} where I<:Union{Tuple{Vararg{Real,N} where N}, Tuple{AbstractUnitRange,Vararg{Any,N} where N}} where A<:DenseArray where N where T, DenseArray} where N where T, DenseArray}} where N where #s664<:Union{Dates.CompoundPeriod, Dates.Period}</b>) in Dates at <a href=\"file:///build/julia-98cBbp/julia-1.4.1+dfsg/usr/share/julia/stdlib/v1.4/Dates/src/deprecated.jl\" target=\"_blank\">/usr/share/julia/stdlib/v1.4/Dates/src/deprecated.jl:57</a></li> <li> +(x::<b>Union{DenseArray{#s664,N}, Base.ReinterpretArray{#s664,N,S,A} where S where A<:Union{SubArray{T,N,A,I,true} where I<:Union{Tuple{Vararg{Real,N} where N}, Tuple{AbstractUnitRange,Vararg{Any,N} where N}} where A<:DenseArray where N where T, DenseArray}, Base.ReshapedArray{#s664,N,A,MI} where MI<:Tuple{Vararg{Base.MultiplicativeInverses.SignedMultiplicativeInverse{Int64},N} where N} where A<:Union{Base.ReinterpretArray{T,N,S,A} where S where A<:Union{SubArray{T,N,A,I,true} where I<:Union{Tuple{Vararg{Real,N} where N}, Tuple{AbstractUnitRange,Vararg{Any,N} where N}} where A<:DenseArray where N where T, DenseArray} where N where T, SubArray{T,N,A,I,true} where I<:Union{Tuple{Vararg{Real,N} where N}, Tuple{AbstractUnitRange,Vararg{Any,N} where N}} where A<:DenseArray where N where T, DenseArray}, SubArray{#s664,N,A,I,L} where L where I<:Tuple{Vararg{Union{Int64, AbstractRange{Int64}, Base.AbstractCartesianIndex},N} where N} where A<:Union{Base.ReinterpretArray{T,N,S,A} where S where A<:Union{SubArray{T,N,A,I,true} where I<:Union{Tuple{Vararg{Real,N} where N}, Tuple{AbstractUnitRange,Vararg{Any,N} where N}} where A<:DenseArray where N where T, DenseArray} where N where T, Base.ReshapedArray{T,N,A,MI} where MI<:Tuple{Vararg{Base.MultiplicativeInverses.SignedMultiplicativeInverse{Int64},N} where N} where A<:Union{Base.ReinterpretArray{T,N,S,A} where S where A<:Union{SubArray{T,N,A,I,true} where I<:Union{Tuple{Vararg{Real,N} where N}, Tuple{AbstractUnitRange,Vararg{Any,N} where N}} where A<:DenseArray where N where T, DenseArray} where N where T, SubArray{T,N,A,I,true} where I<:Union{Tuple{Vararg{Real,N} where N}, Tuple{AbstractUnitRange,Vararg{Any,N} where N}} where A<:DenseArray where N where T, DenseArray} where N where T, DenseArray}} where N where #s664<:Union{Dates.CompoundPeriod, Dates.Period}</b>, y::<b>Dates.TimeType</b>) in Dates at <a href=\"file:///build/julia-98cBbp/julia-1.4.1+dfsg/usr/share/julia/stdlib/v1.4/Dates/src/deprecated.jl\" target=\"_blank\">/usr/share/julia/stdlib/v1.4/Dates/src/deprecated.jl:12</a></li> <li> +(X::<b>Union{DenseArray{#s664,N}, Base.ReinterpretArray{#s664,N,S,A} where S where A<:Union{SubArray{T,N,A,I,true} where I<:Union{Tuple{Vararg{Real,N} where N}, Tuple{AbstractUnitRange,Vararg{Any,N} where N}} where A<:DenseArray where N where T, DenseArray}, Base.ReshapedArray{#s664,N,A,MI} where MI<:Tuple{Vararg{Base.MultiplicativeInverses.SignedMultiplicativeInverse{Int64},N} where N} where A<:Union{Base.ReinterpretArray{T,N,S,A} where S where A<:Union{SubArray{T,N,A,I,true} where I<:Union{Tuple{Vararg{Real,N} where N}, Tuple{AbstractUnitRange,Vararg{Any,N} where N}} where A<:DenseArray where N where T, DenseArray} where N where T, SubArray{T,N,A,I,true} where I<:Union{Tuple{Vararg{Real,N} where N}, Tuple{AbstractUnitRange,Vararg{Any,N} where N}} where A<:DenseArray where N where T, DenseArray}, SubArray{#s664,N,A,I,L} where L where I<:Tuple{Vararg{Union{Int64, AbstractRange{Int64}, Base.AbstractCartesianIndex},N} where N} where A<:Union{Base.ReinterpretArray{T,N,S,A} where S where A<:Union{SubArray{T,N,A,I,true} where I<:Union{Tuple{Vararg{Real,N} where N}, Tuple{AbstractUnitRange,Vararg{Any,N} where N}} where A<:DenseArray where N where T, DenseArray} where N where T, Base.ReshapedArray{T,N,A,MI} where MI<:Tuple{Vararg{Base.MultiplicativeInverses.SignedMultiplicativeInverse{Int64},N} where N} where A<:Union{Base.ReinterpretArray{T,N,S,A} where S where A<:Union{SubArray{T,N,A,I,true} where I<:Union{Tuple{Vararg{Real,N} where N}, Tuple{AbstractUnitRange,Vararg{Any,N} where N}} where A<:DenseArray where N where T, DenseArray} where N where T, SubArray{T,N,A,I,true} where I<:Union{Tuple{Vararg{Real,N} where N}, Tuple{AbstractUnitRange,Vararg{Any,N} where N}} where A<:DenseArray where N where T, DenseArray} where N where T, DenseArray}} where N where #s664<:Union{Dates.CompoundPeriod, Dates.Period}</b>, Y::<b>Union{DenseArray{#s663,N}, Base.ReinterpretArray{#s663,N,S,A} where S where A<:Union{SubArray{T,N,A,I,true} where I<:Union{Tuple{Vararg{Real,N} where N}, Tuple{AbstractUnitRange,Vararg{Any,N} where N}} where A<:DenseArray where N where T, DenseArray}, Base.ReshapedArray{#s663,N,A,MI} where MI<:Tuple{Vararg{Base.MultiplicativeInverses.SignedMultiplicativeInverse{Int64},N} where N} where A<:Union{Base.ReinterpretArray{T,N,S,A} where S where A<:Union{SubArray{T,N,A,I,true} where I<:Union{Tuple{Vararg{Real,N} where N}, Tuple{AbstractUnitRange,Vararg{Any,N} where N}} where A<:DenseArray where N where T, DenseArray} where N where T, SubArray{T,N,A,I,true} where I<:Union{Tuple{Vararg{Real,N} where N}, Tuple{AbstractUnitRange,Vararg{Any,N} where N}} where A<:DenseArray where N where T, DenseArray}, SubArray{#s663,N,A,I,L} where L where I<:Tuple{Vararg{Union{Int64, AbstractRange{Int64}, Base.AbstractCartesianIndex},N} where N} where A<:Union{Base.ReinterpretArray{T,N,S,A} where S where A<:Union{SubArray{T,N,A,I,true} where I<:Union{Tuple{Vararg{Real,N} where N}, Tuple{AbstractUnitRange,Vararg{Any,N} where N}} where A<:DenseArray where N where T, DenseArray} where N where T, Base.ReshapedArray{T,N,A,MI} where MI<:Tuple{Vararg{Base.MultiplicativeInverses.SignedMultiplicativeInverse{Int64},N} where N} where A<:Union{Base.ReinterpretArray{T,N,S,A} where S where A<:Union{SubArray{T,N,A,I,true} where I<:Union{Tuple{Vararg{Real,N} where N}, Tuple{AbstractUnitRange,Vararg{Any,N} where N}} where A<:DenseArray where N where T, DenseArray} where N where T, SubArray{T,N,A,I,true} where I<:Union{Tuple{Vararg{Real,N} where N}, Tuple{AbstractUnitRange,Vararg{Any,N} where N}} where A<:DenseArray where N where T, DenseArray} where N where T, DenseArray}} where N where #s663<:Union{Dates.CompoundPeriod, Dates.Period}</b>) in Dates at <a href=\"file:///build/julia-98cBbp/julia-1.4.1+dfsg/usr/share/julia/stdlib/v1.4/Dates/src/deprecated.jl\" target=\"_blank\">/usr/share/julia/stdlib/v1.4/Dates/src/deprecated.jl:64</a></li> <li> +(A::<b>LinearAlgebra.SymTridiagonal</b>, B::<b>LinearAlgebra.SymTridiagonal</b>) in LinearAlgebra at <a href=\"file:///build/julia-98cBbp/julia-1.4.1+dfsg/usr/share/julia/stdlib/v1.4/LinearAlgebra/src/tridiag.jl\" target=\"_blank\">/usr/share/julia/stdlib/v1.4/LinearAlgebra/src/tridiag.jl:158</a></li> <li> +(A::<b>LinearAlgebra.Tridiagonal</b>, B::<b>LinearAlgebra.Tridiagonal</b>) in LinearAlgebra at <a href=\"file:///build/julia-98cBbp/julia-1.4.1+dfsg/usr/share/julia/stdlib/v1.4/LinearAlgebra/src/tridiag.jl\" target=\"_blank\">/usr/share/julia/stdlib/v1.4/LinearAlgebra/src/tridiag.jl:657</a></li> <li> +(A::<b>LinearAlgebra.UpperTriangular</b>, B::<b>LinearAlgebra.UpperTriangular</b>) in LinearAlgebra at <a href=\"file:///build/julia-98cBbp/julia-1.4.1+dfsg/usr/share/julia/stdlib/v1.4/LinearAlgebra/src/triangular.jl\" target=\"_blank\">/usr/share/julia/stdlib/v1.4/LinearAlgebra/src/triangular.jl:648</a></li> <li> +(A::<b>LinearAlgebra.LowerTriangular</b>, B::<b>LinearAlgebra.LowerTriangular</b>) in LinearAlgebra at <a href=\"file:///build/julia-98cBbp/julia-1.4.1+dfsg/usr/share/julia/stdlib/v1.4/LinearAlgebra/src/triangular.jl\" target=\"_blank\">/usr/share/julia/stdlib/v1.4/LinearAlgebra/src/triangular.jl:649</a></li> <li> +(A::<b>LinearAlgebra.UpperTriangular</b>, B::<b>LinearAlgebra.UnitUpperTriangular</b>) in LinearAlgebra at <a href=\"file:///build/julia-98cBbp/julia-1.4.1+dfsg/usr/share/julia/stdlib/v1.4/LinearAlgebra/src/triangular.jl\" target=\"_blank\">/usr/share/julia/stdlib/v1.4/LinearAlgebra/src/triangular.jl:650</a></li> <li> +(A::<b>LinearAlgebra.LowerTriangular</b>, B::<b>LinearAlgebra.UnitLowerTriangular</b>) in LinearAlgebra at <a href=\"file:///build/julia-98cBbp/julia-1.4.1+dfsg/usr/share/julia/stdlib/v1.4/LinearAlgebra/src/triangular.jl\" target=\"_blank\">/usr/share/julia/stdlib/v1.4/LinearAlgebra/src/triangular.jl:651</a></li> <li> +(A::<b>LinearAlgebra.UnitUpperTriangular</b>, B::<b>LinearAlgebra.UpperTriangular</b>) in LinearAlgebra at <a href=\"file:///build/julia-98cBbp/julia-1.4.1+dfsg/usr/share/julia/stdlib/v1.4/LinearAlgebra/src/triangular.jl\" target=\"_blank\">/usr/share/julia/stdlib/v1.4/LinearAlgebra/src/triangular.jl:652</a></li> <li> +(A::<b>LinearAlgebra.UnitLowerTriangular</b>, B::<b>LinearAlgebra.LowerTriangular</b>) in LinearAlgebra at <a href=\"file:///build/julia-98cBbp/julia-1.4.1+dfsg/usr/share/julia/stdlib/v1.4/LinearAlgebra/src/triangular.jl\" target=\"_blank\">/usr/share/julia/stdlib/v1.4/LinearAlgebra/src/triangular.jl:653</a></li> <li> +(A::<b>LinearAlgebra.UnitUpperTriangular</b>, B::<b>LinearAlgebra.UnitUpperTriangular</b>) in LinearAlgebra at <a href=\"file:///build/julia-98cBbp/julia-1.4.1+dfsg/usr/share/julia/stdlib/v1.4/LinearAlgebra/src/triangular.jl\" target=\"_blank\">/usr/share/julia/stdlib/v1.4/LinearAlgebra/src/triangular.jl:654</a></li> <li> +(A::<b>LinearAlgebra.UnitLowerTriangular</b>, B::<b>LinearAlgebra.UnitLowerTriangular</b>) in LinearAlgebra at <a href=\"file:///build/julia-98cBbp/julia-1.4.1+dfsg/usr/share/julia/stdlib/v1.4/LinearAlgebra/src/triangular.jl\" target=\"_blank\">/usr/share/julia/stdlib/v1.4/LinearAlgebra/src/triangular.jl:655</a></li> <li> +(A::<b>LinearAlgebra.AbstractTriangular</b>, B::<b>LinearAlgebra.AbstractTriangular</b>) in LinearAlgebra at <a href=\"file:///build/julia-98cBbp/julia-1.4.1+dfsg/usr/share/julia/stdlib/v1.4/LinearAlgebra/src/triangular.jl\" target=\"_blank\">/usr/share/julia/stdlib/v1.4/LinearAlgebra/src/triangular.jl:656</a></li> <li> +(A::<b>LinearAlgebra.Symmetric</b>, B::<b>LinearAlgebra.Symmetric</b>) in LinearAlgebra at <a href=\"file:///build/julia-98cBbp/julia-1.4.1+dfsg/usr/share/julia/stdlib/v1.4/LinearAlgebra/src/symmetric.jl\" target=\"_blank\">/usr/share/julia/stdlib/v1.4/LinearAlgebra/src/symmetric.jl:465</a></li> <li> +(A::<b>LinearAlgebra.Hermitian</b>, B::<b>LinearAlgebra.Hermitian</b>) in LinearAlgebra at <a href=\"file:///build/julia-98cBbp/julia-1.4.1+dfsg/usr/share/julia/stdlib/v1.4/LinearAlgebra/src/symmetric.jl\" target=\"_blank\">/usr/share/julia/stdlib/v1.4/LinearAlgebra/src/symmetric.jl:466</a></li> <li> +(A::<b>LinearAlgebra.Hermitian</b>, B::<b>LinearAlgebra.Symmetric{#s664,S} where S<:(AbstractArray{#s6641,2} where #s6641<:#s664) where #s664<:Real</b>) in LinearAlgebra at <a href=\"file:///build/julia-98cBbp/julia-1.4.1+dfsg/usr/share/julia/stdlib/v1.4/LinearAlgebra/src/symmetric.jl\" target=\"_blank\">/usr/share/julia/stdlib/v1.4/LinearAlgebra/src/symmetric.jl:467</a></li> <li> +(A::<b>LinearAlgebra.Symmetric{#s664,S} where S<:(AbstractArray{#s6641,2} where #s6641<:#s664) where #s664<:Real</b>, B::<b>LinearAlgebra.Hermitian</b>) in LinearAlgebra at <a href=\"file:///build/julia-98cBbp/julia-1.4.1+dfsg/usr/share/julia/stdlib/v1.4/LinearAlgebra/src/symmetric.jl\" target=\"_blank\">/usr/share/julia/stdlib/v1.4/LinearAlgebra/src/symmetric.jl:468</a></li> <li> +(Da::<b>LinearAlgebra.Diagonal</b>, Db::<b>LinearAlgebra.Diagonal</b>) in LinearAlgebra at <a href=\"file:///build/julia-98cBbp/julia-1.4.1+dfsg/usr/share/julia/stdlib/v1.4/LinearAlgebra/src/diagonal.jl\" target=\"_blank\">/usr/share/julia/stdlib/v1.4/LinearAlgebra/src/diagonal.jl:156</a></li> <li> +(A::<b>LinearAlgebra.Bidiagonal</b>, B::<b>LinearAlgebra.Bidiagonal</b>) in LinearAlgebra at <a href=\"file:///build/julia-98cBbp/julia-1.4.1+dfsg/usr/share/julia/stdlib/v1.4/LinearAlgebra/src/bidiag.jl\" target=\"_blank\">/usr/share/julia/stdlib/v1.4/LinearAlgebra/src/bidiag.jl:309</a></li> <li> +(UL::<b>LinearAlgebra.UnitUpperTriangular</b>, J::<b>LinearAlgebra.UniformScaling</b>) in LinearAlgebra at <a href=\"file:///build/julia-98cBbp/julia-1.4.1+dfsg/usr/share/julia/stdlib/v1.4/LinearAlgebra/src/uniformscaling.jl\" target=\"_blank\">/usr/share/julia/stdlib/v1.4/LinearAlgebra/src/uniformscaling.jl:131</a></li> <li> +(UL::<b>LinearAlgebra.UnitLowerTriangular</b>, J::<b>LinearAlgebra.UniformScaling</b>) in LinearAlgebra at <a href=\"file:///build/julia-98cBbp/julia-1.4.1+dfsg/usr/share/julia/stdlib/v1.4/LinearAlgebra/src/uniformscaling.jl\" target=\"_blank\">/usr/share/julia/stdlib/v1.4/LinearAlgebra/src/uniformscaling.jl:131</a></li> <li> +(A::<b>LinearAlgebra.Hermitian</b>, J::<b>LinearAlgebra.UniformScaling{#s664} where #s664<:Complex</b>) in LinearAlgebra at <a href=\"file:///build/julia-98cBbp/julia-1.4.1+dfsg/usr/share/julia/stdlib/v1.4/LinearAlgebra/src/uniformscaling.jl\" target=\"_blank\">/usr/share/julia/stdlib/v1.4/LinearAlgebra/src/uniformscaling.jl:145</a></li> <li> +(H::<b>LinearAlgebra.UpperHessenberg</b>, J::<b>LinearAlgebra.UniformScaling</b>) in LinearAlgebra at <a href=\"file:///build/julia-98cBbp/julia-1.4.1+dfsg/usr/share/julia/stdlib/v1.4/LinearAlgebra/src/hessenberg.jl\" target=\"_blank\">/usr/share/julia/stdlib/v1.4/LinearAlgebra/src/hessenberg.jl:106</a></li> <li> +(A::<b>LinearAlgebra.Tridiagonal{#s664,V} where V<:AbstractArray{#s664,1} where #s664<:Number</b>, B::<b>LinearAlgebra.UniformScaling</b>) in LinearAlgebra at <a href=\"file:///build/julia-98cBbp/julia-1.4.1+dfsg/usr/share/julia/stdlib/v1.4/LinearAlgebra/src/special.jl\" target=\"_blank\">/usr/share/julia/stdlib/v1.4/LinearAlgebra/src/special.jl:238</a></li> <li> +(A::<b>LinearAlgebra.SymTridiagonal{#s664,V} where V<:AbstractArray{#s664,1} where #s664<:Number</b>, B::<b>LinearAlgebra.UniformScaling</b>) in LinearAlgebra at <a href=\"file:///build/julia-98cBbp/julia-1.4.1+dfsg/usr/share/julia/stdlib/v1.4/LinearAlgebra/src/special.jl\" target=\"_blank\">/usr/share/julia/stdlib/v1.4/LinearAlgebra/src/special.jl:243</a></li> <li> +(A::<b>LinearAlgebra.Bidiagonal{#s664,V} where V<:AbstractArray{#s664,1} where #s664<:Number</b>, B::<b>LinearAlgebra.UniformScaling</b>) in LinearAlgebra at <a href=\"file:///build/julia-98cBbp/julia-1.4.1+dfsg/usr/share/julia/stdlib/v1.4/LinearAlgebra/src/special.jl\" target=\"_blank\">/usr/share/julia/stdlib/v1.4/LinearAlgebra/src/special.jl:248</a></li> <li> +(A::<b>LinearAlgebra.Diagonal{#s664,V} where V<:AbstractArray{#s664,1} where #s664<:Number</b>, B::<b>LinearAlgebra.UniformScaling</b>) in LinearAlgebra at <a href=\"file:///build/julia-98cBbp/julia-1.4.1+dfsg/usr/share/julia/stdlib/v1.4/LinearAlgebra/src/special.jl\" target=\"_blank\">/usr/share/julia/stdlib/v1.4/LinearAlgebra/src/special.jl:253</a></li> <li> +(A::<b>SparseArrays.AbstractSparseMatrixCSC</b>, J::<b>LinearAlgebra.UniformScaling</b>) in SparseArrays at <a href=\"file:///build/julia-98cBbp/julia-1.4.1+dfsg/usr/share/julia/stdlib/v1.4/SparseArrays/src/sparsematrix.jl\" target=\"_blank\">/usr/share/julia/stdlib/v1.4/SparseArrays/src/sparsematrix.jl:3610</a></li> <li> +(a::<b>StaticArrays.StaticArray{Tuple{N,M},T,2} where T where M where N</b>, b::<b>LinearAlgebra.UniformScaling</b>) in StaticArrays at <a href=\"file:///home/mendez/.julia/packages/StaticArrays/N3rrI/src/linalg.jl\" target=\"_blank\">/home/mendez/.julia/packages/StaticArrays/N3rrI/src/linalg.jl:29</a></li> <li> +(a::<b>StaticArrays.StaticArray</b>) in StaticArrays at <a href=\"file:///home/mendez/.julia/packages/StaticArrays/N3rrI/src/linalg.jl\" target=\"_blank\">/home/mendez/.julia/packages/StaticArrays/N3rrI/src/linalg.jl:7</a></li> <li> +(A::<b>AbstractArray{T,2} where T</b>, J::<b>LinearAlgebra.UniformScaling</b>) in LinearAlgebra at <a href=\"file:///build/julia-98cBbp/julia-1.4.1+dfsg/usr/share/julia/stdlib/v1.4/LinearAlgebra/src/uniformscaling.jl\" target=\"_blank\">/usr/share/julia/stdlib/v1.4/LinearAlgebra/src/uniformscaling.jl:164</a></li> <li> +(A::<b>LinearAlgebra.UpperHessenberg</b>, B::<b>LinearAlgebra.UpperHessenberg</b>) in LinearAlgebra at <a href=\"file:///build/julia-98cBbp/julia-1.4.1+dfsg/usr/share/julia/stdlib/v1.4/LinearAlgebra/src/hessenberg.jl\" target=\"_blank\">/usr/share/julia/stdlib/v1.4/LinearAlgebra/src/hessenberg.jl:101</a></li> <li> +(A::<b>LinearAlgebra.UpperTriangular</b>, B::<b>LinearAlgebra.Bidiagonal</b>) in LinearAlgebra at <a href=\"file:///build/julia-98cBbp/julia-1.4.1+dfsg/usr/share/julia/stdlib/v1.4/LinearAlgebra/src/special.jl\" target=\"_blank\">/usr/share/julia/stdlib/v1.4/LinearAlgebra/src/special.jl:98</a></li> <li> +(A::<b>LinearAlgebra.Bidiagonal</b>, B::<b>LinearAlgebra.UpperTriangular</b>) in LinearAlgebra at <a href=\"file:///build/julia-98cBbp/julia-1.4.1+dfsg/usr/share/julia/stdlib/v1.4/LinearAlgebra/src/special.jl\" target=\"_blank\">/usr/share/julia/stdlib/v1.4/LinearAlgebra/src/special.jl:106</a></li> <li> +(A::<b>LinearAlgebra.UnitUpperTriangular</b>, B::<b>LinearAlgebra.Bidiagonal</b>) in LinearAlgebra at <a href=\"file:///build/julia-98cBbp/julia-1.4.1+dfsg/usr/share/julia/stdlib/v1.4/LinearAlgebra/src/special.jl\" target=\"_blank\">/usr/share/julia/stdlib/v1.4/LinearAlgebra/src/special.jl:98</a></li> <li> +(A::<b>LinearAlgebra.Bidiagonal</b>, B::<b>LinearAlgebra.UnitUpperTriangular</b>) in LinearAlgebra at <a href=\"file:///build/julia-98cBbp/julia-1.4.1+dfsg/usr/share/julia/stdlib/v1.4/LinearAlgebra/src/special.jl\" target=\"_blank\">/usr/share/julia/stdlib/v1.4/LinearAlgebra/src/special.jl:106</a></li> <li> +(A::<b>LinearAlgebra.LowerTriangular</b>, B::<b>LinearAlgebra.Bidiagonal</b>) in LinearAlgebra at <a href=\"file:///build/julia-98cBbp/julia-1.4.1+dfsg/usr/share/julia/stdlib/v1.4/LinearAlgebra/src/special.jl\" target=\"_blank\">/usr/share/julia/stdlib/v1.4/LinearAlgebra/src/special.jl:98</a></li> <li> +(A::<b>LinearAlgebra.Bidiagonal</b>, B::<b>LinearAlgebra.LowerTriangular</b>) in LinearAlgebra at <a href=\"file:///build/julia-98cBbp/julia-1.4.1+dfsg/usr/share/julia/stdlib/v1.4/LinearAlgebra/src/special.jl\" target=\"_blank\">/usr/share/julia/stdlib/v1.4/LinearAlgebra/src/special.jl:106</a></li> <li> +(A::<b>LinearAlgebra.UnitLowerTriangular</b>, B::<b>LinearAlgebra.Bidiagonal</b>) in LinearAlgebra at <a href=\"file:///build/julia-98cBbp/julia-1.4.1+dfsg/usr/share/julia/stdlib/v1.4/LinearAlgebra/src/special.jl\" target=\"_blank\">/usr/share/julia/stdlib/v1.4/LinearAlgebra/src/special.jl:98</a></li> <li> +(A::<b>LinearAlgebra.Bidiagonal</b>, B::<b>LinearAlgebra.UnitLowerTriangular</b>) in LinearAlgebra at <a href=\"file:///build/julia-98cBbp/julia-1.4.1+dfsg/usr/share/julia/stdlib/v1.4/LinearAlgebra/src/special.jl\" target=\"_blank\">/usr/share/julia/stdlib/v1.4/LinearAlgebra/src/special.jl:106</a></li> <li> +(A::<b>LinearAlgebra.Bidiagonal</b>, B::<b>LinearAlgebra.Diagonal</b>) in LinearAlgebra at <a href=\"file:///build/julia-98cBbp/julia-1.4.1+dfsg/usr/share/julia/stdlib/v1.4/LinearAlgebra/src/special.jl\" target=\"_blank\">/usr/share/julia/stdlib/v1.4/LinearAlgebra/src/special.jl:127</a></li> <li> +(A::<b>LinearAlgebra.Diagonal</b>, B::<b>LinearAlgebra.Bidiagonal</b>) in LinearAlgebra at <a href=\"file:///build/julia-98cBbp/julia-1.4.1+dfsg/usr/share/julia/stdlib/v1.4/LinearAlgebra/src/special.jl\" target=\"_blank\">/usr/share/julia/stdlib/v1.4/LinearAlgebra/src/special.jl:137</a></li> <li> +(A::<b>LinearAlgebra.Diagonal</b>, B::<b>LinearAlgebra.SymTridiagonal</b>) in LinearAlgebra at <a href=\"file:///build/julia-98cBbp/julia-1.4.1+dfsg/usr/share/julia/stdlib/v1.4/LinearAlgebra/src/special.jl\" target=\"_blank\">/usr/share/julia/stdlib/v1.4/LinearAlgebra/src/special.jl:147</a></li> <li> +(A::<b>LinearAlgebra.SymTridiagonal</b>, B::<b>LinearAlgebra.Diagonal</b>) in LinearAlgebra at <a href=\"file:///build/julia-98cBbp/julia-1.4.1+dfsg/usr/share/julia/stdlib/v1.4/LinearAlgebra/src/special.jl\" target=\"_blank\">/usr/share/julia/stdlib/v1.4/LinearAlgebra/src/special.jl:157</a></li> <li> +(A::<b>LinearAlgebra.Tridiagonal</b>, B::<b>LinearAlgebra.SymTridiagonal</b>) in LinearAlgebra at <a href=\"file:///build/julia-98cBbp/julia-1.4.1+dfsg/usr/share/julia/stdlib/v1.4/LinearAlgebra/src/special.jl\" target=\"_blank\">/usr/share/julia/stdlib/v1.4/LinearAlgebra/src/special.jl:168</a></li> <li> +(A::<b>LinearAlgebra.SymTridiagonal</b>, B::<b>LinearAlgebra.Tridiagonal</b>) in LinearAlgebra at <a href=\"file:///build/julia-98cBbp/julia-1.4.1+dfsg/usr/share/julia/stdlib/v1.4/LinearAlgebra/src/special.jl\" target=\"_blank\">/usr/share/julia/stdlib/v1.4/LinearAlgebra/src/special.jl:170</a></li> <li> +(A::<b>LinearAlgebra.Diagonal</b>, B::<b>LinearAlgebra.Tridiagonal</b>) in LinearAlgebra at <a href=\"file:///build/julia-98cBbp/julia-1.4.1+dfsg/usr/share/julia/stdlib/v1.4/LinearAlgebra/src/special.jl\" target=\"_blank\">/usr/share/julia/stdlib/v1.4/LinearAlgebra/src/special.jl:175</a></li> <li> +(A::<b>LinearAlgebra.Tridiagonal</b>, B::<b>LinearAlgebra.Diagonal</b>) in LinearAlgebra at <a href=\"file:///build/julia-98cBbp/julia-1.4.1+dfsg/usr/share/julia/stdlib/v1.4/LinearAlgebra/src/special.jl\" target=\"_blank\">/usr/share/julia/stdlib/v1.4/LinearAlgebra/src/special.jl:185</a></li> <li> +(A::<b>LinearAlgebra.Bidiagonal</b>, B::<b>LinearAlgebra.Tridiagonal</b>) in LinearAlgebra at <a href=\"file:///build/julia-98cBbp/julia-1.4.1+dfsg/usr/share/julia/stdlib/v1.4/LinearAlgebra/src/special.jl\" target=\"_blank\">/usr/share/julia/stdlib/v1.4/LinearAlgebra/src/special.jl:195</a></li> <li> +(A::<b>LinearAlgebra.Tridiagonal</b>, B::<b>LinearAlgebra.Bidiagonal</b>) in LinearAlgebra at <a href=\"file:///build/julia-98cBbp/julia-1.4.1+dfsg/usr/share/julia/stdlib/v1.4/LinearAlgebra/src/special.jl\" target=\"_blank\">/usr/share/julia/stdlib/v1.4/LinearAlgebra/src/special.jl:205</a></li> <li> +(A::<b>LinearAlgebra.Bidiagonal</b>, B::<b>LinearAlgebra.SymTridiagonal</b>) in LinearAlgebra at <a href=\"file:///build/julia-98cBbp/julia-1.4.1+dfsg/usr/share/julia/stdlib/v1.4/LinearAlgebra/src/special.jl\" target=\"_blank\">/usr/share/julia/stdlib/v1.4/LinearAlgebra/src/special.jl:215</a></li> <li> +(A::<b>LinearAlgebra.SymTridiagonal</b>, B::<b>LinearAlgebra.Bidiagonal</b>) in LinearAlgebra at <a href=\"file:///build/julia-98cBbp/julia-1.4.1+dfsg/usr/share/julia/stdlib/v1.4/LinearAlgebra/src/special.jl\" target=\"_blank\">/usr/share/julia/stdlib/v1.4/LinearAlgebra/src/special.jl:225</a></li> <li> +(A::<b>SparseArrays.AbstractSparseMatrixCSC</b>, B::<b>SparseArrays.AbstractSparseMatrixCSC</b>) in SparseArrays at <a href=\"file:///build/julia-98cBbp/julia-1.4.1+dfsg/usr/share/julia/stdlib/v1.4/SparseArrays/src/sparsematrix.jl\" target=\"_blank\">/usr/share/julia/stdlib/v1.4/SparseArrays/src/sparsematrix.jl:1648</a></li> <li> +(A::<b>SparseArrays.AbstractSparseMatrixCSC</b>, B::<b>Array</b>) in SparseArrays at <a href=\"file:///build/julia-98cBbp/julia-1.4.1+dfsg/usr/share/julia/stdlib/v1.4/SparseArrays/src/sparsematrix.jl\" target=\"_blank\">/usr/share/julia/stdlib/v1.4/SparseArrays/src/sparsematrix.jl:1651</a></li> <li> +(x::<b>SparseArrays.AbstractSparseArray{Tv,Ti,1} where Ti where Tv</b>, y::<b>SparseArrays.AbstractSparseArray{Tv,Ti,1} where Ti where Tv</b>) in SparseArrays at <a href=\"file:///build/julia-98cBbp/julia-1.4.1+dfsg/usr/share/julia/stdlib/v1.4/SparseArrays/src/sparsevector.jl\" target=\"_blank\">/usr/share/julia/stdlib/v1.4/SparseArrays/src/sparsevector.jl:1303</a></li> <li> +(a::<b>StaticArrays.StaticArray</b>, b::<b>StaticArrays.StaticArray</b>) in StaticArrays at <a href=\"file:///home/mendez/.julia/packages/StaticArrays/N3rrI/src/linalg.jl\" target=\"_blank\">/home/mendez/.julia/packages/StaticArrays/N3rrI/src/linalg.jl:12</a></li> <li> +(a::<b>StaticArrays.StaticArray</b>, b::<b>AbstractArray</b>) in StaticArrays at <a href=\"file:///home/mendez/.julia/packages/StaticArrays/N3rrI/src/linalg.jl\" target=\"_blank\">/home/mendez/.julia/packages/StaticArrays/N3rrI/src/linalg.jl:14</a></li> <li> +(x::<b>AbstractArray{#s69,N} where N where #s69<:Number</b>) in Base at <a href=\"https://github.com/JuliaLang/julia/tree/v1.4.1/base/abstractarraymath.jl#L97\" target=\"_blank\">abstractarraymath.jl:97</a></li> <li> +(a::<b>AbstractArray</b>, b::<b>StaticArrays.StaticArray</b>) in StaticArrays at <a href=\"file:///home/mendez/.julia/packages/StaticArrays/N3rrI/src/linalg.jl\" target=\"_blank\">/home/mendez/.julia/packages/StaticArrays/N3rrI/src/linalg.jl:13</a></li> <li> +(A::<b>AbstractArray</b>, B::<b>AbstractArray</b>) in Base at <a href=\"https://github.com/JuliaLang/julia/tree/v1.4.1/base/arraymath.jl#L38\" target=\"_blank\">arraymath.jl:38</a></li> <li> +(x::<b>T</b>, y::<b>Integer</b>)<i> where T<:AbstractChar</i> in Base at <a href=\"https://github.com/JuliaLang/julia/tree/v1.4.1/base/char.jl#L223\" target=\"_blank\">char.jl:223</a></li> <li> +(index1::<b>CartesianIndex{N}</b>, index2::<b>CartesianIndex{N}</b>)<i> where N</i> in Base.IteratorsMD at <a href=\"https://github.com/JuliaLang/julia/tree/v1.4.1/base/multidimensional.jl#L111\" target=\"_blank\">multidimensional.jl:111</a></li> <li> +(::<b>Number</b>, ::<b>Missing</b>) in Base at <a href=\"https://github.com/JuliaLang/julia/tree/v1.4.1/base/missing.jl#L116\" target=\"_blank\">missing.jl:116</a></li> <li> +(x::<b>P</b>, y::<b>P</b>)<i> where P<:Dates.Period</i> in Dates at <a href=\"file:///build/julia-98cBbp/julia-1.4.1+dfsg/usr/share/julia/stdlib/v1.4/Dates/src/periods.jl\" target=\"_blank\">/usr/share/julia/stdlib/v1.4/Dates/src/periods.jl:75</a></li> <li> +(x::<b>Dates.Period</b>, y::<b>Dates.Period</b>) in Dates at <a href=\"file:///build/julia-98cBbp/julia-1.4.1+dfsg/usr/share/julia/stdlib/v1.4/Dates/src/periods.jl\" target=\"_blank\">/usr/share/julia/stdlib/v1.4/Dates/src/periods.jl:338</a></li> <li> +(y::<b>Dates.Period</b>, x::<b>Dates.CompoundPeriod</b>) in Dates at <a href=\"file:///build/julia-98cBbp/julia-1.4.1+dfsg/usr/share/julia/stdlib/v1.4/Dates/src/periods.jl\" target=\"_blank\">/usr/share/julia/stdlib/v1.4/Dates/src/periods.jl:340</a></li> <li> +(x::<b>Union{Dates.CompoundPeriod, Dates.Period}</b>) in Dates at <a href=\"file:///build/julia-98cBbp/julia-1.4.1+dfsg/usr/share/julia/stdlib/v1.4/Dates/src/periods.jl\" target=\"_blank\">/usr/share/julia/stdlib/v1.4/Dates/src/periods.jl:349</a></li> <li> +(x::<b>Dates.TimeType</b>) in Dates at <a href=\"file:///build/julia-98cBbp/julia-1.4.1+dfsg/usr/share/julia/stdlib/v1.4/Dates/src/arithmetic.jl\" target=\"_blank\">/usr/share/julia/stdlib/v1.4/Dates/src/arithmetic.jl:8</a></li> <li> +(a::<b>Dates.TimeType</b>, b::<b>Dates.Period</b>, c::<b>Dates.Period</b>) in Dates at <a href=\"file:///build/julia-98cBbp/julia-1.4.1+dfsg/usr/share/julia/stdlib/v1.4/Dates/src/periods.jl\" target=\"_blank\">/usr/share/julia/stdlib/v1.4/Dates/src/periods.jl:360</a></li> <li> +(a::<b>Dates.TimeType</b>, b::<b>Dates.Period</b>, c::<b>Dates.Period</b>, d::<b>Dates.Period...</b>) in Dates at <a href=\"file:///build/julia-98cBbp/julia-1.4.1+dfsg/usr/share/julia/stdlib/v1.4/Dates/src/periods.jl\" target=\"_blank\">/usr/share/julia/stdlib/v1.4/Dates/src/periods.jl:361</a></li> <li> +(x::<b>Dates.TimeType</b>, y::<b>Dates.CompoundPeriod</b>) in Dates at <a href=\"file:///build/julia-98cBbp/julia-1.4.1+dfsg/usr/share/julia/stdlib/v1.4/Dates/src/periods.jl\" target=\"_blank\">/usr/share/julia/stdlib/v1.4/Dates/src/periods.jl:364</a></li> <li> +(x::<b>Dates.Instant</b>) in Dates at <a href=\"file:///build/julia-98cBbp/julia-1.4.1+dfsg/usr/share/julia/stdlib/v1.4/Dates/src/arithmetic.jl\" target=\"_blank\">/usr/share/julia/stdlib/v1.4/Dates/src/arithmetic.jl:4</a></li> <li> +(y::<b>Dates.Period</b>, x::<b>Dates.TimeType</b>) in Dates at <a href=\"file:///build/julia-98cBbp/julia-1.4.1+dfsg/usr/share/julia/stdlib/v1.4/Dates/src/arithmetic.jl\" target=\"_blank\">/usr/share/julia/stdlib/v1.4/Dates/src/arithmetic.jl:80</a></li> <li> +(x::<b>Dates.Period</b>, r::<b>AbstractRange{#s664} where #s664<:Dates.TimeType</b>) in Dates at <a href=\"file:///build/julia-98cBbp/julia-1.4.1+dfsg/usr/share/julia/stdlib/v1.4/Dates/src/ranges.jl\" target=\"_blank\">/usr/share/julia/stdlib/v1.4/Dates/src/ranges.jl:58</a></li> <li> +(x::<b>AbstractArray{#s664,N} where N where #s664<:Dates.TimeType</b>, y::<b>Union{Dates.CompoundPeriod, Dates.Period}</b>) in Dates at <a href=\"file:///build/julia-98cBbp/julia-1.4.1+dfsg/usr/share/julia/stdlib/v1.4/Dates/src/deprecated.jl\" target=\"_blank\">/usr/share/julia/stdlib/v1.4/Dates/src/deprecated.jl:8</a></li> <li> +(y::<b>Union{Dates.CompoundPeriod, Dates.Period}</b>, x::<b>AbstractArray{#s664,N} where N where #s664<:Dates.TimeType</b>) in Dates at <a href=\"file:///build/julia-98cBbp/julia-1.4.1+dfsg/usr/share/julia/stdlib/v1.4/Dates/src/deprecated.jl\" target=\"_blank\">/usr/share/julia/stdlib/v1.4/Dates/src/deprecated.jl:16</a></li> <li> +(y::<b>Dates.TimeType</b>, x::<b>Union{DenseArray{#s664,N}, Base.ReinterpretArray{#s664,N,S,A} where S where A<:Union{SubArray{T,N,A,I,true} where I<:Union{Tuple{Vararg{Real,N} where N}, Tuple{AbstractUnitRange,Vararg{Any,N} where N}} where A<:DenseArray where N where T, DenseArray}, Base.ReshapedArray{#s664,N,A,MI} where MI<:Tuple{Vararg{Base.MultiplicativeInverses.SignedMultiplicativeInverse{Int64},N} where N} where A<:Union{Base.ReinterpretArray{T,N,S,A} where S where A<:Union{SubArray{T,N,A,I,true} where I<:Union{Tuple{Vararg{Real,N} where N}, Tuple{AbstractUnitRange,Vararg{Any,N} where N}} where A<:DenseArray where N where T, DenseArray} where N where T, SubArray{T,N,A,I,true} where I<:Union{Tuple{Vararg{Real,N} where N}, Tuple{AbstractUnitRange,Vararg{Any,N} where N}} where A<:DenseArray where N where T, DenseArray}, SubArray{#s664,N,A,I,L} where L where I<:Tuple{Vararg{Union{Int64, AbstractRange{Int64}, Base.AbstractCartesianIndex},N} where N} where A<:Union{Base.ReinterpretArray{T,N,S,A} where S where A<:Union{SubArray{T,N,A,I,true} where I<:Union{Tuple{Vararg{Real,N} where N}, Tuple{AbstractUnitRange,Vararg{Any,N} where N}} where A<:DenseArray where N where T, DenseArray} where N where T, Base.ReshapedArray{T,N,A,MI} where MI<:Tuple{Vararg{Base.MultiplicativeInverses.SignedMultiplicativeInverse{Int64},N} where N} where A<:Union{Base.ReinterpretArray{T,N,S,A} where S where A<:Union{SubArray{T,N,A,I,true} where I<:Union{Tuple{Vararg{Real,N} where N}, Tuple{AbstractUnitRange,Vararg{Any,N} where N}} where A<:DenseArray where N where T, DenseArray} where N where T, SubArray{T,N,A,I,true} where I<:Union{Tuple{Vararg{Real,N} where N}, Tuple{AbstractUnitRange,Vararg{Any,N} where N}} where A<:DenseArray where N where T, DenseArray} where N where T, DenseArray}} where N where #s664<:Union{Dates.CompoundPeriod, Dates.Period}</b>) in Dates at <a href=\"file:///build/julia-98cBbp/julia-1.4.1+dfsg/usr/share/julia/stdlib/v1.4/Dates/src/deprecated.jl\" target=\"_blank\">/usr/share/julia/stdlib/v1.4/Dates/src/deprecated.jl:20</a></li> <li> +(J::<b>LinearAlgebra.UniformScaling</b>, x::<b>Number</b>) in LinearAlgebra at <a href=\"file:///build/julia-98cBbp/julia-1.4.1+dfsg/usr/share/julia/stdlib/v1.4/LinearAlgebra/src/uniformscaling.jl\" target=\"_blank\">/usr/share/julia/stdlib/v1.4/LinearAlgebra/src/uniformscaling.jl:109</a></li> <li> +(x::<b>Number</b>, J::<b>LinearAlgebra.UniformScaling</b>) in LinearAlgebra at <a href=\"file:///build/julia-98cBbp/julia-1.4.1+dfsg/usr/share/julia/stdlib/v1.4/LinearAlgebra/src/uniformscaling.jl\" target=\"_blank\">/usr/share/julia/stdlib/v1.4/LinearAlgebra/src/uniformscaling.jl:110</a></li> <li> +(J1::<b>LinearAlgebra.UniformScaling</b>, J2::<b>LinearAlgebra.UniformScaling</b>) in LinearAlgebra at <a href=\"file:///build/julia-98cBbp/julia-1.4.1+dfsg/usr/share/julia/stdlib/v1.4/LinearAlgebra/src/uniformscaling.jl\" target=\"_blank\">/usr/share/julia/stdlib/v1.4/LinearAlgebra/src/uniformscaling.jl:114</a></li> <li> +(J::<b>LinearAlgebra.UniformScaling</b>, B::<b>BitArray{2}</b>) in LinearAlgebra at <a href=\"file:///build/julia-98cBbp/julia-1.4.1+dfsg/usr/share/julia/stdlib/v1.4/LinearAlgebra/src/uniformscaling.jl\" target=\"_blank\">/usr/share/julia/stdlib/v1.4/LinearAlgebra/src/uniformscaling.jl:116</a></li> <li> +(A::<b>LinearAlgebra.UniformScaling</b>, B::<b>LinearAlgebra.Tridiagonal{#s664,V} where V<:AbstractArray{#s664,1} where #s664<:Number</b>) in LinearAlgebra at <a href=\"file:///build/julia-98cBbp/julia-1.4.1+dfsg/usr/share/julia/stdlib/v1.4/LinearAlgebra/src/special.jl\" target=\"_blank\">/usr/share/julia/stdlib/v1.4/LinearAlgebra/src/special.jl:257</a></li> <li> +(A::<b>LinearAlgebra.UniformScaling</b>, B::<b>LinearAlgebra.SymTridiagonal{#s664,V} where V<:AbstractArray{#s664,1} where #s664<:Number</b>) in LinearAlgebra at <a href=\"file:///build/julia-98cBbp/julia-1.4.1+dfsg/usr/share/julia/stdlib/v1.4/LinearAlgebra/src/special.jl\" target=\"_blank\">/usr/share/julia/stdlib/v1.4/LinearAlgebra/src/special.jl:262</a></li> <li> +(A::<b>LinearAlgebra.UniformScaling</b>, B::<b>LinearAlgebra.Bidiagonal{#s664,V} where V<:AbstractArray{#s664,1} where #s664<:Number</b>) in LinearAlgebra at <a href=\"file:///build/julia-98cBbp/julia-1.4.1+dfsg/usr/share/julia/stdlib/v1.4/LinearAlgebra/src/special.jl\" target=\"_blank\">/usr/share/julia/stdlib/v1.4/LinearAlgebra/src/special.jl:267</a></li> <li> +(A::<b>LinearAlgebra.UniformScaling</b>, B::<b>LinearAlgebra.Diagonal{#s664,V} where V<:AbstractArray{#s664,1} where #s664<:Number</b>) in LinearAlgebra at <a href=\"file:///build/julia-98cBbp/julia-1.4.1+dfsg/usr/share/julia/stdlib/v1.4/LinearAlgebra/src/special.jl\" target=\"_blank\">/usr/share/julia/stdlib/v1.4/LinearAlgebra/src/special.jl:272</a></li> <li> +(a::<b>LinearAlgebra.UniformScaling</b>, b::<b>StaticArrays.StaticArray{Tuple{N,M},T,2} where T where M where N</b>) in StaticArrays at <a href=\"file:///home/mendez/.julia/packages/StaticArrays/N3rrI/src/linalg.jl\" target=\"_blank\">/home/mendez/.julia/packages/StaticArrays/N3rrI/src/linalg.jl:30</a></li> <li> +(J::<b>LinearAlgebra.UniformScaling</b>, A::<b>AbstractArray{T,2} where T</b>) in LinearAlgebra at <a href=\"file:///build/julia-98cBbp/julia-1.4.1+dfsg/usr/share/julia/stdlib/v1.4/LinearAlgebra/src/uniformscaling.jl\" target=\"_blank\">/usr/share/julia/stdlib/v1.4/LinearAlgebra/src/uniformscaling.jl:117</a></li> <li> +(F::<b>LinearAlgebra.Hessenberg</b>, J::<b>LinearAlgebra.UniformScaling</b>) in LinearAlgebra at <a href=\"file:///build/julia-98cBbp/julia-1.4.1+dfsg/usr/share/julia/stdlib/v1.4/LinearAlgebra/src/hessenberg.jl\" target=\"_blank\">/usr/share/julia/stdlib/v1.4/LinearAlgebra/src/hessenberg.jl:559</a></li> <li> +(J::<b>LinearAlgebra.UniformScaling</b>, F::<b>LinearAlgebra.Hessenberg</b>) in LinearAlgebra at <a href=\"file:///build/julia-98cBbp/julia-1.4.1+dfsg/usr/share/julia/stdlib/v1.4/LinearAlgebra/src/hessenberg.jl\" target=\"_blank\">/usr/share/julia/stdlib/v1.4/LinearAlgebra/src/hessenberg.jl:560</a></li> <li> +(::<b>ChainRulesCore.AbstractThunk</b>, x::<b>ChainRulesCore.NotImplemented</b>) in ChainRulesCore at <a href=\"file:///home/mendez/.julia/packages/ChainRulesCore/8NXnp/src/tangent_arithmetic.jl\" target=\"_blank\">/home/mendez/.julia/packages/ChainRulesCore/8NXnp/src/tangent_arithmetic.jl:25</a></li> <li> +(::<b>ChainRulesCore.Tangent</b>, x::<b>ChainRulesCore.NotImplemented</b>) in ChainRulesCore at <a href=\"file:///home/mendez/.julia/packages/ChainRulesCore/8NXnp/src/tangent_arithmetic.jl\" target=\"_blank\">/home/mendez/.julia/packages/ChainRulesCore/8NXnp/src/tangent_arithmetic.jl:25</a></li> <li> +(a::<b>ChainRulesCore.AbstractThunk</b>, ::<b>ChainRulesCore.NoTangent</b>) in ChainRulesCore at <a href=\"file:///home/mendez/.julia/packages/ChainRulesCore/8NXnp/src/tangent_arithmetic.jl\" target=\"_blank\">/home/mendez/.julia/packages/ChainRulesCore/8NXnp/src/tangent_arithmetic.jl:60</a></li> <li> +(a::<b>ChainRulesCore.Tangent</b>, ::<b>ChainRulesCore.NoTangent</b>) in ChainRulesCore at <a href=\"file:///home/mendez/.julia/packages/ChainRulesCore/8NXnp/src/tangent_arithmetic.jl\" target=\"_blank\">/home/mendez/.julia/packages/ChainRulesCore/8NXnp/src/tangent_arithmetic.jl:60</a></li> <li> +(a::<b>ChainRulesCore.AbstractThunk</b>, ::<b>ChainRulesCore.ZeroTangent</b>) in ChainRulesCore at <a href=\"file:///home/mendez/.julia/packages/ChainRulesCore/8NXnp/src/tangent_arithmetic.jl\" target=\"_blank\">/home/mendez/.julia/packages/ChainRulesCore/8NXnp/src/tangent_arithmetic.jl:100</a></li> <li> +(a::<b>ChainRulesCore.Tangent</b>, ::<b>ChainRulesCore.ZeroTangent</b>) in ChainRulesCore at <a href=\"file:///home/mendez/.julia/packages/ChainRulesCore/8NXnp/src/tangent_arithmetic.jl\" target=\"_blank\">/home/mendez/.julia/packages/ChainRulesCore/8NXnp/src/tangent_arithmetic.jl:100</a></li> <li> +(a::<b>ChainRulesCore.AbstractThunk</b>, b::<b>ChainRulesCore.AbstractThunk</b>) in ChainRulesCore at <a href=\"file:///home/mendez/.julia/packages/ChainRulesCore/8NXnp/src/tangent_arithmetic.jl\" target=\"_blank\">/home/mendez/.julia/packages/ChainRulesCore/8NXnp/src/tangent_arithmetic.jl:119</a></li> <li> +(a::<b>ChainRulesCore.AbstractThunk</b>, b::<b>ChainRulesCore.Tangent</b>) in ChainRulesCore at <a href=\"file:///home/mendez/.julia/packages/ChainRulesCore/8NXnp/src/tangent_arithmetic.jl\" target=\"_blank\">/home/mendez/.julia/packages/ChainRulesCore/8NXnp/src/tangent_arithmetic.jl:122</a></li> <li> +(a::<b>ChainRulesCore.Tangent</b>, b::<b>ChainRulesCore.AbstractThunk</b>) in ChainRulesCore at <a href=\"file:///home/mendez/.julia/packages/ChainRulesCore/8NXnp/src/tangent_arithmetic.jl\" target=\"_blank\">/home/mendez/.julia/packages/ChainRulesCore/8NXnp/src/tangent_arithmetic.jl:123</a></li> <li> +(a::<b>ChainRulesCore.AbstractThunk</b>, b) in ChainRulesCore at <a href=\"file:///home/mendez/.julia/packages/ChainRulesCore/8NXnp/src/tangent_arithmetic.jl\" target=\"_blank\">/home/mendez/.julia/packages/ChainRulesCore/8NXnp/src/tangent_arithmetic.jl:122</a></li> <li> +(a::<b>ChainRulesCore.Tangent{P,T} where T</b>, b::<b>ChainRulesCore.Tangent{P,T} where T</b>)<i> where P</i> in ChainRulesCore at <a href=\"file:///home/mendez/.julia/packages/ChainRulesCore/8NXnp/src/tangent_arithmetic.jl\" target=\"_blank\">/home/mendez/.julia/packages/ChainRulesCore/8NXnp/src/tangent_arithmetic.jl:130</a></li> <li> +(a::<b>ChainRulesCore.Tangent{P,T} where T</b>, b::<b>P</b>)<i> where P</i> in ChainRulesCore at <a href=\"file:///home/mendez/.julia/packages/ChainRulesCore/8NXnp/src/tangent_arithmetic.jl\" target=\"_blank\">/home/mendez/.julia/packages/ChainRulesCore/8NXnp/src/tangent_arithmetic.jl:146</a></li> <li> +(x::<b>ChainRulesCore.AbstractTangent</b>) in ChainRulesCore at <a href=\"file:///home/mendez/.julia/packages/ChainRulesCore/8NXnp/src/tangent_types/abstract_tangent.jl\" target=\"_blank\">/home/mendez/.julia/packages/ChainRulesCore/8NXnp/src/tangent_types/abstract_tangent.jl:38</a></li> <li> +(a::<b>Dict</b>, d::<b>ChainRulesCore.Tangent{P,T} where T</b>)<i> where P</i> in ChainRulesCore at <a href=\"file:///home/mendez/.julia/packages/ChainRulesCore/8NXnp/src/tangent_arithmetic.jl\" target=\"_blank\">/home/mendez/.julia/packages/ChainRulesCore/8NXnp/src/tangent_arithmetic.jl:145</a></li> <li> +(a::<b>Union{LMS, XYZ}</b>, b::<b>Union{LMS, XYZ}</b>) in Colors at <a href=\"file:///home/mendez/.julia/packages/Colors/yDxFN/src/algorithms.jl\" target=\"_blank\">/home/mendez/.julia/packages/Colors/yDxFN/src/algorithms.jl:4</a></li> <li> +(h::<b>GeometryBasics.HyperRectangle{N,T}</b>, move::<b>Number</b>)<i> where {N, T}</i> in GeometryBasics at <a href=\"file:///home/mendez/.julia/packages/GeometryBasics/pjtu1/src/primitives/rectangles.jl\" target=\"_blank\">/home/mendez/.julia/packages/GeometryBasics/pjtu1/src/primitives/rectangles.jl:267</a></li> <li> +(h::<b>GeometryBasics.HyperRectangle{N,T}</b>, move::<b>StaticArrays.StaticArray{Tuple{N},T,1} where T</b>)<i> where {N, T}</i> in GeometryBasics at <a href=\"file:///home/mendez/.julia/packages/GeometryBasics/pjtu1/src/primitives/rectangles.jl\" target=\"_blank\">/home/mendez/.julia/packages/GeometryBasics/pjtu1/src/primitives/rectangles.jl:274</a></li> <li> +(a::<b>Measures.Length{U,T} where T</b>, b::<b>Measures.Length{U,T} where T</b>)<i> where U</i> in Measures at <a href=\"file:///home/mendez/.julia/packages/Measures/0Zkai/src/length.jl\" target=\"_blank\">/home/mendez/.julia/packages/Measures/0Zkai/src/length.jl:28</a></li> <li> +(a::<b>Measures.Measure</b>, b::<b>Measures.Measure</b>) in Measures at <a href=\"file:///home/mendez/.julia/packages/Measures/0Zkai/src/operations.jl\" target=\"_blank\">/home/mendez/.julia/packages/Measures/0Zkai/src/operations.jl:41</a></li> <li> +(a::<b>Tuple{Vararg{Measures.Measure,N}}</b>, b::<b>Tuple{Vararg{Measures.Measure,N}}</b>)<i> where N</i> in Measures at <a href=\"file:///home/mendez/.julia/packages/Measures/0Zkai/src/point.jl\" target=\"_blank\">/home/mendez/.julia/packages/Measures/0Zkai/src/point.jl:22</a></li> <li> +(a::<b>Tuple{Vararg{Measures.Measure,N}} where N</b>, b::<b>Tuple{Vararg{Measures.Measure,N}} where N</b>) in Measures at <a href=\"file:///home/mendez/.julia/packages/Measures/0Zkai/src/point.jl\" target=\"_blank\">/home/mendez/.julia/packages/Measures/0Zkai/src/point.jl:15</a></li> <li> +(h::<b>GeometryTypes.HyperRectangle{N,T}</b>, move::<b>GeometryTypes.Vec{N,T} where T</b>)<i> where {N, T}</i> in GeometryTypes at <a href=\"file:///home/mendez/.julia/packages/GeometryTypes/08XBK/src/hyperrectangles.jl\" target=\"_blank\">/home/mendez/.julia/packages/GeometryTypes/08XBK/src/hyperrectangles.jl:202</a></li> <li> +(h::<b>GeometryTypes.SimpleRectangle{T}</b>, move::<b>GeometryTypes.Vec{2,T} where T</b>)<i> where T</i> in GeometryTypes at <a href=\"file:///home/mendez/.julia/packages/GeometryTypes/08XBK/src/hyperrectangles.jl\" target=\"_blank\">/home/mendez/.julia/packages/GeometryTypes/08XBK/src/hyperrectangles.jl:209</a></li> <li> +(bb1::<b>Measures.BoundingBox</b>, bb2::<b>Measures.BoundingBox</b>) in Plots at <a href=\"file:///home/mendez/.julia/packages/Plots/uCh2y/src/layouts.jl\" target=\"_blank\">/home/mendez/.julia/packages/Plots/uCh2y/src/layouts.jl:21</a></li> <li> +(::<b>Any</b>, x::<b>ChainRulesCore.NotImplemented</b>) in ChainRulesCore at <a href=\"file:///home/mendez/.julia/packages/ChainRulesCore/8NXnp/src/tangent_arithmetic.jl\" target=\"_blank\">/home/mendez/.julia/packages/ChainRulesCore/8NXnp/src/tangent_arithmetic.jl:25</a></li> <li> +(a, ::<b>ChainRulesCore.NoTangent</b>) in ChainRulesCore at <a href=\"file:///home/mendez/.julia/packages/ChainRulesCore/8NXnp/src/tangent_arithmetic.jl\" target=\"_blank\">/home/mendez/.julia/packages/ChainRulesCore/8NXnp/src/tangent_arithmetic.jl:60</a></li> <li> +(a, ::<b>ChainRulesCore.ZeroTangent</b>) in ChainRulesCore at <a href=\"file:///home/mendez/.julia/packages/ChainRulesCore/8NXnp/src/tangent_arithmetic.jl\" target=\"_blank\">/home/mendez/.julia/packages/ChainRulesCore/8NXnp/src/tangent_arithmetic.jl:100</a></li> <li> +(a, b::<b>ChainRulesCore.AbstractThunk</b>) in ChainRulesCore at <a href=\"file:///home/mendez/.julia/packages/ChainRulesCore/8NXnp/src/tangent_arithmetic.jl\" target=\"_blank\">/home/mendez/.julia/packages/ChainRulesCore/8NXnp/src/tangent_arithmetic.jl:123</a></li> <li> +(a::<b>P</b>, d::<b>ChainRulesCore.Tangent{P,T} where T</b>)<i> where P</i> in ChainRulesCore at <a href=\"file:///home/mendez/.julia/packages/ChainRulesCore/8NXnp/src/tangent_arithmetic.jl\" target=\"_blank\">/home/mendez/.julia/packages/ChainRulesCore/8NXnp/src/tangent_arithmetic.jl:134</a></li> <li> +(a, b, c, xs...) in Base at <a href=\"https://github.com/JuliaLang/julia/tree/v1.4.1/base/operators.jl#L529\" target=\"_blank\">operators.jl:529</a></li> </ul>"
      ],
      "text/plain": [
       "# 222 methods for generic function \"+\":\n",
       "[1] +(x::Bool, z::Complex{Bool}) in Base at complex.jl:286\n",
       "[2] +(x::Bool, y::Bool) in Base at bool.jl:96\n",
       "[3] +(x::Bool) in Base at bool.jl:93\n",
       "[4] +(x::Bool, y::T) where T<:AbstractFloat in Base at bool.jl:104\n",
       "[5] +(x::Bool, z::Complex) in Base at complex.jl:293\n",
       "[6] +(a::Float16, b::Float16) in Base at float.jl:398\n",
       "[7] +(x::Float32, y::Float32) in Base at float.jl:400\n",
       "[8] +(x::Float64, y::Float64) in Base at float.jl:401\n",
       "[9] +(z::Complex{Bool}, x::Bool) in Base at complex.jl:287\n",
       "[10] +(z::Complex{Bool}, x::Real) in Base at complex.jl:301\n",
       "[11] +(::Missing, ::Missing) in Base at missing.jl:114\n",
       "[12] +(::Missing) in Base at missing.jl:100\n",
       "[13] +(::Missing, ::Number) in Base at missing.jl:115\n",
       "[14] +(level::Base.CoreLogging.LogLevel, inc::Integer) in Base.CoreLogging at logging.jl:107\n",
       "[15] +(c::BigInt, x::BigFloat) in Base.MPFR at mpfr.jl:414\n",
       "[16] +(a::BigInt, b::BigInt, c::BigInt, d::BigInt, e::BigInt) in Base.GMP at gmp.jl:515\n",
       "[17] +(a::BigInt, b::BigInt, c::BigInt, d::BigInt) in Base.GMP at gmp.jl:514\n",
       "[18] +(a::BigInt, b::BigInt, c::BigInt) in Base.GMP at gmp.jl:513\n",
       "[19] +(x::BigInt, y::BigInt) in Base.GMP at gmp.jl:473\n",
       "[20] +(x::BigInt, c::Union{UInt16, UInt32, UInt64, UInt8}) in Base.GMP at gmp.jl:521\n",
       "[21] +(x::BigInt, c::Union{Int16, Int32, Int64, Int8}) in Base.GMP at gmp.jl:527\n",
       "[22] +(a::BigFloat, b::BigFloat, c::BigFloat, d::BigFloat, e::BigFloat) in Base.MPFR at mpfr.jl:564\n",
       "[23] +(a::BigFloat, b::BigFloat, c::BigFloat, d::BigFloat) in Base.MPFR at mpfr.jl:557\n",
       "[24] +(a::BigFloat, b::BigFloat, c::BigFloat) in Base.MPFR at mpfr.jl:551\n",
       "[25] +(x::BigFloat, c::BigInt) in Base.MPFR at mpfr.jl:410\n",
       "[26] +(x::BigFloat, y::BigFloat) in Base.MPFR at mpfr.jl:379\n",
       "[27] +(x::BigFloat, c::Union{UInt16, UInt32, UInt64, UInt8}) in Base.MPFR at mpfr.jl:386\n",
       "[28] +(x::BigFloat, c::Union{Int16, Int32, Int64, Int8}) in Base.MPFR at mpfr.jl:394\n",
       "[29] +(x::BigFloat, c::Union{Float16, Float32, Float64}) in Base.MPFR at mpfr.jl:402\n",
       "[30] +(x::Dates.CompoundPeriod, y::Dates.CompoundPeriod) in Dates at /usr/share/julia/stdlib/v1.4/Dates/src/periods.jl:341\n",
       "[31] +(x::Dates.CompoundPeriod, y::Dates.Period) in Dates at /usr/share/julia/stdlib/v1.4/Dates/src/periods.jl:339\n",
       "[32] +(x::Dates.CompoundPeriod, y::Dates.TimeType) in Dates at /usr/share/julia/stdlib/v1.4/Dates/src/periods.jl:369\n",
       "[33] +(x::Dates.Date, y::Dates.Day) in Dates at /usr/share/julia/stdlib/v1.4/Dates/src/arithmetic.jl:74\n",
       "[34] +(x::Dates.Date, y::Dates.Week) in Dates at /usr/share/julia/stdlib/v1.4/Dates/src/arithmetic.jl:72\n",
       "[35] +(dt::Dates.Date, z::Dates.Month) in Dates at /usr/share/julia/stdlib/v1.4/Dates/src/arithmetic.jl:55\n",
       "[36] +(dt::Dates.Date, y::Dates.Year) in Dates at /usr/share/julia/stdlib/v1.4/Dates/src/arithmetic.jl:28\n",
       "[37] +(dt::Dates.Date, t::Dates.Time) in Dates at /usr/share/julia/stdlib/v1.4/Dates/src/arithmetic.jl:19\n",
       "[38] +(t::Dates.Time, dt::Dates.Date) in Dates at /usr/share/julia/stdlib/v1.4/Dates/src/arithmetic.jl:20\n",
       "[39] +(x::Dates.Time, y::Dates.TimePeriod) in Dates at /usr/share/julia/stdlib/v1.4/Dates/src/arithmetic.jl:78\n",
       "[40] +(dt::Dates.DateTime, z::Dates.Month) in Dates at /usr/share/julia/stdlib/v1.4/Dates/src/arithmetic.jl:48\n",
       "[41] +(dt::Dates.DateTime, y::Dates.Year) in Dates at /usr/share/julia/stdlib/v1.4/Dates/src/arithmetic.jl:24\n",
       "[42] +(x::Dates.DateTime, y::Dates.Period) in Dates at /usr/share/julia/stdlib/v1.4/Dates/src/arithmetic.jl:76\n",
       "[43] +(B::BitArray{2}, J::LinearAlgebra.UniformScaling) in LinearAlgebra at /usr/share/julia/stdlib/v1.4/LinearAlgebra/src/uniformscaling.jl:115\n",
       "[44] +(a::Pkg.Resolve.VersionWeight, b::Pkg.Resolve.VersionWeight) in Pkg.Resolve at /usr/share/julia/stdlib/v1.4/Pkg/src/Resolve/versionweights.jl:22\n",
       "[45] +(a::Pkg.Resolve.FieldValue, b::Pkg.Resolve.FieldValue) in Pkg.Resolve at /usr/share/julia/stdlib/v1.4/Pkg/src/Resolve/fieldvalues.jl:43\n",
       "[46] +(x::ChainRulesCore.NotImplemented, ::ChainRulesCore.NotImplemented) in ChainRulesCore at /home/mendez/.julia/packages/ChainRulesCore/8NXnp/src/tangent_arithmetic.jl:19\n",
       "[47] +(x::ChainRulesCore.NotImplemented, ::ChainRulesCore.ZeroTangent) in ChainRulesCore at /home/mendez/.julia/packages/ChainRulesCore/8NXnp/src/tangent_arithmetic.jl:24\n",
       "[48] +(x::ChainRulesCore.NotImplemented, ::ChainRulesCore.NoTangent) in ChainRulesCore at /home/mendez/.julia/packages/ChainRulesCore/8NXnp/src/tangent_arithmetic.jl:24\n",
       "[49] +(x::ChainRulesCore.NotImplemented, ::ChainRulesCore.AbstractThunk) in ChainRulesCore at /home/mendez/.julia/packages/ChainRulesCore/8NXnp/src/tangent_arithmetic.jl:24\n",
       "[50] +(x::ChainRulesCore.NotImplemented, ::ChainRulesCore.Tangent) in ChainRulesCore at /home/mendez/.julia/packages/ChainRulesCore/8NXnp/src/tangent_arithmetic.jl:24\n",
       "[51] +(x::ChainRulesCore.NotImplemented, ::Any) in ChainRulesCore at /home/mendez/.julia/packages/ChainRulesCore/8NXnp/src/tangent_arithmetic.jl:24\n",
       "[52] +(::ChainRulesCore.ZeroTangent, x::ChainRulesCore.NotImplemented) in ChainRulesCore at /home/mendez/.julia/packages/ChainRulesCore/8NXnp/src/tangent_arithmetic.jl:25\n",
       "[53] +(::ChainRulesCore.ZeroTangent, ::ChainRulesCore.NoTangent) in ChainRulesCore at /home/mendez/.julia/packages/ChainRulesCore/8NXnp/src/tangent_arithmetic.jl:74\n",
       "[54] +(::ChainRulesCore.ZeroTangent, ::ChainRulesCore.ZeroTangent) in ChainRulesCore at /home/mendez/.julia/packages/ChainRulesCore/8NXnp/src/tangent_arithmetic.jl:93\n",
       "[55] +(::ChainRulesCore.ZeroTangent, b::ChainRulesCore.AbstractThunk) in ChainRulesCore at /home/mendez/.julia/packages/ChainRulesCore/8NXnp/src/tangent_arithmetic.jl:99\n",
       "[56] +(::ChainRulesCore.ZeroTangent, b::ChainRulesCore.Tangent) in ChainRulesCore at /home/mendez/.julia/packages/ChainRulesCore/8NXnp/src/tangent_arithmetic.jl:99\n",
       "[57] +(::ChainRulesCore.ZeroTangent, b) in ChainRulesCore at /home/mendez/.julia/packages/ChainRulesCore/8NXnp/src/tangent_arithmetic.jl:99\n",
       "[58] +(::ChainRulesCore.NoTangent, x::ChainRulesCore.NotImplemented) in ChainRulesCore at /home/mendez/.julia/packages/ChainRulesCore/8NXnp/src/tangent_arithmetic.jl:25\n",
       "[59] +(::ChainRulesCore.NoTangent, ::ChainRulesCore.NoTangent) in ChainRulesCore at /home/mendez/.julia/packages/ChainRulesCore/8NXnp/src/tangent_arithmetic.jl:53\n",
       "[60] +(::ChainRulesCore.NoTangent, ::ChainRulesCore.ZeroTangent) in ChainRulesCore at /home/mendez/.julia/packages/ChainRulesCore/8NXnp/src/tangent_arithmetic.jl:73\n",
       "[61] +(::ChainRulesCore.NoTangent, b::ChainRulesCore.AbstractThunk) in ChainRulesCore at /home/mendez/.julia/packages/ChainRulesCore/8NXnp/src/tangent_arithmetic.jl:59\n",
       "[62] +(::ChainRulesCore.NoTangent, b::ChainRulesCore.Tangent) in ChainRulesCore at /home/mendez/.julia/packages/ChainRulesCore/8NXnp/src/tangent_arithmetic.jl:59\n",
       "[63] +(::ChainRulesCore.NoTangent, b) in ChainRulesCore at /home/mendez/.julia/packages/ChainRulesCore/8NXnp/src/tangent_arithmetic.jl:59\n",
       "[64] +(y::AbstractFloat, x::Bool) in Base at bool.jl:106\n",
       "[65] +(x::T, y::T) where T<:Union{Int128, Int16, Int32, Int64, Int8, UInt128, UInt16, UInt32, UInt64, UInt8} in Base at int.jl:53\n",
       "[66] +(c::Union{UInt16, UInt32, UInt64, UInt8}, x::BigInt) in Base.GMP at gmp.jl:522\n",
       "[67] +(c::Union{Int16, Int32, Int64, Int8}, x::BigInt) in Base.GMP at gmp.jl:528\n",
       "[68] +(x::GeometryBasics.OffsetInteger{O,T} where T<:Integer, y::GeometryBasics.OffsetInteger{O,T} where T<:Integer) where O in GeometryBasics at /home/mendez/.julia/packages/GeometryBasics/pjtu1/src/offsetintegers.jl:64\n",
       "[69] +(x::GeometryTypes.OffsetInteger{O,T} where T<:Integer, y::GeometryTypes.OffsetInteger{O,T} where T<:Integer) where O in GeometryTypes at /home/mendez/.julia/packages/GeometryTypes/08XBK/src/faces.jl:32\n",
       "[70] +(a::Integer, b::Integer) in Base at int.jl:857\n",
       "[71] +(x::Integer, y::Ptr) in Base at pointer.jl:161\n",
       "[72] +(z::Complex) in Base at complex.jl:273\n",
       "[73] +(z::Complex, w::Complex) in Base at complex.jl:275\n",
       "[74] +(z::Complex, x::Bool) in Base at complex.jl:294\n",
       "[75] +(x::Rational) in Base at rational.jl:247\n",
       "[76] +(x::Real, z::Complex{Bool}) in Base at complex.jl:300\n",
       "[77] +(x::Real, z::Complex) in Base at complex.jl:312\n",
       "[78] +(z::Complex, x::Real) in Base at complex.jl:313\n",
       "[79] +(x::Rational, y::Rational) in Base at rational.jl:263\n",
       "[80] +(x::Integer, y::AbstractChar) in Base at char.jl:224\n",
       "[81] +(c::Union{UInt16, UInt32, UInt64, UInt8}, x::BigFloat) in Base.MPFR at mpfr.jl:390\n",
       "[82] +(c::Union{Int16, Int32, Int64, Int8}, x::BigFloat) in Base.MPFR at mpfr.jl:398\n",
       "[83] +(c::Union{Float16, Float32, Float64}, x::BigFloat) in Base.MPFR at mpfr.jl:406\n",
       "[84] +(x::AbstractIrrational, y::AbstractIrrational) in Base at irrationals.jl:137\n",
       "[85] +(x::X, y::X) where X<:FixedPointNumbers.FixedPoint in FixedPointNumbers at /home/mendez/.julia/packages/FixedPointNumbers/HAGk2/src/FixedPointNumbers.jl:237\n",
       "[86] +(x::Number) in Base at operators.jl:504\n",
       "[87] +(x::T, y::T) where T<:Number in Base at promotion.jl:384\n",
       "[88] +(x::Number, y::Number) in Base at promotion.jl:311\n",
       "[89] +(r1::OrdinalRange, r2::OrdinalRange) in Base at range.jl:1011\n",
       "[90] +(r1::LinRange{T}, r2::LinRange{T}) where T in Base at range.jl:1018\n",
       "[91] +(r1::StepRangeLen{T,R,S} where S, r2::StepRangeLen{T,R,S} where S) where {R<:Base.TwicePrecision, T} in Base at twiceprecision.jl:557\n",
       "[92] +(r1::StepRangeLen{T,S,S1} where S1, r2::StepRangeLen{T,S,S1} where S1) where {T, S} in Base at range.jl:1034\n",
       "[93] +(r1::Union{LinRange, OrdinalRange, StepRangeLen}, r2::Union{LinRange, OrdinalRange, StepRangeLen}) in Base at range.jl:1026\n",
       "[94] +(x::Ptr, y::Integer) in Base at pointer.jl:159\n",
       "[95] +(x::Base.TwicePrecision, y::Number) in Base at twiceprecision.jl:265\n",
       "[96] +(x::Number, y::Base.TwicePrecision) in Base at twiceprecision.jl:268\n",
       "[97] +(x::Base.TwicePrecision{T}, y::Base.TwicePrecision{T}) where T in Base at twiceprecision.jl:271\n",
       "[98] +(x::Base.TwicePrecision, y::Base.TwicePrecision) in Base at twiceprecision.jl:275\n",
       "[99] +(A::Array, Bs::Array...) in Base at arraymath.jl:44\n",
       "[100] +(A::BitArray, B::BitArray) in Base at bitarray.jl:1106\n",
       "[101] +(r::AbstractRange{#s664} where #s664<:Dates.TimeType, x::Dates.Period) in Dates at /usr/share/julia/stdlib/v1.4/Dates/src/ranges.jl:59\n",
       "[102] +(A::Array, B::SparseArrays.AbstractSparseMatrixCSC) in SparseArrays at /usr/share/julia/stdlib/v1.4/SparseArrays/src/sparsematrix.jl:1652\n",
       "[103] +(x::Union{DenseArray{#s664,N}, Base.ReinterpretArray{#s664,N,S,A} where S where A<:Union{SubArray{T,N,A,I,true} where I<:Union{Tuple{Vararg{Real,N} where N}, Tuple{AbstractUnitRange,Vararg{Any,N} where N}} where A<:DenseArray where N where T, DenseArray}, Base.ReshapedArray{#s664,N,A,MI} where MI<:Tuple{Vararg{Base.MultiplicativeInverses.SignedMultiplicativeInverse{Int64},N} where N} where A<:Union{Base.ReinterpretArray{T,N,S,A} where S where A<:Union{SubArray{T,N,A,I,true} where I<:Union{Tuple{Vararg{Real,N} where N}, Tuple{AbstractUnitRange,Vararg{Any,N} where N}} where A<:DenseArray where N where T, DenseArray} where N where T, SubArray{T,N,A,I,true} where I<:Union{Tuple{Vararg{Real,N} where N}, Tuple{AbstractUnitRange,Vararg{Any,N} where N}} where A<:DenseArray where N where T, DenseArray}, SubArray{#s664,N,A,I,L} where L where I<:Tuple{Vararg{Union{Int64, AbstractRange{Int64}, Base.AbstractCartesianIndex},N} where N} where A<:Union{Base.ReinterpretArray{T,N,S,A} where S where A<:Union{SubArray{T,N,A,I,true} where I<:Union{Tuple{Vararg{Real,N} where N}, Tuple{AbstractUnitRange,Vararg{Any,N} where N}} where A<:DenseArray where N where T, DenseArray} where N where T, Base.ReshapedArray{T,N,A,MI} where MI<:Tuple{Vararg{Base.MultiplicativeInverses.SignedMultiplicativeInverse{Int64},N} where N} where A<:Union{Base.ReinterpretArray{T,N,S,A} where S where A<:Union{SubArray{T,N,A,I,true} where I<:Union{Tuple{Vararg{Real,N} where N}, Tuple{AbstractUnitRange,Vararg{Any,N} where N}} where A<:DenseArray where N where T, DenseArray} where N where T, SubArray{T,N,A,I,true} where I<:Union{Tuple{Vararg{Real,N} where N}, Tuple{AbstractUnitRange,Vararg{Any,N} where N}} where A<:DenseArray where N where T, DenseArray} where N where T, DenseArray}} where N where #s664<:Union{Dates.CompoundPeriod, Dates.Period}) in Dates at /usr/share/julia/stdlib/v1.4/Dates/src/deprecated.jl:57\n",
       "[104] +(x::Union{DenseArray{#s664,N}, Base.ReinterpretArray{#s664,N,S,A} where S where A<:Union{SubArray{T,N,A,I,true} where I<:Union{Tuple{Vararg{Real,N} where N}, Tuple{AbstractUnitRange,Vararg{Any,N} where N}} where A<:DenseArray where N where T, DenseArray}, Base.ReshapedArray{#s664,N,A,MI} where MI<:Tuple{Vararg{Base.MultiplicativeInverses.SignedMultiplicativeInverse{Int64},N} where N} where A<:Union{Base.ReinterpretArray{T,N,S,A} where S where A<:Union{SubArray{T,N,A,I,true} where I<:Union{Tuple{Vararg{Real,N} where N}, Tuple{AbstractUnitRange,Vararg{Any,N} where N}} where A<:DenseArray where N where T, DenseArray} where N where T, SubArray{T,N,A,I,true} where I<:Union{Tuple{Vararg{Real,N} where N}, Tuple{AbstractUnitRange,Vararg{Any,N} where N}} where A<:DenseArray where N where T, DenseArray}, SubArray{#s664,N,A,I,L} where L where I<:Tuple{Vararg{Union{Int64, AbstractRange{Int64}, Base.AbstractCartesianIndex},N} where N} where A<:Union{Base.ReinterpretArray{T,N,S,A} where S where A<:Union{SubArray{T,N,A,I,true} where I<:Union{Tuple{Vararg{Real,N} where N}, Tuple{AbstractUnitRange,Vararg{Any,N} where N}} where A<:DenseArray where N where T, DenseArray} where N where T, Base.ReshapedArray{T,N,A,MI} where MI<:Tuple{Vararg{Base.MultiplicativeInverses.SignedMultiplicativeInverse{Int64},N} where N} where A<:Union{Base.ReinterpretArray{T,N,S,A} where S where A<:Union{SubArray{T,N,A,I,true} where I<:Union{Tuple{Vararg{Real,N} where N}, Tuple{AbstractUnitRange,Vararg{Any,N} where N}} where A<:DenseArray where N where T, DenseArray} where N where T, SubArray{T,N,A,I,true} where I<:Union{Tuple{Vararg{Real,N} where N}, Tuple{AbstractUnitRange,Vararg{Any,N} where N}} where A<:DenseArray where N where T, DenseArray} where N where T, DenseArray}} where N where #s664<:Union{Dates.CompoundPeriod, Dates.Period}, y::Dates.TimeType) in Dates at /usr/share/julia/stdlib/v1.4/Dates/src/deprecated.jl:12\n",
       "[105] +(X::Union{DenseArray{#s664,N}, Base.ReinterpretArray{#s664,N,S,A} where S where A<:Union{SubArray{T,N,A,I,true} where I<:Union{Tuple{Vararg{Real,N} where N}, Tuple{AbstractUnitRange,Vararg{Any,N} where N}} where A<:DenseArray where N where T, DenseArray}, Base.ReshapedArray{#s664,N,A,MI} where MI<:Tuple{Vararg{Base.MultiplicativeInverses.SignedMultiplicativeInverse{Int64},N} where N} where A<:Union{Base.ReinterpretArray{T,N,S,A} where S where A<:Union{SubArray{T,N,A,I,true} where I<:Union{Tuple{Vararg{Real,N} where N}, Tuple{AbstractUnitRange,Vararg{Any,N} where N}} where A<:DenseArray where N where T, DenseArray} where N where T, SubArray{T,N,A,I,true} where I<:Union{Tuple{Vararg{Real,N} where N}, Tuple{AbstractUnitRange,Vararg{Any,N} where N}} where A<:DenseArray where N where T, DenseArray}, SubArray{#s664,N,A,I,L} where L where I<:Tuple{Vararg{Union{Int64, AbstractRange{Int64}, Base.AbstractCartesianIndex},N} where N} where A<:Union{Base.ReinterpretArray{T,N,S,A} where S where A<:Union{SubArray{T,N,A,I,true} where I<:Union{Tuple{Vararg{Real,N} where N}, Tuple{AbstractUnitRange,Vararg{Any,N} where N}} where A<:DenseArray where N where T, DenseArray} where N where T, Base.ReshapedArray{T,N,A,MI} where MI<:Tuple{Vararg{Base.MultiplicativeInverses.SignedMultiplicativeInverse{Int64},N} where N} where A<:Union{Base.ReinterpretArray{T,N,S,A} where S where A<:Union{SubArray{T,N,A,I,true} where I<:Union{Tuple{Vararg{Real,N} where N}, Tuple{AbstractUnitRange,Vararg{Any,N} where N}} where A<:DenseArray where N where T, DenseArray} where N where T, SubArray{T,N,A,I,true} where I<:Union{Tuple{Vararg{Real,N} where N}, Tuple{AbstractUnitRange,Vararg{Any,N} where N}} where A<:DenseArray where N where T, DenseArray} where N where T, DenseArray}} where N where #s664<:Union{Dates.CompoundPeriod, Dates.Period}, Y::Union{DenseArray{#s663,N}, Base.ReinterpretArray{#s663,N,S,A} where S where A<:Union{SubArray{T,N,A,I,true} where I<:Union{Tuple{Vararg{Real,N} where N}, Tuple{AbstractUnitRange,Vararg{Any,N} where N}} where A<:DenseArray where N where T, DenseArray}, Base.ReshapedArray{#s663,N,A,MI} where MI<:Tuple{Vararg{Base.MultiplicativeInverses.SignedMultiplicativeInverse{Int64},N} where N} where A<:Union{Base.ReinterpretArray{T,N,S,A} where S where A<:Union{SubArray{T,N,A,I,true} where I<:Union{Tuple{Vararg{Real,N} where N}, Tuple{AbstractUnitRange,Vararg{Any,N} where N}} where A<:DenseArray where N where T, DenseArray} where N where T, SubArray{T,N,A,I,true} where I<:Union{Tuple{Vararg{Real,N} where N}, Tuple{AbstractUnitRange,Vararg{Any,N} where N}} where A<:DenseArray where N where T, DenseArray}, SubArray{#s663,N,A,I,L} where L where I<:Tuple{Vararg{Union{Int64, AbstractRange{Int64}, Base.AbstractCartesianIndex},N} where N} where A<:Union{Base.ReinterpretArray{T,N,S,A} where S where A<:Union{SubArray{T,N,A,I,true} where I<:Union{Tuple{Vararg{Real,N} where N}, Tuple{AbstractUnitRange,Vararg{Any,N} where N}} where A<:DenseArray where N where T, DenseArray} where N where T, Base.ReshapedArray{T,N,A,MI} where MI<:Tuple{Vararg{Base.MultiplicativeInverses.SignedMultiplicativeInverse{Int64},N} where N} where A<:Union{Base.ReinterpretArray{T,N,S,A} where S where A<:Union{SubArray{T,N,A,I,true} where I<:Union{Tuple{Vararg{Real,N} where N}, Tuple{AbstractUnitRange,Vararg{Any,N} where N}} where A<:DenseArray where N where T, DenseArray} where N where T, SubArray{T,N,A,I,true} where I<:Union{Tuple{Vararg{Real,N} where N}, Tuple{AbstractUnitRange,Vararg{Any,N} where N}} where A<:DenseArray where N where T, DenseArray} where N where T, DenseArray}} where N where #s663<:Union{Dates.CompoundPeriod, Dates.Period}) in Dates at /usr/share/julia/stdlib/v1.4/Dates/src/deprecated.jl:64\n",
       "[106] +(A::LinearAlgebra.SymTridiagonal, B::LinearAlgebra.SymTridiagonal) in LinearAlgebra at /usr/share/julia/stdlib/v1.4/LinearAlgebra/src/tridiag.jl:158\n",
       "[107] +(A::LinearAlgebra.Tridiagonal, B::LinearAlgebra.Tridiagonal) in LinearAlgebra at /usr/share/julia/stdlib/v1.4/LinearAlgebra/src/tridiag.jl:657\n",
       "[108] +(A::LinearAlgebra.UpperTriangular, B::LinearAlgebra.UpperTriangular) in LinearAlgebra at /usr/share/julia/stdlib/v1.4/LinearAlgebra/src/triangular.jl:648\n",
       "[109] +(A::LinearAlgebra.LowerTriangular, B::LinearAlgebra.LowerTriangular) in LinearAlgebra at /usr/share/julia/stdlib/v1.4/LinearAlgebra/src/triangular.jl:649\n",
       "[110] +(A::LinearAlgebra.UpperTriangular, B::LinearAlgebra.UnitUpperTriangular) in LinearAlgebra at /usr/share/julia/stdlib/v1.4/LinearAlgebra/src/triangular.jl:650\n",
       "[111] +(A::LinearAlgebra.LowerTriangular, B::LinearAlgebra.UnitLowerTriangular) in LinearAlgebra at /usr/share/julia/stdlib/v1.4/LinearAlgebra/src/triangular.jl:651\n",
       "[112] +(A::LinearAlgebra.UnitUpperTriangular, B::LinearAlgebra.UpperTriangular) in LinearAlgebra at /usr/share/julia/stdlib/v1.4/LinearAlgebra/src/triangular.jl:652\n",
       "[113] +(A::LinearAlgebra.UnitLowerTriangular, B::LinearAlgebra.LowerTriangular) in LinearAlgebra at /usr/share/julia/stdlib/v1.4/LinearAlgebra/src/triangular.jl:653\n",
       "[114] +(A::LinearAlgebra.UnitUpperTriangular, B::LinearAlgebra.UnitUpperTriangular) in LinearAlgebra at /usr/share/julia/stdlib/v1.4/LinearAlgebra/src/triangular.jl:654\n",
       "[115] +(A::LinearAlgebra.UnitLowerTriangular, B::LinearAlgebra.UnitLowerTriangular) in LinearAlgebra at /usr/share/julia/stdlib/v1.4/LinearAlgebra/src/triangular.jl:655\n",
       "[116] +(A::LinearAlgebra.AbstractTriangular, B::LinearAlgebra.AbstractTriangular) in LinearAlgebra at /usr/share/julia/stdlib/v1.4/LinearAlgebra/src/triangular.jl:656\n",
       "[117] +(A::LinearAlgebra.Symmetric, B::LinearAlgebra.Symmetric) in LinearAlgebra at /usr/share/julia/stdlib/v1.4/LinearAlgebra/src/symmetric.jl:465\n",
       "[118] +(A::LinearAlgebra.Hermitian, B::LinearAlgebra.Hermitian) in LinearAlgebra at /usr/share/julia/stdlib/v1.4/LinearAlgebra/src/symmetric.jl:466\n",
       "[119] +(A::LinearAlgebra.Hermitian, B::LinearAlgebra.Symmetric{#s664,S} where S<:(AbstractArray{#s6641,2} where #s6641<:#s664) where #s664<:Real) in LinearAlgebra at /usr/share/julia/stdlib/v1.4/LinearAlgebra/src/symmetric.jl:467\n",
       "[120] +(A::LinearAlgebra.Symmetric{#s664,S} where S<:(AbstractArray{#s6641,2} where #s6641<:#s664) where #s664<:Real, B::LinearAlgebra.Hermitian) in LinearAlgebra at /usr/share/julia/stdlib/v1.4/LinearAlgebra/src/symmetric.jl:468\n",
       "[121] +(Da::LinearAlgebra.Diagonal, Db::LinearAlgebra.Diagonal) in LinearAlgebra at /usr/share/julia/stdlib/v1.4/LinearAlgebra/src/diagonal.jl:156\n",
       "[122] +(A::LinearAlgebra.Bidiagonal, B::LinearAlgebra.Bidiagonal) in LinearAlgebra at /usr/share/julia/stdlib/v1.4/LinearAlgebra/src/bidiag.jl:309\n",
       "[123] +(UL::LinearAlgebra.UnitUpperTriangular, J::LinearAlgebra.UniformScaling) in LinearAlgebra at /usr/share/julia/stdlib/v1.4/LinearAlgebra/src/uniformscaling.jl:131\n",
       "[124] +(UL::LinearAlgebra.UnitLowerTriangular, J::LinearAlgebra.UniformScaling) in LinearAlgebra at /usr/share/julia/stdlib/v1.4/LinearAlgebra/src/uniformscaling.jl:131\n",
       "[125] +(A::LinearAlgebra.Hermitian, J::LinearAlgebra.UniformScaling{#s664} where #s664<:Complex) in LinearAlgebra at /usr/share/julia/stdlib/v1.4/LinearAlgebra/src/uniformscaling.jl:145\n",
       "[126] +(H::LinearAlgebra.UpperHessenberg, J::LinearAlgebra.UniformScaling) in LinearAlgebra at /usr/share/julia/stdlib/v1.4/LinearAlgebra/src/hessenberg.jl:106\n",
       "[127] +(A::LinearAlgebra.Tridiagonal{#s664,V} where V<:AbstractArray{#s664,1} where #s664<:Number, B::LinearAlgebra.UniformScaling) in LinearAlgebra at /usr/share/julia/stdlib/v1.4/LinearAlgebra/src/special.jl:238\n",
       "[128] +(A::LinearAlgebra.SymTridiagonal{#s664,V} where V<:AbstractArray{#s664,1} where #s664<:Number, B::LinearAlgebra.UniformScaling) in LinearAlgebra at /usr/share/julia/stdlib/v1.4/LinearAlgebra/src/special.jl:243\n",
       "[129] +(A::LinearAlgebra.Bidiagonal{#s664,V} where V<:AbstractArray{#s664,1} where #s664<:Number, B::LinearAlgebra.UniformScaling) in LinearAlgebra at /usr/share/julia/stdlib/v1.4/LinearAlgebra/src/special.jl:248\n",
       "[130] +(A::LinearAlgebra.Diagonal{#s664,V} where V<:AbstractArray{#s664,1} where #s664<:Number, B::LinearAlgebra.UniformScaling) in LinearAlgebra at /usr/share/julia/stdlib/v1.4/LinearAlgebra/src/special.jl:253\n",
       "[131] +(A::SparseArrays.AbstractSparseMatrixCSC, J::LinearAlgebra.UniformScaling) in SparseArrays at /usr/share/julia/stdlib/v1.4/SparseArrays/src/sparsematrix.jl:3610\n",
       "[132] +(a::StaticArrays.StaticArray{Tuple{N,M},T,2} where T where M where N, b::LinearAlgebra.UniformScaling) in StaticArrays at /home/mendez/.julia/packages/StaticArrays/N3rrI/src/linalg.jl:29\n",
       "[133] +(a::StaticArrays.StaticArray) in StaticArrays at /home/mendez/.julia/packages/StaticArrays/N3rrI/src/linalg.jl:7\n",
       "[134] +(A::AbstractArray{T,2} where T, J::LinearAlgebra.UniformScaling) in LinearAlgebra at /usr/share/julia/stdlib/v1.4/LinearAlgebra/src/uniformscaling.jl:164\n",
       "[135] +(A::LinearAlgebra.UpperHessenberg, B::LinearAlgebra.UpperHessenberg) in LinearAlgebra at /usr/share/julia/stdlib/v1.4/LinearAlgebra/src/hessenberg.jl:101\n",
       "[136] +(A::LinearAlgebra.UpperTriangular, B::LinearAlgebra.Bidiagonal) in LinearAlgebra at /usr/share/julia/stdlib/v1.4/LinearAlgebra/src/special.jl:98\n",
       "[137] +(A::LinearAlgebra.Bidiagonal, B::LinearAlgebra.UpperTriangular) in LinearAlgebra at /usr/share/julia/stdlib/v1.4/LinearAlgebra/src/special.jl:106\n",
       "[138] +(A::LinearAlgebra.UnitUpperTriangular, B::LinearAlgebra.Bidiagonal) in LinearAlgebra at /usr/share/julia/stdlib/v1.4/LinearAlgebra/src/special.jl:98\n",
       "[139] +(A::LinearAlgebra.Bidiagonal, B::LinearAlgebra.UnitUpperTriangular) in LinearAlgebra at /usr/share/julia/stdlib/v1.4/LinearAlgebra/src/special.jl:106\n",
       "[140] +(A::LinearAlgebra.LowerTriangular, B::LinearAlgebra.Bidiagonal) in LinearAlgebra at /usr/share/julia/stdlib/v1.4/LinearAlgebra/src/special.jl:98\n",
       "[141] +(A::LinearAlgebra.Bidiagonal, B::LinearAlgebra.LowerTriangular) in LinearAlgebra at /usr/share/julia/stdlib/v1.4/LinearAlgebra/src/special.jl:106\n",
       "[142] +(A::LinearAlgebra.UnitLowerTriangular, B::LinearAlgebra.Bidiagonal) in LinearAlgebra at /usr/share/julia/stdlib/v1.4/LinearAlgebra/src/special.jl:98\n",
       "[143] +(A::LinearAlgebra.Bidiagonal, B::LinearAlgebra.UnitLowerTriangular) in LinearAlgebra at /usr/share/julia/stdlib/v1.4/LinearAlgebra/src/special.jl:106\n",
       "[144] +(A::LinearAlgebra.Bidiagonal, B::LinearAlgebra.Diagonal) in LinearAlgebra at /usr/share/julia/stdlib/v1.4/LinearAlgebra/src/special.jl:127\n",
       "[145] +(A::LinearAlgebra.Diagonal, B::LinearAlgebra.Bidiagonal) in LinearAlgebra at /usr/share/julia/stdlib/v1.4/LinearAlgebra/src/special.jl:137\n",
       "[146] +(A::LinearAlgebra.Diagonal, B::LinearAlgebra.SymTridiagonal) in LinearAlgebra at /usr/share/julia/stdlib/v1.4/LinearAlgebra/src/special.jl:147\n",
       "[147] +(A::LinearAlgebra.SymTridiagonal, B::LinearAlgebra.Diagonal) in LinearAlgebra at /usr/share/julia/stdlib/v1.4/LinearAlgebra/src/special.jl:157\n",
       "[148] +(A::LinearAlgebra.Tridiagonal, B::LinearAlgebra.SymTridiagonal) in LinearAlgebra at /usr/share/julia/stdlib/v1.4/LinearAlgebra/src/special.jl:168\n",
       "[149] +(A::LinearAlgebra.SymTridiagonal, B::LinearAlgebra.Tridiagonal) in LinearAlgebra at /usr/share/julia/stdlib/v1.4/LinearAlgebra/src/special.jl:170\n",
       "[150] +(A::LinearAlgebra.Diagonal, B::LinearAlgebra.Tridiagonal) in LinearAlgebra at /usr/share/julia/stdlib/v1.4/LinearAlgebra/src/special.jl:175\n",
       "[151] +(A::LinearAlgebra.Tridiagonal, B::LinearAlgebra.Diagonal) in LinearAlgebra at /usr/share/julia/stdlib/v1.4/LinearAlgebra/src/special.jl:185\n",
       "[152] +(A::LinearAlgebra.Bidiagonal, B::LinearAlgebra.Tridiagonal) in LinearAlgebra at /usr/share/julia/stdlib/v1.4/LinearAlgebra/src/special.jl:195\n",
       "[153] +(A::LinearAlgebra.Tridiagonal, B::LinearAlgebra.Bidiagonal) in LinearAlgebra at /usr/share/julia/stdlib/v1.4/LinearAlgebra/src/special.jl:205\n",
       "[154] +(A::LinearAlgebra.Bidiagonal, B::LinearAlgebra.SymTridiagonal) in LinearAlgebra at /usr/share/julia/stdlib/v1.4/LinearAlgebra/src/special.jl:215\n",
       "[155] +(A::LinearAlgebra.SymTridiagonal, B::LinearAlgebra.Bidiagonal) in LinearAlgebra at /usr/share/julia/stdlib/v1.4/LinearAlgebra/src/special.jl:225\n",
       "[156] +(A::SparseArrays.AbstractSparseMatrixCSC, B::SparseArrays.AbstractSparseMatrixCSC) in SparseArrays at /usr/share/julia/stdlib/v1.4/SparseArrays/src/sparsematrix.jl:1648\n",
       "[157] +(A::SparseArrays.AbstractSparseMatrixCSC, B::Array) in SparseArrays at /usr/share/julia/stdlib/v1.4/SparseArrays/src/sparsematrix.jl:1651\n",
       "[158] +(x::SparseArrays.AbstractSparseArray{Tv,Ti,1} where Ti where Tv, y::SparseArrays.AbstractSparseArray{Tv,Ti,1} where Ti where Tv) in SparseArrays at /usr/share/julia/stdlib/v1.4/SparseArrays/src/sparsevector.jl:1303\n",
       "[159] +(a::StaticArrays.StaticArray, b::StaticArrays.StaticArray) in StaticArrays at /home/mendez/.julia/packages/StaticArrays/N3rrI/src/linalg.jl:12\n",
       "[160] +(a::StaticArrays.StaticArray, b::AbstractArray) in StaticArrays at /home/mendez/.julia/packages/StaticArrays/N3rrI/src/linalg.jl:14\n",
       "[161] +(x::AbstractArray{#s69,N} where N where #s69<:Number) in Base at abstractarraymath.jl:97\n",
       "[162] +(a::AbstractArray, b::StaticArrays.StaticArray) in StaticArrays at /home/mendez/.julia/packages/StaticArrays/N3rrI/src/linalg.jl:13\n",
       "[163] +(A::AbstractArray, B::AbstractArray) in Base at arraymath.jl:38\n",
       "[164] +(x::T, y::Integer) where T<:AbstractChar in Base at char.jl:223\n",
       "[165] +(index1::CartesianIndex{N}, index2::CartesianIndex{N}) where N in Base.IteratorsMD at multidimensional.jl:111\n",
       "[166] +(::Number, ::Missing) in Base at missing.jl:116\n",
       "[167] +(x::P, y::P) where P<:Dates.Period in Dates at /usr/share/julia/stdlib/v1.4/Dates/src/periods.jl:75\n",
       "[168] +(x::Dates.Period, y::Dates.Period) in Dates at /usr/share/julia/stdlib/v1.4/Dates/src/periods.jl:338\n",
       "[169] +(y::Dates.Period, x::Dates.CompoundPeriod) in Dates at /usr/share/julia/stdlib/v1.4/Dates/src/periods.jl:340\n",
       "[170] +(x::Union{Dates.CompoundPeriod, Dates.Period}) in Dates at /usr/share/julia/stdlib/v1.4/Dates/src/periods.jl:349\n",
       "[171] +(x::Dates.TimeType) in Dates at /usr/share/julia/stdlib/v1.4/Dates/src/arithmetic.jl:8\n",
       "[172] +(a::Dates.TimeType, b::Dates.Period, c::Dates.Period) in Dates at /usr/share/julia/stdlib/v1.4/Dates/src/periods.jl:360\n",
       "[173] +(a::Dates.TimeType, b::Dates.Period, c::Dates.Period, d::Dates.Period...) in Dates at /usr/share/julia/stdlib/v1.4/Dates/src/periods.jl:361\n",
       "[174] +(x::Dates.TimeType, y::Dates.CompoundPeriod) in Dates at /usr/share/julia/stdlib/v1.4/Dates/src/periods.jl:364\n",
       "[175] +(x::Dates.Instant) in Dates at /usr/share/julia/stdlib/v1.4/Dates/src/arithmetic.jl:4\n",
       "[176] +(y::Dates.Period, x::Dates.TimeType) in Dates at /usr/share/julia/stdlib/v1.4/Dates/src/arithmetic.jl:80\n",
       "[177] +(x::Dates.Period, r::AbstractRange{#s664} where #s664<:Dates.TimeType) in Dates at /usr/share/julia/stdlib/v1.4/Dates/src/ranges.jl:58\n",
       "[178] +(x::AbstractArray{#s664,N} where N where #s664<:Dates.TimeType, y::Union{Dates.CompoundPeriod, Dates.Period}) in Dates at /usr/share/julia/stdlib/v1.4/Dates/src/deprecated.jl:8\n",
       "[179] +(y::Union{Dates.CompoundPeriod, Dates.Period}, x::AbstractArray{#s664,N} where N where #s664<:Dates.TimeType) in Dates at /usr/share/julia/stdlib/v1.4/Dates/src/deprecated.jl:16\n",
       "[180] +(y::Dates.TimeType, x::Union{DenseArray{#s664,N}, Base.ReinterpretArray{#s664,N,S,A} where S where A<:Union{SubArray{T,N,A,I,true} where I<:Union{Tuple{Vararg{Real,N} where N}, Tuple{AbstractUnitRange,Vararg{Any,N} where N}} where A<:DenseArray where N where T, DenseArray}, Base.ReshapedArray{#s664,N,A,MI} where MI<:Tuple{Vararg{Base.MultiplicativeInverses.SignedMultiplicativeInverse{Int64},N} where N} where A<:Union{Base.ReinterpretArray{T,N,S,A} where S where A<:Union{SubArray{T,N,A,I,true} where I<:Union{Tuple{Vararg{Real,N} where N}, Tuple{AbstractUnitRange,Vararg{Any,N} where N}} where A<:DenseArray where N where T, DenseArray} where N where T, SubArray{T,N,A,I,true} where I<:Union{Tuple{Vararg{Real,N} where N}, Tuple{AbstractUnitRange,Vararg{Any,N} where N}} where A<:DenseArray where N where T, DenseArray}, SubArray{#s664,N,A,I,L} where L where I<:Tuple{Vararg{Union{Int64, AbstractRange{Int64}, Base.AbstractCartesianIndex},N} where N} where A<:Union{Base.ReinterpretArray{T,N,S,A} where S where A<:Union{SubArray{T,N,A,I,true} where I<:Union{Tuple{Vararg{Real,N} where N}, Tuple{AbstractUnitRange,Vararg{Any,N} where N}} where A<:DenseArray where N where T, DenseArray} where N where T, Base.ReshapedArray{T,N,A,MI} where MI<:Tuple{Vararg{Base.MultiplicativeInverses.SignedMultiplicativeInverse{Int64},N} where N} where A<:Union{Base.ReinterpretArray{T,N,S,A} where S where A<:Union{SubArray{T,N,A,I,true} where I<:Union{Tuple{Vararg{Real,N} where N}, Tuple{AbstractUnitRange,Vararg{Any,N} where N}} where A<:DenseArray where N where T, DenseArray} where N where T, SubArray{T,N,A,I,true} where I<:Union{Tuple{Vararg{Real,N} where N}, Tuple{AbstractUnitRange,Vararg{Any,N} where N}} where A<:DenseArray where N where T, DenseArray} where N where T, DenseArray}} where N where #s664<:Union{Dates.CompoundPeriod, Dates.Period}) in Dates at /usr/share/julia/stdlib/v1.4/Dates/src/deprecated.jl:20\n",
       "[181] +(J::LinearAlgebra.UniformScaling, x::Number) in LinearAlgebra at /usr/share/julia/stdlib/v1.4/LinearAlgebra/src/uniformscaling.jl:109\n",
       "[182] +(x::Number, J::LinearAlgebra.UniformScaling) in LinearAlgebra at /usr/share/julia/stdlib/v1.4/LinearAlgebra/src/uniformscaling.jl:110\n",
       "[183] +(J1::LinearAlgebra.UniformScaling, J2::LinearAlgebra.UniformScaling) in LinearAlgebra at /usr/share/julia/stdlib/v1.4/LinearAlgebra/src/uniformscaling.jl:114\n",
       "[184] +(J::LinearAlgebra.UniformScaling, B::BitArray{2}) in LinearAlgebra at /usr/share/julia/stdlib/v1.4/LinearAlgebra/src/uniformscaling.jl:116\n",
       "[185] +(A::LinearAlgebra.UniformScaling, B::LinearAlgebra.Tridiagonal{#s664,V} where V<:AbstractArray{#s664,1} where #s664<:Number) in LinearAlgebra at /usr/share/julia/stdlib/v1.4/LinearAlgebra/src/special.jl:257\n",
       "[186] +(A::LinearAlgebra.UniformScaling, B::LinearAlgebra.SymTridiagonal{#s664,V} where V<:AbstractArray{#s664,1} where #s664<:Number) in LinearAlgebra at /usr/share/julia/stdlib/v1.4/LinearAlgebra/src/special.jl:262\n",
       "[187] +(A::LinearAlgebra.UniformScaling, B::LinearAlgebra.Bidiagonal{#s664,V} where V<:AbstractArray{#s664,1} where #s664<:Number) in LinearAlgebra at /usr/share/julia/stdlib/v1.4/LinearAlgebra/src/special.jl:267\n",
       "[188] +(A::LinearAlgebra.UniformScaling, B::LinearAlgebra.Diagonal{#s664,V} where V<:AbstractArray{#s664,1} where #s664<:Number) in LinearAlgebra at /usr/share/julia/stdlib/v1.4/LinearAlgebra/src/special.jl:272\n",
       "[189] +(a::LinearAlgebra.UniformScaling, b::StaticArrays.StaticArray{Tuple{N,M},T,2} where T where M where N) in StaticArrays at /home/mendez/.julia/packages/StaticArrays/N3rrI/src/linalg.jl:30\n",
       "[190] +(J::LinearAlgebra.UniformScaling, A::AbstractArray{T,2} where T) in LinearAlgebra at /usr/share/julia/stdlib/v1.4/LinearAlgebra/src/uniformscaling.jl:117\n",
       "[191] +(F::LinearAlgebra.Hessenberg, J::LinearAlgebra.UniformScaling) in LinearAlgebra at /usr/share/julia/stdlib/v1.4/LinearAlgebra/src/hessenberg.jl:559\n",
       "[192] +(J::LinearAlgebra.UniformScaling, F::LinearAlgebra.Hessenberg) in LinearAlgebra at /usr/share/julia/stdlib/v1.4/LinearAlgebra/src/hessenberg.jl:560\n",
       "[193] +(::ChainRulesCore.AbstractThunk, x::ChainRulesCore.NotImplemented) in ChainRulesCore at /home/mendez/.julia/packages/ChainRulesCore/8NXnp/src/tangent_arithmetic.jl:25\n",
       "[194] +(::ChainRulesCore.Tangent, x::ChainRulesCore.NotImplemented) in ChainRulesCore at /home/mendez/.julia/packages/ChainRulesCore/8NXnp/src/tangent_arithmetic.jl:25\n",
       "[195] +(a::ChainRulesCore.AbstractThunk, ::ChainRulesCore.NoTangent) in ChainRulesCore at /home/mendez/.julia/packages/ChainRulesCore/8NXnp/src/tangent_arithmetic.jl:60\n",
       "[196] +(a::ChainRulesCore.Tangent, ::ChainRulesCore.NoTangent) in ChainRulesCore at /home/mendez/.julia/packages/ChainRulesCore/8NXnp/src/tangent_arithmetic.jl:60\n",
       "[197] +(a::ChainRulesCore.AbstractThunk, ::ChainRulesCore.ZeroTangent) in ChainRulesCore at /home/mendez/.julia/packages/ChainRulesCore/8NXnp/src/tangent_arithmetic.jl:100\n",
       "[198] +(a::ChainRulesCore.Tangent, ::ChainRulesCore.ZeroTangent) in ChainRulesCore at /home/mendez/.julia/packages/ChainRulesCore/8NXnp/src/tangent_arithmetic.jl:100\n",
       "[199] +(a::ChainRulesCore.AbstractThunk, b::ChainRulesCore.AbstractThunk) in ChainRulesCore at /home/mendez/.julia/packages/ChainRulesCore/8NXnp/src/tangent_arithmetic.jl:119\n",
       "[200] +(a::ChainRulesCore.AbstractThunk, b::ChainRulesCore.Tangent) in ChainRulesCore at /home/mendez/.julia/packages/ChainRulesCore/8NXnp/src/tangent_arithmetic.jl:122\n",
       "[201] +(a::ChainRulesCore.Tangent, b::ChainRulesCore.AbstractThunk) in ChainRulesCore at /home/mendez/.julia/packages/ChainRulesCore/8NXnp/src/tangent_arithmetic.jl:123\n",
       "[202] +(a::ChainRulesCore.AbstractThunk, b) in ChainRulesCore at /home/mendez/.julia/packages/ChainRulesCore/8NXnp/src/tangent_arithmetic.jl:122\n",
       "[203] +(a::ChainRulesCore.Tangent{P,T} where T, b::ChainRulesCore.Tangent{P,T} where T) where P in ChainRulesCore at /home/mendez/.julia/packages/ChainRulesCore/8NXnp/src/tangent_arithmetic.jl:130\n",
       "[204] +(a::ChainRulesCore.Tangent{P,T} where T, b::P) where P in ChainRulesCore at /home/mendez/.julia/packages/ChainRulesCore/8NXnp/src/tangent_arithmetic.jl:146\n",
       "[205] +(x::ChainRulesCore.AbstractTangent) in ChainRulesCore at /home/mendez/.julia/packages/ChainRulesCore/8NXnp/src/tangent_types/abstract_tangent.jl:38\n",
       "[206] +(a::Dict, d::ChainRulesCore.Tangent{P,T} where T) where P in ChainRulesCore at /home/mendez/.julia/packages/ChainRulesCore/8NXnp/src/tangent_arithmetic.jl:145\n",
       "[207] +(a::Union{LMS, XYZ}, b::Union{LMS, XYZ}) in Colors at /home/mendez/.julia/packages/Colors/yDxFN/src/algorithms.jl:4\n",
       "[208] +(h::GeometryBasics.HyperRectangle{N,T}, move::Number) where {N, T} in GeometryBasics at /home/mendez/.julia/packages/GeometryBasics/pjtu1/src/primitives/rectangles.jl:267\n",
       "[209] +(h::GeometryBasics.HyperRectangle{N,T}, move::StaticArrays.StaticArray{Tuple{N},T,1} where T) where {N, T} in GeometryBasics at /home/mendez/.julia/packages/GeometryBasics/pjtu1/src/primitives/rectangles.jl:274\n",
       "[210] +(a::Measures.Length{U,T} where T, b::Measures.Length{U,T} where T) where U in Measures at /home/mendez/.julia/packages/Measures/0Zkai/src/length.jl:28\n",
       "[211] +(a::Measures.Measure, b::Measures.Measure) in Measures at /home/mendez/.julia/packages/Measures/0Zkai/src/operations.jl:41\n",
       "[212] +(a::Tuple{Vararg{Measures.Measure,N}}, b::Tuple{Vararg{Measures.Measure,N}}) where N in Measures at /home/mendez/.julia/packages/Measures/0Zkai/src/point.jl:22\n",
       "[213] +(a::Tuple{Vararg{Measures.Measure,N}} where N, b::Tuple{Vararg{Measures.Measure,N}} where N) in Measures at /home/mendez/.julia/packages/Measures/0Zkai/src/point.jl:15\n",
       "[214] +(h::GeometryTypes.HyperRectangle{N,T}, move::GeometryTypes.Vec{N,T} where T) where {N, T} in GeometryTypes at /home/mendez/.julia/packages/GeometryTypes/08XBK/src/hyperrectangles.jl:202\n",
       "[215] +(h::GeometryTypes.SimpleRectangle{T}, move::GeometryTypes.Vec{2,T} where T) where T in GeometryTypes at /home/mendez/.julia/packages/GeometryTypes/08XBK/src/hyperrectangles.jl:209\n",
       "[216] +(bb1::Measures.BoundingBox, bb2::Measures.BoundingBox) in Plots at /home/mendez/.julia/packages/Plots/uCh2y/src/layouts.jl:21\n",
       "[217] +(::Any, x::ChainRulesCore.NotImplemented) in ChainRulesCore at /home/mendez/.julia/packages/ChainRulesCore/8NXnp/src/tangent_arithmetic.jl:25\n",
       "[218] +(a, ::ChainRulesCore.NoTangent) in ChainRulesCore at /home/mendez/.julia/packages/ChainRulesCore/8NXnp/src/tangent_arithmetic.jl:60\n",
       "[219] +(a, ::ChainRulesCore.ZeroTangent) in ChainRulesCore at /home/mendez/.julia/packages/ChainRulesCore/8NXnp/src/tangent_arithmetic.jl:100\n",
       "[220] +(a, b::ChainRulesCore.AbstractThunk) in ChainRulesCore at /home/mendez/.julia/packages/ChainRulesCore/8NXnp/src/tangent_arithmetic.jl:123\n",
       "[221] +(a::P, d::ChainRulesCore.Tangent{P,T} where T) where P in ChainRulesCore at /home/mendez/.julia/packages/ChainRulesCore/8NXnp/src/tangent_arithmetic.jl:134\n",
       "[222] +(a, b, c, xs...) in Base at operators.jl:529"
      ]
     },
     "execution_count": 29,
     "metadata": {},
     "output_type": "execute_result"
    }
   ],
   "source": [
    "methods(+)"
   ]
  }
 ],
 "metadata": {
  "@webio": {
   "lastCommId": null,
   "lastKernelId": null
  },
  "kernelspec": {
   "display_name": "Julia 1.4.1",
   "language": "julia",
   "name": "julia-1.4"
  },
  "language_info": {
   "file_extension": ".jl",
   "mimetype": "application/julia",
   "name": "julia",
   "version": "1.4.1"
  }
 },
 "nbformat": 4,
 "nbformat_minor": 2
}
