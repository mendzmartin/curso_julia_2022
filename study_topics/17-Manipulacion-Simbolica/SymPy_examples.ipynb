{
 "cells": [
  {
   "cell_type": "code",
   "execution_count": null,
   "id": "9709c995-417d-40c3-a75d-ba1ecb7ed85e",
   "metadata": {},
   "outputs": [],
   "source": [
    "using SymPy\n",
    "import_from(sympy)\n",
    "using LegendrePolynomials"
   ]
  },
  {
   "cell_type": "code",
   "execution_count": null,
   "id": "fb5e81aa-00db-44a8-902a-6293cc4e80ac",
   "metadata": {},
   "outputs": [],
   "source": [
    "@vars x\n",
    "expr = sympy.Integral(log(x)^2, x)"
   ]
  },
  {
   "cell_type": "code",
   "execution_count": null,
   "id": "661f9fd5-de02-4003-9c9f-1e7e91209244",
   "metadata": {},
   "outputs": [],
   "source": [
    "expr.doit()"
   ]
  },
  {
   "cell_type": "code",
   "execution_count": null,
   "id": "3e7b5580-a5e2-4cd5-ad62-b284a547c2ee",
   "metadata": {},
   "outputs": [],
   "source": [
    "integrate(x^2, (x, 0, 1))"
   ]
  },
  {
   "cell_type": "code",
   "execution_count": null,
   "id": "29aa7a4f-942b-48b5-921e-db9339afcb0d",
   "metadata": {},
   "outputs": [],
   "source": [
    "integrate(log(x)^2, x)"
   ]
  },
  {
   "cell_type": "code",
   "execution_count": null,
   "id": "5d505908-230b-4d8f-af03-7be356eb7c9a",
   "metadata": {},
   "outputs": [],
   "source": [
    "@syms xx\n",
    "Pl(xx,3)"
   ]
  },
  {
   "cell_type": "code",
   "execution_count": null,
   "id": "805e6827-f05a-4150-9978-a14be9a8b576",
   "metadata": {},
   "outputs": [],
   "source": [
    "Pl(0.3,3)"
   ]
  },
  {
   "cell_type": "code",
   "execution_count": null,
   "id": "f9aace59-abef-4abf-9960-2b67bd821eb6",
   "metadata": {},
   "outputs": [],
   "source": []
  }
 ],
 "metadata": {
  "kernelspec": {
   "display_name": "Julia 1.7.2",
   "language": "julia",
   "name": "julia-1.7"
  },
  "language_info": {
   "file_extension": ".jl",
   "mimetype": "application/julia",
   "name": "julia",
   "version": "1.7.2"
  }
 },
 "nbformat": 4,
 "nbformat_minor": 5
}
